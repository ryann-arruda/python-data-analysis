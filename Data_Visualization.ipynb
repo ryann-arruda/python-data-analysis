{
 "cells": [
  {
   "cell_type": "markdown",
   "metadata": {
    "id": "XUnvejAehVXA"
   },
   "source": [
    "# **Dependencies**"
   ]
  },
  {
   "cell_type": "code",
   "execution_count": 1,
   "metadata": {
    "id": "QgqTHx2_hg76"
   },
   "outputs": [],
   "source": [
    "import pandas as pd\n",
    "import numpy as np\n",
    "import seaborn as sns\n",
    "import matplotlib.pyplot as plt"
   ]
  },
  {
   "cell_type": "markdown",
   "metadata": {
    "id": "XUnvejAehVXA"
   },
   "source": [
    "# **Deafult Settings**\n",
    "\n",
    "Some general settings used on the notebook"
   ]
  },
  {
   "cell_type": "code",
   "execution_count": 2,
   "metadata": {
    "id": "QgqTHx2_hg76"
   },
   "outputs": [],
   "source": [
    "# Set aspects of the visual theme for all matplotlib and seaborn plots.\n",
    "sns.set()"
   ]
  },
  {
   "cell_type": "markdown",
   "metadata": {
    "id": "yd_O9MwefkPZ"
   },
   "source": [
    "# **Loading and Processing Datasets**"
   ]
  },
  {
   "cell_type": "code",
   "execution_count": 3,
   "metadata": {
    "id": "5UyVtf88hS0F"
   },
   "outputs": [],
   "source": [
    "goalscorers = pd.read_csv('goalscorers.csv')\n",
    "shootouts = pd.read_csv('shootouts.csv')\n",
    "results = pd.read_csv('results.csv')"
   ]
  },
  {
   "cell_type": "markdown",
   "metadata": {
    "id": "q-NhivtUiinB"
   },
   "source": [
    "## **Goalscorers**"
   ]
  },
  {
   "cell_type": "code",
   "execution_count": 4,
   "metadata": {
    "colab": {
     "base_uri": "https://localhost:8080/",
     "height": 424
    },
    "id": "1-QS1hehjB5R",
    "outputId": "3996749b-26a6-4262-a53c-a7a6a7842de5"
   },
   "outputs": [
    {
     "data": {
      "text/html": [
       "<div>\n",
       "<style scoped>\n",
       "    .dataframe tbody tr th:only-of-type {\n",
       "        vertical-align: middle;\n",
       "    }\n",
       "\n",
       "    .dataframe tbody tr th {\n",
       "        vertical-align: top;\n",
       "    }\n",
       "\n",
       "    .dataframe thead th {\n",
       "        text-align: right;\n",
       "    }\n",
       "</style>\n",
       "<table border=\"1\" class=\"dataframe\">\n",
       "  <thead>\n",
       "    <tr style=\"text-align: right;\">\n",
       "      <th></th>\n",
       "      <th>date</th>\n",
       "      <th>home_team</th>\n",
       "      <th>away_team</th>\n",
       "      <th>team</th>\n",
       "      <th>scorer</th>\n",
       "      <th>minute</th>\n",
       "      <th>own_goal</th>\n",
       "      <th>penalty</th>\n",
       "      <th>year</th>\n",
       "    </tr>\n",
       "  </thead>\n",
       "  <tbody>\n",
       "    <tr>\n",
       "      <th>0</th>\n",
       "      <td>1916-07-02</td>\n",
       "      <td>Chile</td>\n",
       "      <td>Uruguay</td>\n",
       "      <td>Uruguay</td>\n",
       "      <td>José Piendibene</td>\n",
       "      <td>44.0</td>\n",
       "      <td>False</td>\n",
       "      <td>False</td>\n",
       "      <td>1916</td>\n",
       "    </tr>\n",
       "    <tr>\n",
       "      <th>1</th>\n",
       "      <td>1916-07-02</td>\n",
       "      <td>Chile</td>\n",
       "      <td>Uruguay</td>\n",
       "      <td>Uruguay</td>\n",
       "      <td>Isabelino Gradín</td>\n",
       "      <td>55.0</td>\n",
       "      <td>False</td>\n",
       "      <td>False</td>\n",
       "      <td>1916</td>\n",
       "    </tr>\n",
       "    <tr>\n",
       "      <th>2</th>\n",
       "      <td>1916-07-02</td>\n",
       "      <td>Chile</td>\n",
       "      <td>Uruguay</td>\n",
       "      <td>Uruguay</td>\n",
       "      <td>Isabelino Gradín</td>\n",
       "      <td>70.0</td>\n",
       "      <td>False</td>\n",
       "      <td>False</td>\n",
       "      <td>1916</td>\n",
       "    </tr>\n",
       "    <tr>\n",
       "      <th>3</th>\n",
       "      <td>1916-07-02</td>\n",
       "      <td>Chile</td>\n",
       "      <td>Uruguay</td>\n",
       "      <td>Uruguay</td>\n",
       "      <td>José Piendibene</td>\n",
       "      <td>75.0</td>\n",
       "      <td>False</td>\n",
       "      <td>False</td>\n",
       "      <td>1916</td>\n",
       "    </tr>\n",
       "    <tr>\n",
       "      <th>4</th>\n",
       "      <td>1916-07-06</td>\n",
       "      <td>Argentina</td>\n",
       "      <td>Chile</td>\n",
       "      <td>Argentina</td>\n",
       "      <td>Alberto Ohaco</td>\n",
       "      <td>2.0</td>\n",
       "      <td>False</td>\n",
       "      <td>False</td>\n",
       "      <td>1916</td>\n",
       "    </tr>\n",
       "  </tbody>\n",
       "</table>\n",
       "</div>"
      ],
      "text/plain": [
       "        date  home_team away_team       team            scorer  minute  \\\n",
       "0 1916-07-02      Chile   Uruguay    Uruguay   José Piendibene    44.0   \n",
       "1 1916-07-02      Chile   Uruguay    Uruguay  Isabelino Gradín    55.0   \n",
       "2 1916-07-02      Chile   Uruguay    Uruguay  Isabelino Gradín    70.0   \n",
       "3 1916-07-02      Chile   Uruguay    Uruguay   José Piendibene    75.0   \n",
       "4 1916-07-06  Argentina     Chile  Argentina     Alberto Ohaco     2.0   \n",
       "\n",
       "   own_goal  penalty  year  \n",
       "0     False    False  1916  \n",
       "1     False    False  1916  \n",
       "2     False    False  1916  \n",
       "3     False    False  1916  \n",
       "4     False    False  1916  "
      ]
     },
     "execution_count": 4,
     "metadata": {},
     "output_type": "execute_result"
    }
   ],
   "source": [
    "# Change type of date column to datetime\n",
    "goalscorers['date'] = pd.to_datetime(goalscorers.date)\n",
    "# Add column year\n",
    "goalscorers['year'] = goalscorers.date.map(lambda x: x.year)\n",
    "goalscorers.head(5)"
   ]
  },
  {
   "cell_type": "markdown",
   "metadata": {
    "id": "5-JMR4DijExJ"
   },
   "source": [
    "## **Shootouts**"
   ]
  },
  {
   "cell_type": "code",
   "execution_count": 5,
   "metadata": {
    "colab": {
     "base_uri": "https://localhost:8080/",
     "height": 424
    },
    "id": "Wn_uEhHljJTI",
    "outputId": "88bf2796-45df-48e4-bf0b-aa7d53e384b5"
   },
   "outputs": [
    {
     "data": {
      "text/html": [
       "<div>\n",
       "<style scoped>\n",
       "    .dataframe tbody tr th:only-of-type {\n",
       "        vertical-align: middle;\n",
       "    }\n",
       "\n",
       "    .dataframe tbody tr th {\n",
       "        vertical-align: top;\n",
       "    }\n",
       "\n",
       "    .dataframe thead th {\n",
       "        text-align: right;\n",
       "    }\n",
       "</style>\n",
       "<table border=\"1\" class=\"dataframe\">\n",
       "  <thead>\n",
       "    <tr style=\"text-align: right;\">\n",
       "      <th></th>\n",
       "      <th>date</th>\n",
       "      <th>home_team</th>\n",
       "      <th>away_team</th>\n",
       "      <th>winner</th>\n",
       "    </tr>\n",
       "  </thead>\n",
       "  <tbody>\n",
       "    <tr>\n",
       "      <th>0</th>\n",
       "      <td>1967-08-22</td>\n",
       "      <td>India</td>\n",
       "      <td>Taiwan</td>\n",
       "      <td>Taiwan</td>\n",
       "    </tr>\n",
       "    <tr>\n",
       "      <th>1</th>\n",
       "      <td>1971-11-14</td>\n",
       "      <td>South Korea</td>\n",
       "      <td>Vietnam Republic</td>\n",
       "      <td>South Korea</td>\n",
       "    </tr>\n",
       "    <tr>\n",
       "      <th>2</th>\n",
       "      <td>1972-05-07</td>\n",
       "      <td>South Korea</td>\n",
       "      <td>Iraq</td>\n",
       "      <td>Iraq</td>\n",
       "    </tr>\n",
       "    <tr>\n",
       "      <th>3</th>\n",
       "      <td>1972-05-17</td>\n",
       "      <td>Thailand</td>\n",
       "      <td>South Korea</td>\n",
       "      <td>South Korea</td>\n",
       "    </tr>\n",
       "    <tr>\n",
       "      <th>4</th>\n",
       "      <td>1972-05-19</td>\n",
       "      <td>Thailand</td>\n",
       "      <td>Cambodia</td>\n",
       "      <td>Thailand</td>\n",
       "    </tr>\n",
       "  </tbody>\n",
       "</table>\n",
       "</div>"
      ],
      "text/plain": [
       "         date    home_team         away_team       winner\n",
       "0  1967-08-22        India            Taiwan       Taiwan\n",
       "1  1971-11-14  South Korea  Vietnam Republic  South Korea\n",
       "2  1972-05-07  South Korea              Iraq         Iraq\n",
       "3  1972-05-17     Thailand       South Korea  South Korea\n",
       "4  1972-05-19     Thailand          Cambodia     Thailand"
      ]
     },
     "execution_count": 5,
     "metadata": {},
     "output_type": "execute_result"
    }
   ],
   "source": [
    "shootouts.head(5)"
   ]
  },
  {
   "cell_type": "markdown",
   "metadata": {
    "id": "LwOnukQPjLq2"
   },
   "source": [
    "## **Results**"
   ]
  },
  {
   "cell_type": "code",
   "execution_count": 30,
   "metadata": {
    "colab": {
     "base_uri": "https://localhost:8080/",
     "height": 659
    },
    "id": "aWvXbmQQjOnv",
    "outputId": "083d4dc7-f9aa-48cb-e64c-cf50a27c3a67",
    "scrolled": false
   },
   "outputs": [
    {
     "data": {
      "text/html": [
       "<div>\n",
       "<style scoped>\n",
       "    .dataframe tbody tr th:only-of-type {\n",
       "        vertical-align: middle;\n",
       "    }\n",
       "\n",
       "    .dataframe tbody tr th {\n",
       "        vertical-align: top;\n",
       "    }\n",
       "\n",
       "    .dataframe thead th {\n",
       "        text-align: right;\n",
       "    }\n",
       "</style>\n",
       "<table border=\"1\" class=\"dataframe\">\n",
       "  <thead>\n",
       "    <tr style=\"text-align: right;\">\n",
       "      <th></th>\n",
       "      <th>date</th>\n",
       "      <th>home_team</th>\n",
       "      <th>away_team</th>\n",
       "      <th>home_score</th>\n",
       "      <th>away_score</th>\n",
       "      <th>tournament</th>\n",
       "      <th>city</th>\n",
       "      <th>country</th>\n",
       "      <th>neutral</th>\n",
       "      <th>goal_dif</th>\n",
       "      <th>total_goals</th>\n",
       "      <th>year</th>\n",
       "    </tr>\n",
       "  </thead>\n",
       "  <tbody>\n",
       "    <tr>\n",
       "      <th>0</th>\n",
       "      <td>1872-11-30</td>\n",
       "      <td>Scotland</td>\n",
       "      <td>England</td>\n",
       "      <td>0</td>\n",
       "      <td>0</td>\n",
       "      <td>Friendly</td>\n",
       "      <td>Glasgow</td>\n",
       "      <td>Scotland</td>\n",
       "      <td>False</td>\n",
       "      <td>0</td>\n",
       "      <td>0</td>\n",
       "      <td>1872</td>\n",
       "    </tr>\n",
       "    <tr>\n",
       "      <th>1</th>\n",
       "      <td>1873-03-08</td>\n",
       "      <td>England</td>\n",
       "      <td>Scotland</td>\n",
       "      <td>4</td>\n",
       "      <td>2</td>\n",
       "      <td>Friendly</td>\n",
       "      <td>London</td>\n",
       "      <td>England</td>\n",
       "      <td>False</td>\n",
       "      <td>2</td>\n",
       "      <td>6</td>\n",
       "      <td>1873</td>\n",
       "    </tr>\n",
       "    <tr>\n",
       "      <th>2</th>\n",
       "      <td>1874-03-07</td>\n",
       "      <td>Scotland</td>\n",
       "      <td>England</td>\n",
       "      <td>2</td>\n",
       "      <td>1</td>\n",
       "      <td>Friendly</td>\n",
       "      <td>Glasgow</td>\n",
       "      <td>Scotland</td>\n",
       "      <td>False</td>\n",
       "      <td>1</td>\n",
       "      <td>3</td>\n",
       "      <td>1874</td>\n",
       "    </tr>\n",
       "    <tr>\n",
       "      <th>3</th>\n",
       "      <td>1875-03-06</td>\n",
       "      <td>England</td>\n",
       "      <td>Scotland</td>\n",
       "      <td>2</td>\n",
       "      <td>2</td>\n",
       "      <td>Friendly</td>\n",
       "      <td>London</td>\n",
       "      <td>England</td>\n",
       "      <td>False</td>\n",
       "      <td>0</td>\n",
       "      <td>4</td>\n",
       "      <td>1875</td>\n",
       "    </tr>\n",
       "    <tr>\n",
       "      <th>4</th>\n",
       "      <td>1876-03-04</td>\n",
       "      <td>Scotland</td>\n",
       "      <td>England</td>\n",
       "      <td>3</td>\n",
       "      <td>0</td>\n",
       "      <td>Friendly</td>\n",
       "      <td>Glasgow</td>\n",
       "      <td>Scotland</td>\n",
       "      <td>False</td>\n",
       "      <td>3</td>\n",
       "      <td>3</td>\n",
       "      <td>1876</td>\n",
       "    </tr>\n",
       "    <tr>\n",
       "      <th>5</th>\n",
       "      <td>1876-03-25</td>\n",
       "      <td>Scotland</td>\n",
       "      <td>Wales</td>\n",
       "      <td>4</td>\n",
       "      <td>0</td>\n",
       "      <td>Friendly</td>\n",
       "      <td>Glasgow</td>\n",
       "      <td>Scotland</td>\n",
       "      <td>False</td>\n",
       "      <td>4</td>\n",
       "      <td>4</td>\n",
       "      <td>1876</td>\n",
       "    </tr>\n",
       "    <tr>\n",
       "      <th>6</th>\n",
       "      <td>1877-03-03</td>\n",
       "      <td>England</td>\n",
       "      <td>Scotland</td>\n",
       "      <td>1</td>\n",
       "      <td>3</td>\n",
       "      <td>Friendly</td>\n",
       "      <td>London</td>\n",
       "      <td>England</td>\n",
       "      <td>False</td>\n",
       "      <td>-2</td>\n",
       "      <td>4</td>\n",
       "      <td>1877</td>\n",
       "    </tr>\n",
       "    <tr>\n",
       "      <th>7</th>\n",
       "      <td>1877-03-05</td>\n",
       "      <td>Wales</td>\n",
       "      <td>Scotland</td>\n",
       "      <td>0</td>\n",
       "      <td>2</td>\n",
       "      <td>Friendly</td>\n",
       "      <td>Wrexham</td>\n",
       "      <td>Wales</td>\n",
       "      <td>False</td>\n",
       "      <td>-2</td>\n",
       "      <td>2</td>\n",
       "      <td>1877</td>\n",
       "    </tr>\n",
       "    <tr>\n",
       "      <th>8</th>\n",
       "      <td>1878-03-02</td>\n",
       "      <td>Scotland</td>\n",
       "      <td>England</td>\n",
       "      <td>7</td>\n",
       "      <td>2</td>\n",
       "      <td>Friendly</td>\n",
       "      <td>Glasgow</td>\n",
       "      <td>Scotland</td>\n",
       "      <td>False</td>\n",
       "      <td>5</td>\n",
       "      <td>9</td>\n",
       "      <td>1878</td>\n",
       "    </tr>\n",
       "    <tr>\n",
       "      <th>9</th>\n",
       "      <td>1878-03-23</td>\n",
       "      <td>Scotland</td>\n",
       "      <td>Wales</td>\n",
       "      <td>9</td>\n",
       "      <td>0</td>\n",
       "      <td>Friendly</td>\n",
       "      <td>Glasgow</td>\n",
       "      <td>Scotland</td>\n",
       "      <td>False</td>\n",
       "      <td>9</td>\n",
       "      <td>9</td>\n",
       "      <td>1878</td>\n",
       "    </tr>\n",
       "  </tbody>\n",
       "</table>\n",
       "</div>"
      ],
      "text/plain": [
       "        date home_team away_team  home_score  away_score tournament     city  \\\n",
       "0 1872-11-30  Scotland   England           0           0   Friendly  Glasgow   \n",
       "1 1873-03-08   England  Scotland           4           2   Friendly   London   \n",
       "2 1874-03-07  Scotland   England           2           1   Friendly  Glasgow   \n",
       "3 1875-03-06   England  Scotland           2           2   Friendly   London   \n",
       "4 1876-03-04  Scotland   England           3           0   Friendly  Glasgow   \n",
       "5 1876-03-25  Scotland     Wales           4           0   Friendly  Glasgow   \n",
       "6 1877-03-03   England  Scotland           1           3   Friendly   London   \n",
       "7 1877-03-05     Wales  Scotland           0           2   Friendly  Wrexham   \n",
       "8 1878-03-02  Scotland   England           7           2   Friendly  Glasgow   \n",
       "9 1878-03-23  Scotland     Wales           9           0   Friendly  Glasgow   \n",
       "\n",
       "    country  neutral  goal_dif  total_goals  year  \n",
       "0  Scotland    False         0            0  1872  \n",
       "1   England    False         2            6  1873  \n",
       "2  Scotland    False         1            3  1874  \n",
       "3   England    False         0            4  1875  \n",
       "4  Scotland    False         3            3  1876  \n",
       "5  Scotland    False         4            4  1876  \n",
       "6   England    False        -2            4  1877  \n",
       "7     Wales    False        -2            2  1877  \n",
       "8  Scotland    False         5            9  1878  \n",
       "9  Scotland    False         9            9  1878  "
      ]
     },
     "execution_count": 30,
     "metadata": {},
     "output_type": "execute_result"
    }
   ],
   "source": [
    "# Create a goal_dif column\n",
    "results['goal_dif'] = results['home_score'] - results['away_score']\n",
    "# Create a total_goals column\n",
    "results['total_goals'] = results['home_score'] + results['away_score']\n",
    "# Change type of date column to datetime\n",
    "results['date'] = pd.to_datetime(results.date)\n",
    "# Add column year\n",
    "results['year'] = results.date.map(lambda x: x.year)\n",
    "results.head(10)"
   ]
  },
  {
   "cell_type": "markdown",
   "metadata": {
    "id": "LwOnukQPjLq2"
   },
   "source": [
    "## **Bonus - Elo Ranking**\n",
    "\n",
    "The World Football Elo Ratings are based on the Elo rating system. This system is used by FIDE, the international chess federation, to rate chess players.\n",
    "\n",
    "We can apply the Elo rating system to international football, by adding a weighting for the kind of match, an adjustment for the home team advantage, and an adjustment for goal difference in the match result.\n",
    "\n",
    "All teams must start with 1500 points.\n",
    "\n",
    "The ratings are based on the following formulas:\n",
    "\n",
    "Rn = Ro + G x K × (W - We)\n",
    "\n",
    "- Rn is the new rating, Ro is the old (pre-match) rating.\n",
    "- G is a goal difference index\n",
    "    - If 0 or 1: 1\n",
    "    - If 2: 3/2\n",
    "    - If 3 or more: (11 + goal_dif) / 8\n",
    "- K is the weight constant for the tournament played (We made an adjustmant from the reference):\n",
    "    - 60 for World Cup Matches;\n",
    "    - 50 for continental championships and major intercontinental tournaments;\n",
    "    - 40 for World Cup qualifiers and major tournaments;\n",
    "    - 30 for Continental qualifiers and major tournaments;\n",
    "    - 20 for Friendly and other tournaments\n",
    "- W is the result of the game (1 for a win, 0.5 for a draw, and 0 for a loss).\n",
    "- We is the expected result (win expectancy), either from the chart or the following formula:\n",
    "    - We = 1 / (10**(-dr/400) + 1)\n",
    "    - dr equals the difference in ratings plus 100 points for a team playing at home.\n",
    "    \n",
    "Reference: https://www.eloratings.net/about"
   ]
  },
  {
   "cell_type": "markdown",
   "metadata": {},
   "source": [
    "### **Functions implementation**"
   ]
  },
  {
   "cell_type": "code",
   "execution_count": 7,
   "metadata": {
    "colab": {
     "base_uri": "https://localhost:8080/",
     "height": 659
    },
    "id": "aWvXbmQQjOnv",
    "outputId": "083d4dc7-f9aa-48cb-e64c-cf50a27c3a67",
    "scrolled": true
   },
   "outputs": [],
   "source": [
    "# Return expected result probabilty\n",
    "def expected_result(ranking_a, ranking_b, home_advantage):\n",
    "    return 1 / (10**(-((ranking_a+home_advantage)-ranking_b)/400) + 1)\n",
    "\n",
    "# Return result by goal diference\n",
    "def result(goal_dif):\n",
    "    # return 0 to lost\n",
    "    if goal_dif < 0:\n",
    "        return 0\n",
    "    # return 0.5 to draw\n",
    "    elif goal_dif == 0:\n",
    "        return 0.5\n",
    "    # return 1 to win\n",
    "    return 1\n",
    "\n",
    "\n",
    "# The number of goals is taken into account by use of a goal difference index\n",
    "def goal_index(goal_dif):\n",
    "    goal_dif = abs(goal_dif)\n",
    "    if goal_dif <= 1:\n",
    "        return 1\n",
    "    elif goal_dif == 2:\n",
    "        return 3/2\n",
    "    else:\n",
    "        return (11 + goal_dif) / 8\n",
    "\n",
    "\n",
    "# Return tournament weight constant\n",
    "def tournament_weight(tournament):\n",
    "    # 60 points\n",
    "    world_cup = 'FIFA World Cup'\n",
    "    # 50 points\n",
    "    continental = ['AFC Asian Cup', 'Africa Cup of Nations',\n",
    "                  'CONCACAF Gold Cup', 'Copa América', 'OFC Nations Cup',\n",
    "                  'UEFA European Championship', 'CONCACAF Cup', 'AFC Solidarity Cup',\n",
    "                  'AFC Challenge Cup', 'Confederations Cup', 'CONMEBOL–UEFA Cup of Champions']\n",
    "    # 40 points\n",
    "    international_qualifiers_and_majors = ['UEFA Nations League', 'FIFA World Cup qualification',  \n",
    "                                           'CONCACAF Nations League', 'African Nations Championship']\n",
    "    # 30 points\n",
    "    continental_qualifiers = ['UEFA Euro qualification', 'African Cup of Nations qualification', 'AFC Asian Cup qualification',\n",
    "                              'Copa América qualification']\n",
    "    # 20 points + others\n",
    "    friendly = 'Friendly'\n",
    "    \n",
    "    if tournament == world_cup:\n",
    "        return 60\n",
    "    elif tournament in continental:\n",
    "        return 50\n",
    "    elif tournament in international_qualifiers_and_majors:\n",
    "        return 40\n",
    "    elif tournament in continental_qualifiers:\n",
    "        return 30\n",
    "    elif tournament == friendly:\n",
    "        return 20\n",
    "    else:\n",
    "        return 20\n",
    "\n",
    "\n",
    "# Calculate change of points\n",
    "def points_change(ranking_a, ranking_b, goal_dif, tournament, home_advantage=100):\n",
    "    g = goal_index(goal_dif)\n",
    "    k = tournament_weight(tournament)\n",
    "    w = result(goal_dif)\n",
    "    we = expected_result(ranking_a, ranking_b, home_advantage)\n",
    "    return g * k * (w - we)\n",
    "\n",
    "\n",
    "# Return the new ranking of the team\n",
    "def elo(ranking_a, ranking_b, goal_dif, tournament, neutral, home=True):\n",
    "    if neutral and home:\n",
    "        return ranking_a + points_change(ranking_a, ranking_b, goal_dif, tournament, home_advantage=0)\n",
    "    elif neutral and not home:\n",
    "        return ranking_b - points_change(ranking_a, ranking_b, goal_dif, tournament, home_advantage=0)\n",
    "    elif home:\n",
    "        return ranking_a + points_change(ranking_a, ranking_b, goal_dif, tournament, home_advantage=100)\n",
    "    return ranking_b - points_change(ranking_a, ranking_b, goal_dif, tournament, home_advantage=100)"
   ]
  },
  {
   "cell_type": "markdown",
   "metadata": {},
   "source": [
    "### **Data Processing**"
   ]
  },
  {
   "cell_type": "code",
   "execution_count": 8,
   "metadata": {
    "colab": {
     "base_uri": "https://localhost:8080/",
     "height": 659
    },
    "id": "aWvXbmQQjOnv",
    "outputId": "083d4dc7-f9aa-48cb-e64c-cf50a27c3a67",
    "scrolled": true
   },
   "outputs": [
    {
     "data": {
      "text/html": [
       "<div>\n",
       "<style scoped>\n",
       "    .dataframe tbody tr th:only-of-type {\n",
       "        vertical-align: middle;\n",
       "    }\n",
       "\n",
       "    .dataframe tbody tr th {\n",
       "        vertical-align: top;\n",
       "    }\n",
       "\n",
       "    .dataframe thead th {\n",
       "        text-align: right;\n",
       "    }\n",
       "</style>\n",
       "<table border=\"1\" class=\"dataframe\">\n",
       "  <thead>\n",
       "    <tr style=\"text-align: right;\">\n",
       "      <th></th>\n",
       "      <th>country</th>\n",
       "      <th>1872</th>\n",
       "      <th>1873</th>\n",
       "      <th>1874</th>\n",
       "      <th>1875</th>\n",
       "      <th>1876</th>\n",
       "      <th>1877</th>\n",
       "      <th>1878</th>\n",
       "      <th>1879</th>\n",
       "      <th>1880</th>\n",
       "      <th>...</th>\n",
       "      <th>2014</th>\n",
       "      <th>2015</th>\n",
       "      <th>2016</th>\n",
       "      <th>2017</th>\n",
       "      <th>2018</th>\n",
       "      <th>2019</th>\n",
       "      <th>2020</th>\n",
       "      <th>2021</th>\n",
       "      <th>2022</th>\n",
       "      <th>2023</th>\n",
       "    </tr>\n",
       "  </thead>\n",
       "  <tbody>\n",
       "    <tr>\n",
       "      <th>0</th>\n",
       "      <td>Abkhazia</td>\n",
       "      <td>1500.0</td>\n",
       "      <td>1500.0</td>\n",
       "      <td>1500.0</td>\n",
       "      <td>1500.0</td>\n",
       "      <td>1500.0</td>\n",
       "      <td>1500.0</td>\n",
       "      <td>1500.0</td>\n",
       "      <td>1500.0</td>\n",
       "      <td>1500.0</td>\n",
       "      <td>...</td>\n",
       "      <td>1495.795646</td>\n",
       "      <td>1495.795646</td>\n",
       "      <td>1541.851957</td>\n",
       "      <td>1537.114724</td>\n",
       "      <td>1573.851851</td>\n",
       "      <td>1590.416934</td>\n",
       "      <td>1590.416934</td>\n",
       "      <td>1590.416934</td>\n",
       "      <td>1590.416934</td>\n",
       "      <td>1590.416934</td>\n",
       "    </tr>\n",
       "    <tr>\n",
       "      <th>1</th>\n",
       "      <td>Afghanistan</td>\n",
       "      <td>1500.0</td>\n",
       "      <td>1500.0</td>\n",
       "      <td>1500.0</td>\n",
       "      <td>1500.0</td>\n",
       "      <td>1500.0</td>\n",
       "      <td>1500.0</td>\n",
       "      <td>1500.0</td>\n",
       "      <td>1500.0</td>\n",
       "      <td>1500.0</td>\n",
       "      <td>...</td>\n",
       "      <td>1297.171850</td>\n",
       "      <td>1322.079335</td>\n",
       "      <td>1326.033712</td>\n",
       "      <td>1334.662828</td>\n",
       "      <td>1327.902339</td>\n",
       "      <td>1323.648908</td>\n",
       "      <td>1323.648908</td>\n",
       "      <td>1327.496183</td>\n",
       "      <td>1292.290165</td>\n",
       "      <td>1292.290165</td>\n",
       "    </tr>\n",
       "    <tr>\n",
       "      <th>2</th>\n",
       "      <td>Albania</td>\n",
       "      <td>1500.0</td>\n",
       "      <td>1500.0</td>\n",
       "      <td>1500.0</td>\n",
       "      <td>1500.0</td>\n",
       "      <td>1500.0</td>\n",
       "      <td>1500.0</td>\n",
       "      <td>1500.0</td>\n",
       "      <td>1500.0</td>\n",
       "      <td>1500.0</td>\n",
       "      <td>...</td>\n",
       "      <td>1611.563089</td>\n",
       "      <td>1632.313054</td>\n",
       "      <td>1599.557607</td>\n",
       "      <td>1623.529074</td>\n",
       "      <td>1539.358011</td>\n",
       "      <td>1554.754631</td>\n",
       "      <td>1578.002721</td>\n",
       "      <td>1608.412824</td>\n",
       "      <td>1571.702703</td>\n",
       "      <td>1568.422788</td>\n",
       "    </tr>\n",
       "    <tr>\n",
       "      <th>3</th>\n",
       "      <td>Alderney</td>\n",
       "      <td>1500.0</td>\n",
       "      <td>1500.0</td>\n",
       "      <td>1500.0</td>\n",
       "      <td>1500.0</td>\n",
       "      <td>1500.0</td>\n",
       "      <td>1500.0</td>\n",
       "      <td>1500.0</td>\n",
       "      <td>1500.0</td>\n",
       "      <td>1500.0</td>\n",
       "      <td>...</td>\n",
       "      <td>1401.560612</td>\n",
       "      <td>1359.478499</td>\n",
       "      <td>1359.478499</td>\n",
       "      <td>1347.580703</td>\n",
       "      <td>1347.580703</td>\n",
       "      <td>1340.406325</td>\n",
       "      <td>1340.406325</td>\n",
       "      <td>1340.406325</td>\n",
       "      <td>1340.406325</td>\n",
       "      <td>1340.406325</td>\n",
       "    </tr>\n",
       "    <tr>\n",
       "      <th>4</th>\n",
       "      <td>Algeria</td>\n",
       "      <td>1500.0</td>\n",
       "      <td>1500.0</td>\n",
       "      <td>1500.0</td>\n",
       "      <td>1500.0</td>\n",
       "      <td>1500.0</td>\n",
       "      <td>1500.0</td>\n",
       "      <td>1500.0</td>\n",
       "      <td>1500.0</td>\n",
       "      <td>1500.0</td>\n",
       "      <td>...</td>\n",
       "      <td>1747.113271</td>\n",
       "      <td>1748.196510</td>\n",
       "      <td>1722.458934</td>\n",
       "      <td>1667.296094</td>\n",
       "      <td>1628.919370</td>\n",
       "      <td>1753.821646</td>\n",
       "      <td>1768.790654</td>\n",
       "      <td>1829.319128</td>\n",
       "      <td>1806.916842</td>\n",
       "      <td>1810.859116</td>\n",
       "    </tr>\n",
       "  </tbody>\n",
       "</table>\n",
       "<p>5 rows × 153 columns</p>\n",
       "</div>"
      ],
      "text/plain": [
       "       country    1872    1873    1874    1875    1876    1877    1878  \\\n",
       "0     Abkhazia  1500.0  1500.0  1500.0  1500.0  1500.0  1500.0  1500.0   \n",
       "1  Afghanistan  1500.0  1500.0  1500.0  1500.0  1500.0  1500.0  1500.0   \n",
       "2      Albania  1500.0  1500.0  1500.0  1500.0  1500.0  1500.0  1500.0   \n",
       "3     Alderney  1500.0  1500.0  1500.0  1500.0  1500.0  1500.0  1500.0   \n",
       "4      Algeria  1500.0  1500.0  1500.0  1500.0  1500.0  1500.0  1500.0   \n",
       "\n",
       "     1879    1880  ...         2014         2015         2016         2017  \\\n",
       "0  1500.0  1500.0  ...  1495.795646  1495.795646  1541.851957  1537.114724   \n",
       "1  1500.0  1500.0  ...  1297.171850  1322.079335  1326.033712  1334.662828   \n",
       "2  1500.0  1500.0  ...  1611.563089  1632.313054  1599.557607  1623.529074   \n",
       "3  1500.0  1500.0  ...  1401.560612  1359.478499  1359.478499  1347.580703   \n",
       "4  1500.0  1500.0  ...  1747.113271  1748.196510  1722.458934  1667.296094   \n",
       "\n",
       "          2018         2019         2020         2021         2022  \\\n",
       "0  1573.851851  1590.416934  1590.416934  1590.416934  1590.416934   \n",
       "1  1327.902339  1323.648908  1323.648908  1327.496183  1292.290165   \n",
       "2  1539.358011  1554.754631  1578.002721  1608.412824  1571.702703   \n",
       "3  1347.580703  1340.406325  1340.406325  1340.406325  1340.406325   \n",
       "4  1628.919370  1753.821646  1768.790654  1829.319128  1806.916842   \n",
       "\n",
       "          2023  \n",
       "0  1590.416934  \n",
       "1  1292.290165  \n",
       "2  1568.422788  \n",
       "3  1340.406325  \n",
       "4  1810.859116  \n",
       "\n",
       "[5 rows x 153 columns]"
      ]
     },
     "execution_count": 8,
     "metadata": {},
     "output_type": "execute_result"
    }
   ],
   "source": [
    "# Assigning default rating of 1500 to each team\n",
    "unique_team_list = np.unique(pd.concat([results.home_team, results.away_team], ignore_index=True))\n",
    "rating_dict = {team:1500 for team in unique_team_list}\n",
    "# Assign each year of dataset\n",
    "year_list = results.year.unique()\n",
    "year_dict = dict()\n",
    "\n",
    "# Itarate years to calculate elo ranking\n",
    "for year in year_list:\n",
    "    # Select mask with year of the iteration\n",
    "    mask = results['year'] == year\n",
    "    results_temp = results[mask][['home_team', 'away_team', 'goal_dif', 'tournament', 'neutral']]\n",
    "    \n",
    "    # Iterate dataframe to calculate elo ranking changes\n",
    "    for index, row in results_temp.iterrows():\n",
    "        \n",
    "        # Get home and away teams names\n",
    "        home_team = row.home_team\n",
    "        away_team = row.away_team\n",
    "        \n",
    "        # Get other informations\n",
    "        goal_dif = row.goal_dif\n",
    "        tournament = row.tournament\n",
    "        neutral = row.neutral\n",
    "        \n",
    "        # Get home and away teams scores\n",
    "        home_team_score = rating_dict[home_team]\n",
    "        away_team_score = rating_dict[away_team]\n",
    "        \n",
    "        # Calculate new scores according to result of the match\n",
    "        home_team_score = elo(home_team_score, away_team_score, goal_dif, tournament, neutral, home=True)\n",
    "        away_team_score = elo(home_team_score, away_team_score, goal_dif, tournament, neutral, home=False)\n",
    "        \n",
    "        # Assign new scores\n",
    "        rating_dict[home_team] = home_team_score\n",
    "        rating_dict[away_team] = away_team_score\n",
    "\n",
    "    # Transform rating_dict into DataFrame\n",
    "    year_dict[year] = rating_dict.copy()\n",
    "\n",
    "country_ranking = pd.DataFrame.from_dict(year_dict)\n",
    "country_ranking = country_ranking.reset_index().rename(columns={'index': 'country'})\n",
    "country_ranking.head()"
   ]
  },
  {
   "cell_type": "markdown",
   "metadata": {},
   "source": [
    "### Adding features"
   ]
  },
  {
   "cell_type": "code",
   "execution_count": 9,
   "metadata": {},
   "outputs": [
    {
     "data": {
      "text/html": [
       "<div>\n",
       "<style scoped>\n",
       "    .dataframe tbody tr th:only-of-type {\n",
       "        vertical-align: middle;\n",
       "    }\n",
       "\n",
       "    .dataframe tbody tr th {\n",
       "        vertical-align: top;\n",
       "    }\n",
       "\n",
       "    .dataframe thead th {\n",
       "        text-align: right;\n",
       "    }\n",
       "</style>\n",
       "<table border=\"1\" class=\"dataframe\">\n",
       "  <thead>\n",
       "    <tr style=\"text-align: right;\">\n",
       "      <th></th>\n",
       "      <th>country</th>\n",
       "      <th>2023</th>\n",
       "      <th>confederation</th>\n",
       "      <th>code</th>\n",
       "    </tr>\n",
       "  </thead>\n",
       "  <tbody>\n",
       "    <tr>\n",
       "      <th>0</th>\n",
       "      <td>Abkhazia</td>\n",
       "      <td>1590.416934</td>\n",
       "      <td>Not Found</td>\n",
       "      <td>NaN</td>\n",
       "    </tr>\n",
       "    <tr>\n",
       "      <th>1</th>\n",
       "      <td>Afghanistan</td>\n",
       "      <td>1292.290165</td>\n",
       "      <td>AFC</td>\n",
       "      <td>:af:</td>\n",
       "    </tr>\n",
       "    <tr>\n",
       "      <th>2</th>\n",
       "      <td>Albania</td>\n",
       "      <td>1568.422788</td>\n",
       "      <td>UEFA</td>\n",
       "      <td>:al:</td>\n",
       "    </tr>\n",
       "    <tr>\n",
       "      <th>3</th>\n",
       "      <td>Alderney</td>\n",
       "      <td>1340.406325</td>\n",
       "      <td>Not Found</td>\n",
       "      <td>NaN</td>\n",
       "    </tr>\n",
       "    <tr>\n",
       "      <th>4</th>\n",
       "      <td>Algeria</td>\n",
       "      <td>1810.859116</td>\n",
       "      <td>CAF</td>\n",
       "      <td>:dz:</td>\n",
       "    </tr>\n",
       "  </tbody>\n",
       "</table>\n",
       "</div>"
      ],
      "text/plain": [
       "       country         2023 confederation  code\n",
       "0     Abkhazia  1590.416934     Not Found   NaN\n",
       "1  Afghanistan  1292.290165           AFC  :af:\n",
       "2      Albania  1568.422788          UEFA  :al:\n",
       "3     Alderney  1340.406325     Not Found   NaN\n",
       "4      Algeria  1810.859116           CAF  :dz:"
      ]
     },
     "execution_count": 9,
     "metadata": {},
     "output_type": "execute_result"
    }
   ],
   "source": [
    "# Add country confederation\n",
    "country_confederation = pd.read_csv('https://raw.githubusercontent.com/fivethirtyeight/data/master/fifa/fifa_countries_audience.csv')\n",
    "country_confederation_country = np.array(country_confederation.country)\n",
    "country_confederation_confed = np.array(country_confederation.confederation)\n",
    "country_confederation_dict = dict(zip(country_confederation_country, country_confederation_confed))\n",
    "country_confederation_dict['England'] = 'UEFA'\n",
    "country_confederation_dict['Scotland'] = 'UEFA'\n",
    "country_ranking['confederation'] = country_ranking['country'].apply(lambda x : country_confederation_dict.get(x))\n",
    "country_ranking.confederation.fillna('Not Found', inplace=True)\n",
    "\n",
    "# Add country shortcode\n",
    "country_shortcode = pd.read_csv('https://raw.githubusercontent.com/lukes/ISO-3166-Countries-with-Regional-Codes/master/all/all.csv')\n",
    "country_code_name = np.array(country_shortcode.name)\n",
    "country_code_alpha = np.array(country_shortcode['alpha-2'])\n",
    "country_code_dict = dict(zip(country_code_name, country_code_alpha))\n",
    "country_ranking['code'] = country_ranking['country'].apply(lambda x : country_code_dict.get(x))\n",
    "country_ranking.code = ':' + country_ranking.code.str.lower() + ':'\n",
    "country_ranking[['country', 2023, 'confederation', 'code']].head()"
   ]
  },
  {
   "cell_type": "markdown",
   "metadata": {
    "id": "btthrLwhqwCe"
   },
   "source": [
    "# **Gráfico de Dispersão**"
   ]
  },
  {
   "cell_type": "code",
   "execution_count": null,
   "metadata": {
    "id": "p2-fpflQq2Jk"
   },
   "outputs": [],
   "source": []
  },
  {
   "cell_type": "markdown",
   "metadata": {
    "id": "Rihkn4tVjQ4y"
   },
   "source": [
    "# **Histogram**"
   ]
  },
  {
   "cell_type": "markdown",
   "metadata": {
    "id": "MMBflQ-rjXnK"
   },
   "source": [
    "## **Goalscorers**"
   ]
  },
  {
   "cell_type": "markdown",
   "metadata": {
    "id": "SYu6Xa7EoszW"
   },
   "source": [
    "## **Shootouts**"
   ]
  },
  {
   "cell_type": "markdown",
   "metadata": {
    "id": "kJxbUhHGqdsQ"
   },
   "source": [
    "## **Results** "
   ]
  },
  {
   "cell_type": "markdown",
   "metadata": {
    "id": "PFEhdFL7qmu2"
   },
   "source": [
    "\n",
    "# **Gráfico de Linha**"
   ]
  },
  {
   "cell_type": "markdown",
   "metadata": {
    "id": "MMBflQ-rjXnK"
   },
   "source": [
    "## **Goalscorers**"
   ]
  },
  {
   "cell_type": "markdown",
   "metadata": {},
   "source": [
    "### **1. Penalty Goal Rate per Year**\n",
    "\n",
    "\n",
    "Penalty goals ratio is calculated by dividing penalty goals by total goals"
   ]
  },
  {
   "cell_type": "code",
   "execution_count": 10,
   "metadata": {},
   "outputs": [
    {
     "data": {
      "text/html": [
       "<div>\n",
       "<style scoped>\n",
       "    .dataframe tbody tr th:only-of-type {\n",
       "        vertical-align: middle;\n",
       "    }\n",
       "\n",
       "    .dataframe tbody tr th {\n",
       "        vertical-align: top;\n",
       "    }\n",
       "\n",
       "    .dataframe thead th {\n",
       "        text-align: right;\n",
       "    }\n",
       "</style>\n",
       "<table border=\"1\" class=\"dataframe\">\n",
       "  <thead>\n",
       "    <tr style=\"text-align: right;\">\n",
       "      <th>penalty</th>\n",
       "      <th>False</th>\n",
       "      <th>True</th>\n",
       "      <th>rate</th>\n",
       "    </tr>\n",
       "    <tr>\n",
       "      <th>year</th>\n",
       "      <th></th>\n",
       "      <th></th>\n",
       "      <th></th>\n",
       "    </tr>\n",
       "  </thead>\n",
       "  <tbody>\n",
       "    <tr>\n",
       "      <th>1916</th>\n",
       "      <td>16</td>\n",
       "      <td>2</td>\n",
       "      <td>0.125000</td>\n",
       "    </tr>\n",
       "    <tr>\n",
       "      <th>1917</th>\n",
       "      <td>17</td>\n",
       "      <td>4</td>\n",
       "      <td>0.235294</td>\n",
       "    </tr>\n",
       "    <tr>\n",
       "      <th>1919</th>\n",
       "      <td>27</td>\n",
       "      <td>0</td>\n",
       "      <td>0.000000</td>\n",
       "    </tr>\n",
       "    <tr>\n",
       "      <th>1920</th>\n",
       "      <td>15</td>\n",
       "      <td>1</td>\n",
       "      <td>0.066667</td>\n",
       "    </tr>\n",
       "    <tr>\n",
       "      <th>1921</th>\n",
       "      <td>14</td>\n",
       "      <td>0</td>\n",
       "      <td>0.000000</td>\n",
       "    </tr>\n",
       "    <tr>\n",
       "      <th>...</th>\n",
       "      <td>...</td>\n",
       "      <td>...</td>\n",
       "      <td>...</td>\n",
       "    </tr>\n",
       "    <tr>\n",
       "      <th>2018</th>\n",
       "      <td>147</td>\n",
       "      <td>22</td>\n",
       "      <td>0.149660</td>\n",
       "    </tr>\n",
       "    <tr>\n",
       "      <th>2019</th>\n",
       "      <td>1428</td>\n",
       "      <td>131</td>\n",
       "      <td>0.091737</td>\n",
       "    </tr>\n",
       "    <tr>\n",
       "      <th>2020</th>\n",
       "      <td>82</td>\n",
       "      <td>15</td>\n",
       "      <td>0.182927</td>\n",
       "    </tr>\n",
       "    <tr>\n",
       "      <th>2021</th>\n",
       "      <td>1848</td>\n",
       "      <td>203</td>\n",
       "      <td>0.109848</td>\n",
       "    </tr>\n",
       "    <tr>\n",
       "      <th>2022</th>\n",
       "      <td>452</td>\n",
       "      <td>50</td>\n",
       "      <td>0.110619</td>\n",
       "    </tr>\n",
       "  </tbody>\n",
       "</table>\n",
       "<p>97 rows × 3 columns</p>\n",
       "</div>"
      ],
      "text/plain": [
       "penalty  False  True      rate\n",
       "year                          \n",
       "1916        16     2  0.125000\n",
       "1917        17     4  0.235294\n",
       "1919        27     0  0.000000\n",
       "1920        15     1  0.066667\n",
       "1921        14     0  0.000000\n",
       "...        ...   ...       ...\n",
       "2018       147    22  0.149660\n",
       "2019      1428   131  0.091737\n",
       "2020        82    15  0.182927\n",
       "2021      1848   203  0.109848\n",
       "2022       452    50  0.110619\n",
       "\n",
       "[97 rows x 3 columns]"
      ]
     },
     "execution_count": 10,
     "metadata": {},
     "output_type": "execute_result"
    }
   ],
   "source": [
    "penalty_rate = pd.crosstab(goalscorers.year, goalscorers.penalty)\n",
    "penalty_rate['rate'] = penalty_rate[1] / penalty_rate[0]\n",
    "penalty_rate"
   ]
  },
  {
   "cell_type": "code",
   "execution_count": 11,
   "metadata": {
    "scrolled": false
   },
   "outputs": [
    {
     "data": {
      "image/png": "[encoded data removed]",
      "text/plain": [
       "<Figure size 720x432 with 1 Axes>"
      ]
     },
     "metadata": {},
     "output_type": "display_data"
    }
   ],
   "source": [
    "# Visualization\n",
    "plt.figure(figsize=(10,6))\n",
    "ax = sns.lineplot(data=penalty_rate, x='year', y='rate', marker='o')\n",
    "plt.locator_params(axis='x', nbins=20)\n",
    "ax.set_title(\"Rate of Penalty Goals per Year\", size=16)\n",
    "ax.set_ylabel(\"penalty rate\")\n",
    "\n",
    "# Show\n",
    "plt.show()"
   ]
  },
  {
   "cell_type": "markdown",
   "metadata": {
    "id": "kJxbUhHGqdsQ"
   },
   "source": [
    "## **Results** "
   ]
  },
  {
   "cell_type": "markdown",
   "metadata": {},
   "source": [
    "### **1. Goal Rate per Year**\n",
    "\n",
    "\n",
    "Goal rate is calculated by dividing the number of goals by the number of games in one year\n",
    "\n",
    "Matches before 1930 were removed becouse of lower number games"
   ]
  },
  {
   "cell_type": "code",
   "execution_count": 12,
   "metadata": {},
   "outputs": [
    {
     "data": {
      "text/html": [
       "<div>\n",
       "<style scoped>\n",
       "    .dataframe tbody tr th:only-of-type {\n",
       "        vertical-align: middle;\n",
       "    }\n",
       "\n",
       "    .dataframe tbody tr th {\n",
       "        vertical-align: top;\n",
       "    }\n",
       "\n",
       "    .dataframe thead th {\n",
       "        text-align: right;\n",
       "    }\n",
       "</style>\n",
       "<table border=\"1\" class=\"dataframe\">\n",
       "  <thead>\n",
       "    <tr style=\"text-align: right;\">\n",
       "      <th></th>\n",
       "      <th>year</th>\n",
       "      <th>goal_rate</th>\n",
       "    </tr>\n",
       "  </thead>\n",
       "  <tbody>\n",
       "    <tr>\n",
       "      <th>58</th>\n",
       "      <td>1930</td>\n",
       "      <td>4.323232</td>\n",
       "    </tr>\n",
       "    <tr>\n",
       "      <th>59</th>\n",
       "      <td>1931</td>\n",
       "      <td>4.237113</td>\n",
       "    </tr>\n",
       "    <tr>\n",
       "      <th>60</th>\n",
       "      <td>1932</td>\n",
       "      <td>3.923077</td>\n",
       "    </tr>\n",
       "    <tr>\n",
       "      <th>61</th>\n",
       "      <td>1933</td>\n",
       "      <td>3.967742</td>\n",
       "    </tr>\n",
       "    <tr>\n",
       "      <th>62</th>\n",
       "      <td>1934</td>\n",
       "      <td>4.814815</td>\n",
       "    </tr>\n",
       "    <tr>\n",
       "      <th>...</th>\n",
       "      <td>...</td>\n",
       "      <td>...</td>\n",
       "    </tr>\n",
       "    <tr>\n",
       "      <th>147</th>\n",
       "      <td>2019</td>\n",
       "      <td>2.869078</td>\n",
       "    </tr>\n",
       "    <tr>\n",
       "      <th>148</th>\n",
       "      <td>2020</td>\n",
       "      <td>2.471572</td>\n",
       "    </tr>\n",
       "    <tr>\n",
       "      <th>149</th>\n",
       "      <td>2021</td>\n",
       "      <td>2.746556</td>\n",
       "    </tr>\n",
       "    <tr>\n",
       "      <th>150</th>\n",
       "      <td>2022</td>\n",
       "      <td>2.479781</td>\n",
       "    </tr>\n",
       "    <tr>\n",
       "      <th>151</th>\n",
       "      <td>2023</td>\n",
       "      <td>2.536082</td>\n",
       "    </tr>\n",
       "  </tbody>\n",
       "</table>\n",
       "<p>94 rows × 2 columns</p>\n",
       "</div>"
      ],
      "text/plain": [
       "     year  goal_rate\n",
       "58   1930   4.323232\n",
       "59   1931   4.237113\n",
       "60   1932   3.923077\n",
       "61   1933   3.967742\n",
       "62   1934   4.814815\n",
       "..    ...        ...\n",
       "147  2019   2.869078\n",
       "148  2020   2.471572\n",
       "149  2021   2.746556\n",
       "150  2022   2.479781\n",
       "151  2023   2.536082\n",
       "\n",
       "[94 rows x 2 columns]"
      ]
     },
     "execution_count": 12,
     "metadata": {},
     "output_type": "execute_result"
    }
   ],
   "source": [
    "# All goals by year\n",
    "total_goals = results.groupby(by='year')['total_goals'].sum()\n",
    "# All matches by year\n",
    "total_matches = results.year.value_counts()\n",
    "# Goal rate by year\n",
    "goal_rate = total_goals / total_matches\n",
    "goal_rate = goal_rate.to_frame().reset_index()\n",
    "goal_rate.rename(columns={'index': 'year', 0:'goal_rate'}, inplace=True)\n",
    "# Remove matches before 1930\n",
    "mask = goal_rate.year >= 1930\n",
    "goal_rate = goal_rate[mask]\n",
    "goal_rate"
   ]
  },
  {
   "cell_type": "code",
   "execution_count": 13,
   "metadata": {},
   "outputs": [
    {
     "data": {
      "image/png": "[encoded data removed]",
      "text/plain": [
       "<Figure size 720x432 with 1 Axes>"
      ]
     },
     "metadata": {},
     "output_type": "display_data"
    }
   ],
   "source": [
    "# Visualization\n",
    "plt.figure(figsize=(10,6))\n",
    "ax = sns.lineplot(data=goal_rate, x='year', y='goal_rate', marker='o')\n",
    "plt.locator_params(axis='x', nbins=20)\n",
    "ax.set_title(\"Rate of Goals per Year\", size=16)\n",
    "ax.set_ylabel(\"goal rate\")\n",
    "ax.set_yticks(list(range(0, 7)))\n",
    "\n",
    "# Show\n",
    "plt.show()"
   ]
  },
  {
   "cell_type": "markdown",
   "metadata": {
    "id": "PFEhdFL7qmu2"
   },
   "source": [
    "# **Gráfico de Barra**"
   ]
  },
  {
   "cell_type": "markdown",
   "metadata": {
    "id": "MMBflQ-rjXnK"
   },
   "source": [
    "## **Goalscorers**"
   ]
  },
  {
   "cell_type": "markdown",
   "metadata": {},
   "source": [
    "### **1. Best goalscorers**\n",
    "\n",
    "\n",
    "Calculated by absolute frequency"
   ]
  },
  {
   "cell_type": "code",
   "execution_count": 22,
   "metadata": {},
   "outputs": [
    {
     "data": {
      "text/html": [
       "<div>\n",
       "<style scoped>\n",
       "    .dataframe tbody tr th:only-of-type {\n",
       "        vertical-align: middle;\n",
       "    }\n",
       "\n",
       "    .dataframe tbody tr th {\n",
       "        vertical-align: top;\n",
       "    }\n",
       "\n",
       "    .dataframe thead th {\n",
       "        text-align: right;\n",
       "    }\n",
       "</style>\n",
       "<table border=\"1\" class=\"dataframe\">\n",
       "  <thead>\n",
       "    <tr style=\"text-align: right;\">\n",
       "      <th></th>\n",
       "      <th>scorer</th>\n",
       "      <th>count</th>\n",
       "    </tr>\n",
       "  </thead>\n",
       "  <tbody>\n",
       "    <tr>\n",
       "      <th>0</th>\n",
       "      <td>Cristiano Ronaldo</td>\n",
       "      <td>91</td>\n",
       "    </tr>\n",
       "    <tr>\n",
       "      <th>1</th>\n",
       "      <td>Robert Lewandowski</td>\n",
       "      <td>56</td>\n",
       "    </tr>\n",
       "    <tr>\n",
       "      <th>2</th>\n",
       "      <td>Lionel Messi</td>\n",
       "      <td>54</td>\n",
       "    </tr>\n",
       "    <tr>\n",
       "      <th>3</th>\n",
       "      <td>Ali Daei</td>\n",
       "      <td>49</td>\n",
       "    </tr>\n",
       "    <tr>\n",
       "      <th>4</th>\n",
       "      <td>Miroslav Klose</td>\n",
       "      <td>48</td>\n",
       "    </tr>\n",
       "  </tbody>\n",
       "</table>\n",
       "</div>"
      ],
      "text/plain": [
       "               scorer  count\n",
       "0   Cristiano Ronaldo     91\n",
       "1  Robert Lewandowski     56\n",
       "2        Lionel Messi     54\n",
       "3            Ali Daei     49\n",
       "4      Miroslav Klose     48"
      ]
     },
     "execution_count": 22,
     "metadata": {},
     "output_type": "execute_result"
    }
   ],
   "source": [
    "# Calculate absolute frequency of wins\n",
    "goalscorers_count = goalscorers.scorer.value_counts().to_frame().reset_index()\n",
    "goalscorers_count.rename(columns={'index': 'scorer', 'scorer':'count'}, inplace=True)\n",
    "goalscorers_count.head()"
   ]
  },
  {
   "cell_type": "markdown",
   "metadata": {},
   "source": [
    "**Observation: Data not updated, Lionel Messi and Ali Daei has more than 100 goals**"
   ]
  },
  {
   "cell_type": "code",
   "execution_count": 26,
   "metadata": {},
   "outputs": [
    {
     "data": {
      "image/png": "[encoded data removed]",
      "text/plain": [
       "<Figure size 720x432 with 1 Axes>"
      ]
     },
     "metadata": {},
     "output_type": "display_data"
    }
   ],
   "source": [
    "# Visualization\n",
    "plt.figure(figsize=(10,6))\n",
    "ax = sns.barplot(data=goalscorers_count.head(15), x='count', y='scorer', palette='muted')\n",
    "ax.set_title(\"Top 15 Goalscorers\", size=16)\n",
    "\n",
    "\n",
    "# Show\n",
    "plt.show()"
   ]
  },
  {
   "cell_type": "markdown",
   "metadata": {
    "id": "SYu6Xa7EoszW"
   },
   "source": [
    "## **Shootouts**"
   ]
  },
  {
   "cell_type": "markdown",
   "metadata": {},
   "source": [
    "### **1. Teams who played the most penalty shootouts**\n",
    "\n",
    "\n",
    "Calculated by absolute frequency"
   ]
  },
  {
   "cell_type": "code",
   "execution_count": 14,
   "metadata": {},
   "outputs": [
    {
     "data": {
      "text/html": [
       "<div>\n",
       "<style scoped>\n",
       "    .dataframe tbody tr th:only-of-type {\n",
       "        vertical-align: middle;\n",
       "    }\n",
       "\n",
       "    .dataframe tbody tr th {\n",
       "        vertical-align: top;\n",
       "    }\n",
       "\n",
       "    .dataframe thead th {\n",
       "        text-align: right;\n",
       "    }\n",
       "</style>\n",
       "<table border=\"1\" class=\"dataframe\">\n",
       "  <thead>\n",
       "    <tr style=\"text-align: right;\">\n",
       "      <th></th>\n",
       "      <th>country</th>\n",
       "      <th>total</th>\n",
       "    </tr>\n",
       "  </thead>\n",
       "  <tbody>\n",
       "    <tr>\n",
       "      <th>54</th>\n",
       "      <td>Zambia</td>\n",
       "      <td>24.0</td>\n",
       "    </tr>\n",
       "    <tr>\n",
       "      <th>44</th>\n",
       "      <td>South Korea</td>\n",
       "      <td>23.0</td>\n",
       "    </tr>\n",
       "    <tr>\n",
       "      <th>43</th>\n",
       "      <td>South Africa</td>\n",
       "      <td>23.0</td>\n",
       "    </tr>\n",
       "    <tr>\n",
       "      <th>2</th>\n",
       "      <td>Argentina</td>\n",
       "      <td>22.0</td>\n",
       "    </tr>\n",
       "    <tr>\n",
       "      <th>14</th>\n",
       "      <td>Egypt</td>\n",
       "      <td>22.0</td>\n",
       "    </tr>\n",
       "  </tbody>\n",
       "</table>\n",
       "</div>"
      ],
      "text/plain": [
       "         country  total\n",
       "54        Zambia   24.0\n",
       "44   South Korea   23.0\n",
       "43  South Africa   23.0\n",
       "2      Argentina   22.0\n",
       "14         Egypt   22.0"
      ]
     },
     "execution_count": 14,
     "metadata": {},
     "output_type": "execute_result"
    }
   ],
   "source": [
    "# Calculate the absolute frequency\n",
    "shootouts_rate_domain = shootouts.home_team.value_counts() + shootouts.away_team.value_counts()\n",
    "# Filter low results\n",
    "mask = shootouts_rate_domain > 6\n",
    "shootouts_rate_domain = shootouts_rate_domain[mask]\n",
    "shootouts_rate_domain = shootouts_rate_domain.to_frame().reset_index()\n",
    "shootouts_rate_domain.rename(columns={'index': 'country', 0:'total'}, inplace=True)\n",
    "shootouts_rate_domain.sort_values(by='total', ascending=False, inplace=True)\n",
    "shootouts_rate_domain.head()"
   ]
  },
  {
   "cell_type": "code",
   "execution_count": 15,
   "metadata": {
    "scrolled": false
   },
   "outputs": [
    {
     "data": {
      "image/png": "[encoded data removed]",
      "text/plain": [
       "<Figure size 720x432 with 1 Axes>"
      ]
     },
     "metadata": {},
     "output_type": "display_data"
    }
   ],
   "source": [
    "# Visualization\n",
    "plt.figure(figsize=(10,6))\n",
    "ax = sns.barplot(data=shootouts_rate_domain.head(15), x='total', y='country', palette='muted')\n",
    "ax.set_title(\"Shootouts Played per Country\", size=16)\n",
    "\n",
    "\n",
    "# Show\n",
    "plt.show()"
   ]
  },
  {
   "cell_type": "markdown",
   "metadata": {},
   "source": [
    "### **2. Teams who won the most penalty shootouts**\n",
    "\n",
    "\n",
    "Calculated by absolute frequency"
   ]
  },
  {
   "cell_type": "code",
   "execution_count": 16,
   "metadata": {},
   "outputs": [
    {
     "data": {
      "text/html": [
       "<div>\n",
       "<style scoped>\n",
       "    .dataframe tbody tr th:only-of-type {\n",
       "        vertical-align: middle;\n",
       "    }\n",
       "\n",
       "    .dataframe tbody tr th {\n",
       "        vertical-align: top;\n",
       "    }\n",
       "\n",
       "    .dataframe thead th {\n",
       "        text-align: right;\n",
       "    }\n",
       "</style>\n",
       "<table border=\"1\" class=\"dataframe\">\n",
       "  <thead>\n",
       "    <tr style=\"text-align: right;\">\n",
       "      <th></th>\n",
       "      <th>country</th>\n",
       "      <th>winner</th>\n",
       "    </tr>\n",
       "  </thead>\n",
       "  <tbody>\n",
       "    <tr>\n",
       "      <th>0</th>\n",
       "      <td>Argentina</td>\n",
       "      <td>14</td>\n",
       "    </tr>\n",
       "    <tr>\n",
       "      <th>1</th>\n",
       "      <td>South Korea</td>\n",
       "      <td>13</td>\n",
       "    </tr>\n",
       "    <tr>\n",
       "      <th>2</th>\n",
       "      <td>Egypt</td>\n",
       "      <td>13</td>\n",
       "    </tr>\n",
       "    <tr>\n",
       "      <th>3</th>\n",
       "      <td>Zambia</td>\n",
       "      <td>13</td>\n",
       "    </tr>\n",
       "    <tr>\n",
       "      <th>4</th>\n",
       "      <td>South Africa</td>\n",
       "      <td>11</td>\n",
       "    </tr>\n",
       "  </tbody>\n",
       "</table>\n",
       "</div>"
      ],
      "text/plain": [
       "        country  winner\n",
       "0     Argentina      14\n",
       "1   South Korea      13\n",
       "2         Egypt      13\n",
       "3        Zambia      13\n",
       "4  South Africa      11"
      ]
     },
     "execution_count": 16,
     "metadata": {},
     "output_type": "execute_result"
    }
   ],
   "source": [
    "# Calculate absolute frequency of wins\n",
    "shootouts_count = shootouts.winner.value_counts().to_frame().reset_index()\n",
    "shootouts_count.rename(columns={'index': 'country'}, inplace=True)\n",
    "shootouts_count.head()"
   ]
  },
  {
   "cell_type": "code",
   "execution_count": 17,
   "metadata": {
    "scrolled": false
   },
   "outputs": [
    {
     "data": {
      "image/png": "[encoded data removed]",
      "text/plain": [
       "<Figure size 720x432 with 1 Axes>"
      ]
     },
     "metadata": {},
     "output_type": "display_data"
    }
   ],
   "source": [
    "# Visualization\n",
    "plt.figure(figsize=(10,6))\n",
    "ax = sns.barplot(data=shootouts_count.head(15), x='winner', y='country', palette='muted')\n",
    "ax.set_title(\"Shootouts Winnings per Country\", size=16)\n",
    "\n",
    "\n",
    "# Show\n",
    "plt.show()"
   ]
  },
  {
   "cell_type": "markdown",
   "metadata": {},
   "source": [
    "### **3. Teams with best peformance in penalty shootouts**\n",
    "\n",
    "\n",
    "Division of win frequency by total frequency"
   ]
  },
  {
   "cell_type": "code",
   "execution_count": 18,
   "metadata": {},
   "outputs": [
    {
     "data": {
      "text/html": [
       "<div>\n",
       "<style scoped>\n",
       "    .dataframe tbody tr th:only-of-type {\n",
       "        vertical-align: middle;\n",
       "    }\n",
       "\n",
       "    .dataframe tbody tr th {\n",
       "        vertical-align: top;\n",
       "    }\n",
       "\n",
       "    .dataframe thead th {\n",
       "        text-align: right;\n",
       "    }\n",
       "</style>\n",
       "<table border=\"1\" class=\"dataframe\">\n",
       "  <thead>\n",
       "    <tr style=\"text-align: right;\">\n",
       "      <th></th>\n",
       "      <th>country</th>\n",
       "      <th>rate</th>\n",
       "    </tr>\n",
       "  </thead>\n",
       "  <tbody>\n",
       "    <tr>\n",
       "      <th>17</th>\n",
       "      <td>Ethiopia</td>\n",
       "      <td>0.875000</td>\n",
       "    </tr>\n",
       "    <tr>\n",
       "      <th>25</th>\n",
       "      <td>Iraq</td>\n",
       "      <td>0.818182</td>\n",
       "    </tr>\n",
       "    <tr>\n",
       "      <th>20</th>\n",
       "      <td>Germany</td>\n",
       "      <td>0.750000</td>\n",
       "    </tr>\n",
       "    <tr>\n",
       "      <th>22</th>\n",
       "      <td>Guinea</td>\n",
       "      <td>0.727273</td>\n",
       "    </tr>\n",
       "    <tr>\n",
       "      <th>29</th>\n",
       "      <td>Kenya</td>\n",
       "      <td>0.714286</td>\n",
       "    </tr>\n",
       "  </tbody>\n",
       "</table>\n",
       "</div>"
      ],
      "text/plain": [
       "     country      rate\n",
       "17  Ethiopia  0.875000\n",
       "25      Iraq  0.818182\n",
       "20   Germany  0.750000\n",
       "22    Guinea  0.727273\n",
       "29     Kenya  0.714286"
      ]
     },
     "execution_count": 18,
     "metadata": {},
     "output_type": "execute_result"
    }
   ],
   "source": [
    "shootouts_rate_domain = shootouts.home_team.value_counts() + shootouts.away_team.value_counts()\n",
    "mask = shootouts_rate_domain > 6\n",
    "shootouts_rate_domain = shootouts_rate_domain[mask]\n",
    "\n",
    "shootouts_rate = shootouts.winner.value_counts() / (shootouts_rate_domain)\n",
    "shootouts_rate = shootouts_rate.dropna()\n",
    "shootouts_rate = shootouts_rate.to_frame().reset_index().rename(columns={0: \"rate\", 'index': 'country'})\n",
    "shootouts_rate.sort_values(by='rate', ascending=False, inplace=True)\n",
    "shootouts_rate.head()"
   ]
  },
  {
   "cell_type": "code",
   "execution_count": 19,
   "metadata": {
    "scrolled": true
   },
   "outputs": [
    {
     "data": {
      "image/png": "[encoded data removed]",
      "text/plain": [
       "<Figure size 720x432 with 1 Axes>"
      ]
     },
     "metadata": {},
     "output_type": "display_data"
    }
   ],
   "source": [
    "# Visualization\n",
    "plt.figure(figsize=(10,6))\n",
    "ax = sns.barplot(data=shootouts_rate.head(15), x='rate', y='country', palette='muted')\n",
    "ax.set_title(\"Shootouts Winnings Ratio per Country\", size=16)\n",
    "\n",
    "\n",
    "# Show\n",
    "plt.show()"
   ]
  },
  {
   "cell_type": "markdown",
   "metadata": {
    "id": "kJxbUhHGqdsQ"
   },
   "source": [
    "## **Bonus - Elo Ranking** "
   ]
  },
  {
   "cell_type": "code",
   "execution_count": 27,
   "metadata": {},
   "outputs": [
    {
     "data": {
      "image/png": "[encoded data removed]",
      "text/plain": [
       "<Figure size 720x432 with 1 Axes>"
      ]
     },
     "metadata": {},
     "output_type": "display_data"
    }
   ],
   "source": [
    "# Visualization\n",
    "plt.figure(figsize=(10,6))\n",
    "ax = sns.barplot(data=country_ranking.sort_values(by=2023, ascending=False).head(15), x=2023, y='country', hue='confederation', dodge=False)\n",
    "ax.set_title(\"World Football Top 15 Score\", y=1.12, size=16)\n",
    "sns.move_legend(ax, \"upper left\", bbox_to_anchor=(0.26, 1.132), ncol=3)\n",
    "ax.set_xlabel(\"score\")\n",
    "\n",
    "# Show\n",
    "plt.show()"
   ]
  },
  {
   "cell_type": "markdown",
   "metadata": {},
   "source": [
    "# **Bonus - Flourish Visualization (Elo Ranking)**\n",
    "\n",
    "The flourish software was used to make a bar chart race of the elo ranking score over the years.\n",
    "\n",
    "You can acess the visualization running the cell bellow or clicking on the following link: \n",
    "- **https://public.flourish.studio/visualisation/13571359/?utm_source=embed&utm_campaign=visualisation/13571359**."
   ]
  },
  {
   "cell_type": "code",
   "execution_count": 29,
   "metadata": {},
   "outputs": [
    {
     "data": {
      "text/html": [
       "<iframe src='https://flo.uri.sh/visualisation/13571359/embed' title='Interactive or visual content' class='flourish-embed-iframe' frameborder='0' scrolling='no' style='width:100%;height:600px;' sandbox='allow-same-origin allow-forms allow-scripts allow-downloads allow-popups allow-popups-to-escape-sandbox allow-top-navigation-by-user-activation'></iframe><div style='width:100%!;margin-top:4px!important;text-align:right!important;'><a class='flourish-credit' href='https://public.flourish.studio/visualisation/13571359/?utm_source=embed&utm_campaign=visualisation/13571359' target='_top' style='text-decoration:none!important'><img alt='Made with Flourish' src='https://public.flourish.studio/resources/made_with_flourish.svg' style='width:105px!important;height:16px!important;border:none!important;margin:0!important;'> </a></div>\n"
      ],
      "text/plain": [
       "<IPython.core.display.HTML object>"
      ]
     },
     "metadata": {},
     "output_type": "display_data"
    }
   ],
   "source": [
    "%%HTML\n",
    "<iframe src='https://flo.uri.sh/visualisation/13571359/embed' title='Interactive or visual content' class='flourish-embed-iframe' frameborder='0' scrolling='no' style='width:100%;height:600px;' sandbox='allow-same-origin allow-forms allow-scripts allow-downloads allow-popups allow-popups-to-escape-sandbox allow-top-navigation-by-user-activation'></iframe><div style='width:100%!;margin-top:4px!important;text-align:right!important;'><a class='flourish-credit' href='https://public.flourish.studio/visualisation/13571359/?utm_source=embed&utm_campaign=visualisation/13571359' target='_top' style='text-decoration:none!important'><img alt='Made with Flourish' src='https://public.flourish.studio/resources/made_with_flourish.svg' style='width:105px!important;height:16px!important;border:none!important;margin:0!important;'> </a></div>"
   ]
  }
 ],
 "metadata": {
  "colab": {
   "provenance": []
  },
  "kernelspec": {
   "display_name": "Python 3 (ipykernel)",
   "language": "python",
   "name": "python3"
  },
  "language_info": {
   "codemirror_mode": {
    "name": "ipython",
    "version": 3
   },
   "file_extension": ".py",
   "mimetype": "text/x-python",
   "name": "python",
   "nbconvert_exporter": "python",
   "pygments_lexer": "ipython3",
   "version": "3.10.1"
  }
 },
 "nbformat": 4,
 "nbformat_minor": 1
}
