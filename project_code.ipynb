{
 "cells": [
  {
   "cell_type": "markdown",
   "metadata": {},
   "source": [
    "***\n",
    "# **<font color=darkblue size=10>Data Science Project</font>**\n",
    "***\n",
    "\n",
    "## **Descriptive Analysis of a Dataset**\n",
    "\n",
    "Using the knowledge acquired during the data science classes, we will perform a basic descriptive analysis of a dataset of international matches during the years 1876 to 2022. \n",
    "\n",
    "We will build graphs, calculate and evaluate measures of central tendency, separator measures and data dispersion."
   ]
  },
  {
   "cell_type": "markdown",
   "metadata": {
    "id": "0LHfL468uX4o"
   },
   "source": [
    "# **Dependencies**\n",
    "\n",
    "The pandas, numpy, seaborn and matplotlib libraries were used for data analysis."
   ]
  },
  {
   "cell_type": "code",
   "execution_count": 1,
   "metadata": {
    "id": "1aE8t5UGuch2"
   },
   "outputs": [],
   "source": [
    "import pandas as pd\n",
    "import numpy as np\n",
    "import seaborn as sns\n",
    "import matplotlib.pyplot as plt"
   ]
  },
  {
   "cell_type": "markdown",
   "metadata": {},
   "source": [
    "# **Deafult Settings**\n",
    "\n",
    "Some general settings used on the notebook"
   ]
  },
  {
   "cell_type": "code",
   "execution_count": 2,
   "metadata": {},
   "outputs": [],
   "source": [
    "# Set aspects of the visual theme for all matplotlib and seaborn plots.\n",
    "sns.set()"
   ]
  },
  {
   "cell_type": "code",
   "execution_count": 3,
   "metadata": {},
   "outputs": [
    {
     "data": {
      "text/html": [
       "<style>\n",
       "table {float:left}\n",
       "</style>\n"
      ],
      "text/plain": [
       "<IPython.core.display.HTML object>"
      ]
     },
     "metadata": {},
     "output_type": "display_data"
    }
   ],
   "source": [
    "%%html\n",
    "<style>\n",
    "table {float:left}\n",
    "</style>"
   ]
  },
  {
   "cell_type": "markdown",
   "metadata": {},
   "source": [
    "# **<font color=darkblue>PROJECT DATASET</font>**\n",
    "***"
   ]
  },
  {
   "cell_type": "markdown",
   "metadata": {},
   "source": [
    "### **International football results from 1872 to 2022**\n",
    "\n",
    "This dataset includes 44,341 results of international football matches starting from the very first official match in 1872 up to 2022. The matches range from FIFA World Cup to FIFI Wild Cup to regular friendly matches. The matches are strictly men's full internationals and the data does not include Olympic Games or matches where at least one of the teams was the nation's B-team, U-23 or a league select team."
   ]
  },
  {
   "cell_type": "markdown",
   "metadata": {},
   "source": [
    "### **Variables used**"
   ]
  },
  {
   "cell_type": "markdown",
   "metadata": {},
   "source": [
    "#### results.csv\n",
    "\n",
    "|Variable|Description|\n",
    "|:---|:---|\n",
    "|date|date of the match|\n",
    "|home_team|the name of the home_team|\n",
    "|away_team|the name of the away_team|\n",
    "|home_score|full-time home team score including extra time, not including penalty-shootouts|\n",
    "|away_score|full-time away team score including extra time, not including penalty-shootouts|\n",
    "|tournament|the name of the tournament|\n",
    "|city|the name of the city/town/administrative unit where the match was played|\n",
    "|country|the name of the country where the match was played|\n",
    "|neutral|TRUE/FALSE column indicating whether the match was played at a neutral venue|"
   ]
  },
  {
   "cell_type": "markdown",
   "metadata": {},
   "source": [
    "#### shootouts.csv\n",
    "\n",
    "|Variable|Description|\n",
    "|:---|:---|\n",
    "|date|date of the match|\n",
    "|home_team|the name of the home_team|\n",
    "|away_team|the name of the away_team|\n",
    "|winner|winner of the penalty-shootout|"
   ]
  },
  {
   "cell_type": "markdown",
   "metadata": {},
   "source": [
    "#### goalscorers.csv\n",
    "\n",
    "|Variable|Description|\n",
    "|:---|:---|\n",
    "|date|date of the match|\n",
    "|home_team|the name of the home_team|\n",
    "|away_team|the name of the away_team|\n",
    "|team|name of the team scoring the goal|\n",
    "|scorer|name of the player scoring the goal|\n",
    "|own_goal|whether the goal was an own-goal|\n",
    "|penalty|whether the goal was a penalty|"
   ]
  },
  {
   "cell_type": "markdown",
   "metadata": {},
   "source": [
    "### **Variables created bellow**"
   ]
  },
  {
   "cell_type": "markdown",
   "metadata": {},
   "source": [
    "#### results.csv\n",
    "\n",
    "|Variable|Description|\n",
    "|:---|:---|\n",
    "|goal_dif|difference between home_score and away_score|\n",
    "|year|year of the game|"
   ]
  },
  {
   "cell_type": "markdown",
   "metadata": {},
   "source": [
    "#### goalscorers.csv\n",
    "\n",
    "|Variable|Description|\n",
    "|:---|:---|\n",
    "|year|year of the match|"
   ]
  },
  {
   "cell_type": "markdown",
   "metadata": {
    "id": "MrrDcSjBs5uf"
   },
   "source": [
    "# **Loading Dataset Files**\n",
    "\n",
    "This dataset is made up of three csv files and their descriptions are provided below.\n",
    "\n",
    "* goalscorers: goals scored and details about them\n",
    "* shootouts: resultsof penalty shootouts\n",
    "* results: results of international matches."
   ]
  },
  {
   "cell_type": "code",
   "execution_count": 4,
   "metadata": {
    "id": "AkQpNwkbuVFv"
   },
   "outputs": [],
   "source": [
    "goalscorers = pd.read_csv('data/goalscorers.csv')\n",
    "shootouts = pd.read_csv('data/shootouts.csv')\n",
    "results = pd.read_csv('data/results.csv')"
   ]
  },
  {
   "cell_type": "markdown",
   "metadata": {},
   "source": [
    "# **Process Datasets**"
   ]
  },
  {
   "cell_type": "markdown",
   "metadata": {},
   "source": [
    "## results.csv"
   ]
  },
  {
   "cell_type": "code",
   "execution_count": 5,
   "metadata": {},
   "outputs": [
    {
     "data": {
      "text/html": [
       "<div>\n",
       "<style scoped>\n",
       "    .dataframe tbody tr th:only-of-type {\n",
       "        vertical-align: middle;\n",
       "    }\n",
       "\n",
       "    .dataframe tbody tr th {\n",
       "        vertical-align: top;\n",
       "    }\n",
       "\n",
       "    .dataframe thead th {\n",
       "        text-align: right;\n",
       "    }\n",
       "</style>\n",
       "<table border=\"1\" class=\"dataframe\">\n",
       "  <thead>\n",
       "    <tr style=\"text-align: right;\">\n",
       "      <th></th>\n",
       "      <th>date</th>\n",
       "      <th>home_team</th>\n",
       "      <th>away_team</th>\n",
       "      <th>home_score</th>\n",
       "      <th>away_score</th>\n",
       "      <th>tournament</th>\n",
       "      <th>city</th>\n",
       "      <th>country</th>\n",
       "      <th>neutral</th>\n",
       "      <th>goal_dif</th>\n",
       "      <th>year</th>\n",
       "    </tr>\n",
       "  </thead>\n",
       "  <tbody>\n",
       "    <tr>\n",
       "      <th>0</th>\n",
       "      <td>1872-11-30</td>\n",
       "      <td>Scotland</td>\n",
       "      <td>England</td>\n",
       "      <td>0</td>\n",
       "      <td>0</td>\n",
       "      <td>Friendly</td>\n",
       "      <td>Glasgow</td>\n",
       "      <td>Scotland</td>\n",
       "      <td>False</td>\n",
       "      <td>0</td>\n",
       "      <td>1872</td>\n",
       "    </tr>\n",
       "    <tr>\n",
       "      <th>1</th>\n",
       "      <td>1873-03-08</td>\n",
       "      <td>England</td>\n",
       "      <td>Scotland</td>\n",
       "      <td>4</td>\n",
       "      <td>2</td>\n",
       "      <td>Friendly</td>\n",
       "      <td>London</td>\n",
       "      <td>England</td>\n",
       "      <td>False</td>\n",
       "      <td>2</td>\n",
       "      <td>1873</td>\n",
       "    </tr>\n",
       "    <tr>\n",
       "      <th>2</th>\n",
       "      <td>1874-03-07</td>\n",
       "      <td>Scotland</td>\n",
       "      <td>England</td>\n",
       "      <td>2</td>\n",
       "      <td>1</td>\n",
       "      <td>Friendly</td>\n",
       "      <td>Glasgow</td>\n",
       "      <td>Scotland</td>\n",
       "      <td>False</td>\n",
       "      <td>1</td>\n",
       "      <td>1874</td>\n",
       "    </tr>\n",
       "    <tr>\n",
       "      <th>3</th>\n",
       "      <td>1875-03-06</td>\n",
       "      <td>England</td>\n",
       "      <td>Scotland</td>\n",
       "      <td>2</td>\n",
       "      <td>2</td>\n",
       "      <td>Friendly</td>\n",
       "      <td>London</td>\n",
       "      <td>England</td>\n",
       "      <td>False</td>\n",
       "      <td>0</td>\n",
       "      <td>1875</td>\n",
       "    </tr>\n",
       "    <tr>\n",
       "      <th>4</th>\n",
       "      <td>1876-03-04</td>\n",
       "      <td>Scotland</td>\n",
       "      <td>England</td>\n",
       "      <td>3</td>\n",
       "      <td>0</td>\n",
       "      <td>Friendly</td>\n",
       "      <td>Glasgow</td>\n",
       "      <td>Scotland</td>\n",
       "      <td>False</td>\n",
       "      <td>3</td>\n",
       "      <td>1876</td>\n",
       "    </tr>\n",
       "    <tr>\n",
       "      <th>5</th>\n",
       "      <td>1876-03-25</td>\n",
       "      <td>Scotland</td>\n",
       "      <td>Wales</td>\n",
       "      <td>4</td>\n",
       "      <td>0</td>\n",
       "      <td>Friendly</td>\n",
       "      <td>Glasgow</td>\n",
       "      <td>Scotland</td>\n",
       "      <td>False</td>\n",
       "      <td>4</td>\n",
       "      <td>1876</td>\n",
       "    </tr>\n",
       "    <tr>\n",
       "      <th>6</th>\n",
       "      <td>1877-03-03</td>\n",
       "      <td>England</td>\n",
       "      <td>Scotland</td>\n",
       "      <td>1</td>\n",
       "      <td>3</td>\n",
       "      <td>Friendly</td>\n",
       "      <td>London</td>\n",
       "      <td>England</td>\n",
       "      <td>False</td>\n",
       "      <td>-2</td>\n",
       "      <td>1877</td>\n",
       "    </tr>\n",
       "    <tr>\n",
       "      <th>7</th>\n",
       "      <td>1877-03-05</td>\n",
       "      <td>Wales</td>\n",
       "      <td>Scotland</td>\n",
       "      <td>0</td>\n",
       "      <td>2</td>\n",
       "      <td>Friendly</td>\n",
       "      <td>Wrexham</td>\n",
       "      <td>Wales</td>\n",
       "      <td>False</td>\n",
       "      <td>-2</td>\n",
       "      <td>1877</td>\n",
       "    </tr>\n",
       "    <tr>\n",
       "      <th>8</th>\n",
       "      <td>1878-03-02</td>\n",
       "      <td>Scotland</td>\n",
       "      <td>England</td>\n",
       "      <td>7</td>\n",
       "      <td>2</td>\n",
       "      <td>Friendly</td>\n",
       "      <td>Glasgow</td>\n",
       "      <td>Scotland</td>\n",
       "      <td>False</td>\n",
       "      <td>5</td>\n",
       "      <td>1878</td>\n",
       "    </tr>\n",
       "    <tr>\n",
       "      <th>9</th>\n",
       "      <td>1878-03-23</td>\n",
       "      <td>Scotland</td>\n",
       "      <td>Wales</td>\n",
       "      <td>9</td>\n",
       "      <td>0</td>\n",
       "      <td>Friendly</td>\n",
       "      <td>Glasgow</td>\n",
       "      <td>Scotland</td>\n",
       "      <td>False</td>\n",
       "      <td>9</td>\n",
       "      <td>1878</td>\n",
       "    </tr>\n",
       "    <tr>\n",
       "      <th>10</th>\n",
       "      <td>1879-01-18</td>\n",
       "      <td>England</td>\n",
       "      <td>Wales</td>\n",
       "      <td>2</td>\n",
       "      <td>1</td>\n",
       "      <td>Friendly</td>\n",
       "      <td>London</td>\n",
       "      <td>England</td>\n",
       "      <td>False</td>\n",
       "      <td>1</td>\n",
       "      <td>1879</td>\n",
       "    </tr>\n",
       "    <tr>\n",
       "      <th>11</th>\n",
       "      <td>1879-04-05</td>\n",
       "      <td>England</td>\n",
       "      <td>Scotland</td>\n",
       "      <td>5</td>\n",
       "      <td>4</td>\n",
       "      <td>Friendly</td>\n",
       "      <td>London</td>\n",
       "      <td>England</td>\n",
       "      <td>False</td>\n",
       "      <td>1</td>\n",
       "      <td>1879</td>\n",
       "    </tr>\n",
       "    <tr>\n",
       "      <th>12</th>\n",
       "      <td>1879-04-07</td>\n",
       "      <td>Wales</td>\n",
       "      <td>Scotland</td>\n",
       "      <td>0</td>\n",
       "      <td>3</td>\n",
       "      <td>Friendly</td>\n",
       "      <td>Wrexham</td>\n",
       "      <td>Wales</td>\n",
       "      <td>False</td>\n",
       "      <td>-3</td>\n",
       "      <td>1879</td>\n",
       "    </tr>\n",
       "    <tr>\n",
       "      <th>13</th>\n",
       "      <td>1880-03-13</td>\n",
       "      <td>Scotland</td>\n",
       "      <td>England</td>\n",
       "      <td>5</td>\n",
       "      <td>4</td>\n",
       "      <td>Friendly</td>\n",
       "      <td>Glasgow</td>\n",
       "      <td>Scotland</td>\n",
       "      <td>False</td>\n",
       "      <td>1</td>\n",
       "      <td>1880</td>\n",
       "    </tr>\n",
       "    <tr>\n",
       "      <th>14</th>\n",
       "      <td>1880-03-15</td>\n",
       "      <td>Wales</td>\n",
       "      <td>England</td>\n",
       "      <td>2</td>\n",
       "      <td>3</td>\n",
       "      <td>Friendly</td>\n",
       "      <td>Wrexham</td>\n",
       "      <td>Wales</td>\n",
       "      <td>False</td>\n",
       "      <td>-1</td>\n",
       "      <td>1880</td>\n",
       "    </tr>\n",
       "  </tbody>\n",
       "</table>\n",
       "</div>"
      ],
      "text/plain": [
       "         date home_team away_team  home_score  away_score tournament     city  \\\n",
       "0  1872-11-30  Scotland   England           0           0   Friendly  Glasgow   \n",
       "1  1873-03-08   England  Scotland           4           2   Friendly   London   \n",
       "2  1874-03-07  Scotland   England           2           1   Friendly  Glasgow   \n",
       "3  1875-03-06   England  Scotland           2           2   Friendly   London   \n",
       "4  1876-03-04  Scotland   England           3           0   Friendly  Glasgow   \n",
       "5  1876-03-25  Scotland     Wales           4           0   Friendly  Glasgow   \n",
       "6  1877-03-03   England  Scotland           1           3   Friendly   London   \n",
       "7  1877-03-05     Wales  Scotland           0           2   Friendly  Wrexham   \n",
       "8  1878-03-02  Scotland   England           7           2   Friendly  Glasgow   \n",
       "9  1878-03-23  Scotland     Wales           9           0   Friendly  Glasgow   \n",
       "10 1879-01-18   England     Wales           2           1   Friendly   London   \n",
       "11 1879-04-05   England  Scotland           5           4   Friendly   London   \n",
       "12 1879-04-07     Wales  Scotland           0           3   Friendly  Wrexham   \n",
       "13 1880-03-13  Scotland   England           5           4   Friendly  Glasgow   \n",
       "14 1880-03-15     Wales   England           2           3   Friendly  Wrexham   \n",
       "\n",
       "     country  neutral  goal_dif  year  \n",
       "0   Scotland    False         0  1872  \n",
       "1    England    False         2  1873  \n",
       "2   Scotland    False         1  1874  \n",
       "3    England    False         0  1875  \n",
       "4   Scotland    False         3  1876  \n",
       "5   Scotland    False         4  1876  \n",
       "6    England    False        -2  1877  \n",
       "7      Wales    False        -2  1877  \n",
       "8   Scotland    False         5  1878  \n",
       "9   Scotland    False         9  1878  \n",
       "10   England    False         1  1879  \n",
       "11   England    False         1  1879  \n",
       "12     Wales    False        -3  1879  \n",
       "13  Scotland    False         1  1880  \n",
       "14     Wales    False        -1  1880  "
      ]
     },
     "execution_count": 5,
     "metadata": {},
     "output_type": "execute_result"
    }
   ],
   "source": [
    "# Create a goal_dif column\n",
    "results['goal_dif'] = results['home_score'] - results['away_score']\n",
    "# Change type of date column to datetime\n",
    "results['date'] = pd.to_datetime(results.date)\n",
    "# Add column year\n",
    "results['year'] = results.date.map(lambda x: x.year)\n",
    "results.head(15)"
   ]
  },
  {
   "cell_type": "markdown",
   "metadata": {},
   "source": [
    "## goalscores.csv"
   ]
  },
  {
   "cell_type": "code",
   "execution_count": 6,
   "metadata": {},
   "outputs": [
    {
     "data": {
      "text/html": [
       "<div>\n",
       "<style scoped>\n",
       "    .dataframe tbody tr th:only-of-type {\n",
       "        vertical-align: middle;\n",
       "    }\n",
       "\n",
       "    .dataframe tbody tr th {\n",
       "        vertical-align: top;\n",
       "    }\n",
       "\n",
       "    .dataframe thead th {\n",
       "        text-align: right;\n",
       "    }\n",
       "</style>\n",
       "<table border=\"1\" class=\"dataframe\">\n",
       "  <thead>\n",
       "    <tr style=\"text-align: right;\">\n",
       "      <th></th>\n",
       "      <th>date</th>\n",
       "      <th>home_team</th>\n",
       "      <th>away_team</th>\n",
       "      <th>team</th>\n",
       "      <th>scorer</th>\n",
       "      <th>minute</th>\n",
       "      <th>own_goal</th>\n",
       "      <th>penalty</th>\n",
       "      <th>year</th>\n",
       "    </tr>\n",
       "  </thead>\n",
       "  <tbody>\n",
       "    <tr>\n",
       "      <th>0</th>\n",
       "      <td>1916-07-02</td>\n",
       "      <td>Chile</td>\n",
       "      <td>Uruguay</td>\n",
       "      <td>Uruguay</td>\n",
       "      <td>José Piendibene</td>\n",
       "      <td>44.0</td>\n",
       "      <td>False</td>\n",
       "      <td>False</td>\n",
       "      <td>1916</td>\n",
       "    </tr>\n",
       "    <tr>\n",
       "      <th>1</th>\n",
       "      <td>1916-07-02</td>\n",
       "      <td>Chile</td>\n",
       "      <td>Uruguay</td>\n",
       "      <td>Uruguay</td>\n",
       "      <td>Isabelino Gradín</td>\n",
       "      <td>55.0</td>\n",
       "      <td>False</td>\n",
       "      <td>False</td>\n",
       "      <td>1916</td>\n",
       "    </tr>\n",
       "    <tr>\n",
       "      <th>2</th>\n",
       "      <td>1916-07-02</td>\n",
       "      <td>Chile</td>\n",
       "      <td>Uruguay</td>\n",
       "      <td>Uruguay</td>\n",
       "      <td>Isabelino Gradín</td>\n",
       "      <td>70.0</td>\n",
       "      <td>False</td>\n",
       "      <td>False</td>\n",
       "      <td>1916</td>\n",
       "    </tr>\n",
       "    <tr>\n",
       "      <th>3</th>\n",
       "      <td>1916-07-02</td>\n",
       "      <td>Chile</td>\n",
       "      <td>Uruguay</td>\n",
       "      <td>Uruguay</td>\n",
       "      <td>José Piendibene</td>\n",
       "      <td>75.0</td>\n",
       "      <td>False</td>\n",
       "      <td>False</td>\n",
       "      <td>1916</td>\n",
       "    </tr>\n",
       "    <tr>\n",
       "      <th>4</th>\n",
       "      <td>1916-07-06</td>\n",
       "      <td>Argentina</td>\n",
       "      <td>Chile</td>\n",
       "      <td>Argentina</td>\n",
       "      <td>Alberto Ohaco</td>\n",
       "      <td>2.0</td>\n",
       "      <td>False</td>\n",
       "      <td>False</td>\n",
       "      <td>1916</td>\n",
       "    </tr>\n",
       "  </tbody>\n",
       "</table>\n",
       "</div>"
      ],
      "text/plain": [
       "        date  home_team away_team       team            scorer  minute  \\\n",
       "0 1916-07-02      Chile   Uruguay    Uruguay   José Piendibene    44.0   \n",
       "1 1916-07-02      Chile   Uruguay    Uruguay  Isabelino Gradín    55.0   \n",
       "2 1916-07-02      Chile   Uruguay    Uruguay  Isabelino Gradín    70.0   \n",
       "3 1916-07-02      Chile   Uruguay    Uruguay   José Piendibene    75.0   \n",
       "4 1916-07-06  Argentina     Chile  Argentina     Alberto Ohaco     2.0   \n",
       "\n",
       "   own_goal  penalty  year  \n",
       "0     False    False  1916  \n",
       "1     False    False  1916  \n",
       "2     False    False  1916  \n",
       "3     False    False  1916  \n",
       "4     False    False  1916  "
      ]
     },
     "execution_count": 6,
     "metadata": {},
     "output_type": "execute_result"
    }
   ],
   "source": [
    "# Change type of date column to datetime\n",
    "goalscorers['date'] = pd.to_datetime(goalscorers.date)\n",
    "# Add column year\n",
    "goalscorers['year'] = goalscorers.date.map(lambda x: x.year)\n",
    "goalscorers.head(5)"
   ]
  },
  {
   "cell_type": "markdown",
   "metadata": {
    "id": "vGsEm9qWu-8d"
   },
   "source": [
    "# **Descriptive Variables Analysis**"
   ]
  },
  {
   "cell_type": "markdown",
   "metadata": {
    "id": "4NxSByNdvhNi"
   },
   "source": [
    "## **results dataset**"
   ]
  },
  {
   "cell_type": "markdown",
   "metadata": {
    "colab": {
     "base_uri": "https://localhost:8080/",
     "height": 661
    },
    "id": "pO1-Afc-wYen",
    "outputId": "570788eb-df41-488d-b9b1-05c9fbc26ca3"
   },
   "source": [
    "### **Measures of Central Tendency**"
   ]
  },
  {
   "cell_type": "markdown",
   "metadata": {},
   "source": [
    "#### **Mean**"
   ]
  },
  {
   "cell_type": "code",
   "execution_count": 7,
   "metadata": {},
   "outputs": [
    {
     "data": {
      "text/html": [
       "<div>\n",
       "<style scoped>\n",
       "    .dataframe tbody tr th:only-of-type {\n",
       "        vertical-align: middle;\n",
       "    }\n",
       "\n",
       "    .dataframe tbody tr th {\n",
       "        vertical-align: top;\n",
       "    }\n",
       "\n",
       "    .dataframe thead th {\n",
       "        text-align: right;\n",
       "    }\n",
       "</style>\n",
       "<table border=\"1\" class=\"dataframe\">\n",
       "  <thead>\n",
       "    <tr style=\"text-align: right;\">\n",
       "      <th></th>\n",
       "      <th>year</th>\n",
       "      <th>home_score</th>\n",
       "      <th>away_score</th>\n",
       "      <th>goal_dif</th>\n",
       "      <th>neutral</th>\n",
       "    </tr>\n",
       "  </thead>\n",
       "  <tbody>\n",
       "    <tr>\n",
       "      <th>0</th>\n",
       "      <td>1992.095787</td>\n",
       "      <td>1.739278</td>\n",
       "      <td>1.178401</td>\n",
       "      <td>0.560877</td>\n",
       "      <td>0.248603</td>\n",
       "    </tr>\n",
       "  </tbody>\n",
       "</table>\n",
       "</div>"
      ],
      "text/plain": [
       "          year  home_score  away_score  goal_dif   neutral\n",
       "0  1992.095787    1.739278    1.178401  0.560877  0.248603"
      ]
     },
     "execution_count": 7,
     "metadata": {},
     "output_type": "execute_result"
    }
   ],
   "source": [
    "cols = ['year', 'home_score', 'away_score', 'goal_dif', 'neutral']\n",
    "results[cols].mean().to_frame().T"
   ]
  },
  {
   "cell_type": "markdown",
   "metadata": {},
   "source": [
    "#### **Median**"
   ]
  },
  {
   "cell_type": "code",
   "execution_count": 8,
   "metadata": {},
   "outputs": [
    {
     "data": {
      "text/html": [
       "<div>\n",
       "<style scoped>\n",
       "    .dataframe tbody tr th:only-of-type {\n",
       "        vertical-align: middle;\n",
       "    }\n",
       "\n",
       "    .dataframe tbody tr th {\n",
       "        vertical-align: top;\n",
       "    }\n",
       "\n",
       "    .dataframe thead th {\n",
       "        text-align: right;\n",
       "    }\n",
       "</style>\n",
       "<table border=\"1\" class=\"dataframe\">\n",
       "  <thead>\n",
       "    <tr style=\"text-align: right;\">\n",
       "      <th></th>\n",
       "      <th>year</th>\n",
       "      <th>home_score</th>\n",
       "      <th>away_score</th>\n",
       "      <th>goal_dif</th>\n",
       "      <th>neutral</th>\n",
       "    </tr>\n",
       "  </thead>\n",
       "  <tbody>\n",
       "    <tr>\n",
       "      <th>0</th>\n",
       "      <td>1999.0</td>\n",
       "      <td>1.0</td>\n",
       "      <td>1.0</td>\n",
       "      <td>0.0</td>\n",
       "      <td>0.0</td>\n",
       "    </tr>\n",
       "  </tbody>\n",
       "</table>\n",
       "</div>"
      ],
      "text/plain": [
       "     year  home_score  away_score  goal_dif  neutral\n",
       "0  1999.0         1.0         1.0       0.0      0.0"
      ]
     },
     "execution_count": 8,
     "metadata": {},
     "output_type": "execute_result"
    }
   ],
   "source": [
    "cols = ['year', 'home_score', 'away_score', 'goal_dif', 'neutral']\n",
    "results[cols].median().to_frame().T"
   ]
  },
  {
   "cell_type": "markdown",
   "metadata": {},
   "source": [
    "#### **Mode**"
   ]
  },
  {
   "cell_type": "code",
   "execution_count": 9,
   "metadata": {},
   "outputs": [
    {
     "data": {
      "text/html": [
       "<div>\n",
       "<style scoped>\n",
       "    .dataframe tbody tr th:only-of-type {\n",
       "        vertical-align: middle;\n",
       "    }\n",
       "\n",
       "    .dataframe tbody tr th {\n",
       "        vertical-align: top;\n",
       "    }\n",
       "\n",
       "    .dataframe thead th {\n",
       "        text-align: right;\n",
       "    }\n",
       "</style>\n",
       "<table border=\"1\" class=\"dataframe\">\n",
       "  <thead>\n",
       "    <tr style=\"text-align: right;\">\n",
       "      <th></th>\n",
       "      <th>year</th>\n",
       "      <th>home_team</th>\n",
       "      <th>away_team</th>\n",
       "      <th>home_score</th>\n",
       "      <th>away_score</th>\n",
       "      <th>goal_dif</th>\n",
       "      <th>tournament</th>\n",
       "      <th>city</th>\n",
       "      <th>country</th>\n",
       "      <th>neutral</th>\n",
       "    </tr>\n",
       "  </thead>\n",
       "  <tbody>\n",
       "    <tr>\n",
       "      <th>0</th>\n",
       "      <td>2019</td>\n",
       "      <td>Brazil</td>\n",
       "      <td>Uruguay</td>\n",
       "      <td>1</td>\n",
       "      <td>0</td>\n",
       "      <td>0</td>\n",
       "      <td>Friendly</td>\n",
       "      <td>Kuala Lumpur</td>\n",
       "      <td>United States</td>\n",
       "      <td>False</td>\n",
       "    </tr>\n",
       "  </tbody>\n",
       "</table>\n",
       "</div>"
      ],
      "text/plain": [
       "   year home_team away_team  home_score  away_score  goal_dif tournament  \\\n",
       "0  2019    Brazil   Uruguay           1           0         0   Friendly   \n",
       "\n",
       "           city        country  neutral  \n",
       "0  Kuala Lumpur  United States    False  "
      ]
     },
     "execution_count": 9,
     "metadata": {},
     "output_type": "execute_result"
    }
   ],
   "source": [
    "cols = ['year', 'home_team', 'away_team', 'home_score', 'away_score', 'goal_dif', 'tournament', 'city', 'country', 'neutral']\n",
    "results[cols].mode()"
   ]
  },
  {
   "cell_type": "markdown",
   "metadata": {
    "id": "QRmn0VTFZHV3"
   },
   "source": [
    "### **Dispersion Measures**"
   ]
  },
  {
   "cell_type": "markdown",
   "metadata": {
    "id": "rEHlQlEYZi6I"
   },
   "source": [
    "#### **Standard Deviation**"
   ]
  },
  {
   "cell_type": "code",
   "execution_count": 10,
   "metadata": {
    "colab": {
     "base_uri": "https://localhost:8080/"
    },
    "id": "kZsdQZJ7ZwPi",
    "outputId": "5b87aedf-5a96-4f7f-8f3d-3cdec5744b2a"
   },
   "outputs": [
    {
     "data": {
      "text/html": [
       "<div>\n",
       "<style scoped>\n",
       "    .dataframe tbody tr th:only-of-type {\n",
       "        vertical-align: middle;\n",
       "    }\n",
       "\n",
       "    .dataframe tbody tr th {\n",
       "        vertical-align: top;\n",
       "    }\n",
       "\n",
       "    .dataframe thead th {\n",
       "        text-align: right;\n",
       "    }\n",
       "</style>\n",
       "<table border=\"1\" class=\"dataframe\">\n",
       "  <thead>\n",
       "    <tr style=\"text-align: right;\">\n",
       "      <th></th>\n",
       "      <th>year</th>\n",
       "      <th>home_score</th>\n",
       "      <th>away_score</th>\n",
       "      <th>goal_dif</th>\n",
       "      <th>neutral</th>\n",
       "    </tr>\n",
       "  </thead>\n",
       "  <tbody>\n",
       "    <tr>\n",
       "      <th>0</th>\n",
       "      <td>24.62302</td>\n",
       "      <td>1.747263</td>\n",
       "      <td>1.393775</td>\n",
       "      <td>2.381203</td>\n",
       "      <td>0.432208</td>\n",
       "    </tr>\n",
       "  </tbody>\n",
       "</table>\n",
       "</div>"
      ],
      "text/plain": [
       "       year  home_score  away_score  goal_dif   neutral\n",
       "0  24.62302    1.747263    1.393775  2.381203  0.432208"
      ]
     },
     "execution_count": 10,
     "metadata": {},
     "output_type": "execute_result"
    }
   ],
   "source": [
    "cols = ['year', 'home_score', 'away_score', 'goal_dif', 'neutral']\n",
    "results[cols].std().to_frame().T"
   ]
  },
  {
   "cell_type": "markdown",
   "metadata": {},
   "source": [
    "#### **Variance**"
   ]
  },
  {
   "cell_type": "code",
   "execution_count": 11,
   "metadata": {},
   "outputs": [
    {
     "data": {
      "text/html": [
       "<div>\n",
       "<style scoped>\n",
       "    .dataframe tbody tr th:only-of-type {\n",
       "        vertical-align: middle;\n",
       "    }\n",
       "\n",
       "    .dataframe tbody tr th {\n",
       "        vertical-align: top;\n",
       "    }\n",
       "\n",
       "    .dataframe thead th {\n",
       "        text-align: right;\n",
       "    }\n",
       "</style>\n",
       "<table border=\"1\" class=\"dataframe\">\n",
       "  <thead>\n",
       "    <tr style=\"text-align: right;\">\n",
       "      <th></th>\n",
       "      <th>year</th>\n",
       "      <th>home_score</th>\n",
       "      <th>away_score</th>\n",
       "      <th>goal_dif</th>\n",
       "      <th>neutral</th>\n",
       "    </tr>\n",
       "  </thead>\n",
       "  <tbody>\n",
       "    <tr>\n",
       "      <th>0</th>\n",
       "      <td>606.293096</td>\n",
       "      <td>3.052926</td>\n",
       "      <td>1.942609</td>\n",
       "      <td>5.670126</td>\n",
       "      <td>0.186804</td>\n",
       "    </tr>\n",
       "  </tbody>\n",
       "</table>\n",
       "</div>"
      ],
      "text/plain": [
       "         year  home_score  away_score  goal_dif   neutral\n",
       "0  606.293096    3.052926    1.942609  5.670126  0.186804"
      ]
     },
     "execution_count": 11,
     "metadata": {},
     "output_type": "execute_result"
    }
   ],
   "source": [
    "cols = ['year', 'home_score', 'away_score', 'goal_dif', 'neutral']\n",
    "results[cols].var().to_frame().T"
   ]
  },
  {
   "cell_type": "markdown",
   "metadata": {},
   "source": [
    "### **Boxplots**\n",
    "\n",
    "**Observação:** Nos gráficos que analisam as variáves `home_score`, `away_score` e `goal_dif`, os valores cujo módulo fosse acima de 8 foram simplificados para facilitar a comparação"
   ]
  },
  {
   "cell_type": "markdown",
   "metadata": {},
   "source": [
    "#### **year**"
   ]
  },
  {
   "cell_type": "code",
   "execution_count": 12,
   "metadata": {},
   "outputs": [
    {
     "data": {
      "image/png": "[encoded data removed]",
      "text/plain": [
       "<Figure size 432x288 with 1 Axes>"
      ]
     },
     "metadata": {},
     "output_type": "display_data"
    }
   ],
   "source": [
    "# Visualization Settings\n",
    "ax = sns.boxplot(data=results, x=results.date.map(lambda x: x.year), width=0.4, orient='h')\n",
    "ax.set_title(\"Year of Matches In Dataset\")\n",
    "\n",
    "\n",
    "# Show\n",
    "plt.show()"
   ]
  },
  {
   "cell_type": "markdown",
   "metadata": {},
   "source": [
    "#### **home_score and away_score**"
   ]
  },
  {
   "cell_type": "code",
   "execution_count": 13,
   "metadata": {},
   "outputs": [
    {
     "data": {
      "image/png": "[encoded data removed]",
      "text/plain": [
       "<Figure size 432x288 with 1 Axes>"
      ]
     },
     "metadata": {},
     "output_type": "display_data"
    }
   ],
   "source": [
    "# Create copy of results DataFrame\n",
    "match_score = results[['home_score', 'away_score', 'neutral']].copy()\n",
    "\n",
    "# Remove matches in neutral field for comparation\n",
    "mask_field = match_score.neutral == False\n",
    "\n",
    "# Simplifying the number of goals above 8 to facilitate visualization (Generate Warning, but is fine)\n",
    "max_number_of_goals = 8\n",
    "mask_number_of_goals_home = match_score.home_score > max_number_of_goals\n",
    "mask_number_of_goals_away = match_score.away_score > max_number_of_goals\n",
    "\n",
    "match_score.home_score = match_score.home_score.where(~mask_number_of_goals_home, max_number_of_goals)\n",
    "match_score.away_score = match_score.away_score.where(~mask_number_of_goals_away, max_number_of_goals)\n",
    "\n",
    "# Visualization\n",
    "ax = sns.boxplot(data=match_score[['home_score', 'away_score']][mask_field],\n",
    "            width=0.4, orient='h')\n",
    "ax.set_ylabel(\"Location\")\n",
    "ax.set_xlabel(\"Goals scored\")\n",
    "ax.set_title(\"Boxplot golas scored home and away\")\n",
    "\n",
    "# Show\n",
    "plt.show()"
   ]
  },
  {
   "cell_type": "markdown",
   "metadata": {},
   "source": [
    "#### **goal_dif**"
   ]
  },
  {
   "cell_type": "code",
   "execution_count": 14,
   "metadata": {
    "scrolled": false
   },
   "outputs": [
    {
     "data": {
      "image/png": "[encoded data removed]",
      "text/plain": [
       "<Figure size 432x288 with 1 Axes>"
      ]
     },
     "metadata": {},
     "output_type": "display_data"
    }
   ],
   "source": [
    "# Create copy of results DataFrame\n",
    "match_score = results[['goal_dif', 'neutral']].copy()\n",
    "\n",
    "# Remove matches in neutral field for comparation\n",
    "mask_field = match_score.neutral == False\n",
    "\n",
    "# Simplifying the number of goals above 7 to facilitate visualization (Generate Warning, but is fine)\n",
    "max_number_of_goals = 8\n",
    "mask_number_of_goals_dif_home = match_score.goal_dif > max_number_of_goals\n",
    "mask_number_of_goals_dif_away = match_score.goal_dif < -max_number_of_goals\n",
    "\n",
    "match_score.goal_dif = match_score.goal_dif.where(~mask_number_of_goals_dif_home, max_number_of_goals)\n",
    "match_score.goal_dif = match_score.goal_dif.where(~mask_number_of_goals_dif_away, max_number_of_goals)\n",
    "\n",
    "# Visualization\n",
    "ax = sns.boxplot(data=match_score['goal_dif'][mask_field],\n",
    "            width=0.4, orient='h')\n",
    "ax.set_xlabel(\"goal_dif\")\n",
    "ax.set_title(\"Goal Diference in Match (+ home win / - away win)\")\n",
    "\n",
    "# Show\n",
    "plt.show()"
   ]
  },
  {
   "cell_type": "markdown",
   "metadata": {
    "id": "4NxSByNdvhNi"
   },
   "source": [
    "## **goalscores dataset**"
   ]
  },
  {
   "cell_type": "markdown",
   "metadata": {
    "colab": {
     "base_uri": "https://localhost:8080/",
     "height": 661
    },
    "id": "pO1-Afc-wYen",
    "outputId": "570788eb-df41-488d-b9b1-05c9fbc26ca3"
   },
   "source": [
    "### **Measures of Central Tendency**"
   ]
  },
  {
   "cell_type": "markdown",
   "metadata": {},
   "source": [
    "#### **Mean**"
   ]
  },
  {
   "cell_type": "code",
   "execution_count": 15,
   "metadata": {},
   "outputs": [
    {
     "data": {
      "text/html": [
       "<div>\n",
       "<style scoped>\n",
       "    .dataframe tbody tr th:only-of-type {\n",
       "        vertical-align: middle;\n",
       "    }\n",
       "\n",
       "    .dataframe tbody tr th {\n",
       "        vertical-align: top;\n",
       "    }\n",
       "\n",
       "    .dataframe thead th {\n",
       "        text-align: right;\n",
       "    }\n",
       "</style>\n",
       "<table border=\"1\" class=\"dataframe\">\n",
       "  <thead>\n",
       "    <tr style=\"text-align: right;\">\n",
       "      <th></th>\n",
       "      <th>minute</th>\n",
       "      <th>own_goal</th>\n",
       "      <th>penalty</th>\n",
       "    </tr>\n",
       "  </thead>\n",
       "  <tbody>\n",
       "    <tr>\n",
       "      <th>0</th>\n",
       "      <td>50.019166</td>\n",
       "      <td>0.017509</td>\n",
       "      <td>0.065475</td>\n",
       "    </tr>\n",
       "  </tbody>\n",
       "</table>\n",
       "</div>"
      ],
      "text/plain": [
       "      minute  own_goal   penalty\n",
       "0  50.019166  0.017509  0.065475"
      ]
     },
     "execution_count": 15,
     "metadata": {},
     "output_type": "execute_result"
    }
   ],
   "source": [
    "cols = ['minute', 'own_goal', 'penalty']\n",
    "goalscorers[cols].mean().to_frame().T"
   ]
  },
  {
   "cell_type": "markdown",
   "metadata": {},
   "source": [
    "#### **Median**"
   ]
  },
  {
   "cell_type": "code",
   "execution_count": 16,
   "metadata": {},
   "outputs": [
    {
     "data": {
      "text/html": [
       "<div>\n",
       "<style scoped>\n",
       "    .dataframe tbody tr th:only-of-type {\n",
       "        vertical-align: middle;\n",
       "    }\n",
       "\n",
       "    .dataframe tbody tr th {\n",
       "        vertical-align: top;\n",
       "    }\n",
       "\n",
       "    .dataframe thead th {\n",
       "        text-align: right;\n",
       "    }\n",
       "</style>\n",
       "<table border=\"1\" class=\"dataframe\">\n",
       "  <thead>\n",
       "    <tr style=\"text-align: right;\">\n",
       "      <th></th>\n",
       "      <th>minute</th>\n",
       "      <th>own_goal</th>\n",
       "      <th>penalty</th>\n",
       "    </tr>\n",
       "  </thead>\n",
       "  <tbody>\n",
       "    <tr>\n",
       "      <th>0</th>\n",
       "      <td>51.0</td>\n",
       "      <td>0.0</td>\n",
       "      <td>0.0</td>\n",
       "    </tr>\n",
       "  </tbody>\n",
       "</table>\n",
       "</div>"
      ],
      "text/plain": [
       "   minute  own_goal  penalty\n",
       "0    51.0       0.0      0.0"
      ]
     },
     "execution_count": 16,
     "metadata": {},
     "output_type": "execute_result"
    }
   ],
   "source": [
    "cols = ['minute', 'own_goal', 'penalty']\n",
    "goalscorers[cols].median().to_frame().T"
   ]
  },
  {
   "cell_type": "markdown",
   "metadata": {},
   "source": [
    "#### **Mode**"
   ]
  },
  {
   "cell_type": "code",
   "execution_count": 17,
   "metadata": {},
   "outputs": [
    {
     "data": {
      "text/html": [
       "<div>\n",
       "<style scoped>\n",
       "    .dataframe tbody tr th:only-of-type {\n",
       "        vertical-align: middle;\n",
       "    }\n",
       "\n",
       "    .dataframe tbody tr th {\n",
       "        vertical-align: top;\n",
       "    }\n",
       "\n",
       "    .dataframe thead th {\n",
       "        text-align: right;\n",
       "    }\n",
       "</style>\n",
       "<table border=\"1\" class=\"dataframe\">\n",
       "  <thead>\n",
       "    <tr style=\"text-align: right;\">\n",
       "      <th></th>\n",
       "      <th>home_team</th>\n",
       "      <th>away_team</th>\n",
       "      <th>team</th>\n",
       "      <th>scorer</th>\n",
       "      <th>minute</th>\n",
       "      <th>own_goal</th>\n",
       "      <th>penalty</th>\n",
       "    </tr>\n",
       "  </thead>\n",
       "  <tbody>\n",
       "    <tr>\n",
       "      <th>0</th>\n",
       "      <td>Brazil</td>\n",
       "      <td>Uruguay</td>\n",
       "      <td>Brazil</td>\n",
       "      <td>Cristiano Ronaldo</td>\n",
       "      <td>90.0</td>\n",
       "      <td>False</td>\n",
       "      <td>False</td>\n",
       "    </tr>\n",
       "  </tbody>\n",
       "</table>\n",
       "</div>"
      ],
      "text/plain": [
       "  home_team away_team    team             scorer  minute  own_goal  penalty\n",
       "0    Brazil   Uruguay  Brazil  Cristiano Ronaldo    90.0     False    False"
      ]
     },
     "execution_count": 17,
     "metadata": {},
     "output_type": "execute_result"
    }
   ],
   "source": [
    "cols = ['home_team', 'away_team', 'team', 'scorer', 'minute', 'own_goal', 'penalty']\n",
    "goalscorers[cols].mode()"
   ]
  },
  {
   "cell_type": "markdown",
   "metadata": {
    "id": "QRmn0VTFZHV3"
   },
   "source": [
    "### **Dispersion Measures**"
   ]
  },
  {
   "cell_type": "markdown",
   "metadata": {
    "id": "rEHlQlEYZi6I"
   },
   "source": [
    "#### **Standard Deviation**"
   ]
  },
  {
   "cell_type": "code",
   "execution_count": 18,
   "metadata": {
    "colab": {
     "base_uri": "https://localhost:8080/"
    },
    "id": "kZsdQZJ7ZwPi",
    "outputId": "5b87aedf-5a96-4f7f-8f3d-3cdec5744b2a"
   },
   "outputs": [
    {
     "data": {
      "text/html": [
       "<div>\n",
       "<style scoped>\n",
       "    .dataframe tbody tr th:only-of-type {\n",
       "        vertical-align: middle;\n",
       "    }\n",
       "\n",
       "    .dataframe tbody tr th {\n",
       "        vertical-align: top;\n",
       "    }\n",
       "\n",
       "    .dataframe thead th {\n",
       "        text-align: right;\n",
       "    }\n",
       "</style>\n",
       "<table border=\"1\" class=\"dataframe\">\n",
       "  <thead>\n",
       "    <tr style=\"text-align: right;\">\n",
       "      <th></th>\n",
       "      <th>minute</th>\n",
       "      <th>own_goal</th>\n",
       "      <th>penalty</th>\n",
       "    </tr>\n",
       "  </thead>\n",
       "  <tbody>\n",
       "    <tr>\n",
       "      <th>0</th>\n",
       "      <td>26.360859</td>\n",
       "      <td>0.131159</td>\n",
       "      <td>0.247365</td>\n",
       "    </tr>\n",
       "  </tbody>\n",
       "</table>\n",
       "</div>"
      ],
      "text/plain": [
       "      minute  own_goal   penalty\n",
       "0  26.360859  0.131159  0.247365"
      ]
     },
     "execution_count": 18,
     "metadata": {},
     "output_type": "execute_result"
    }
   ],
   "source": [
    "cols = ['minute', 'own_goal', 'penalty']\n",
    "goalscorers[cols].std().to_frame().T"
   ]
  },
  {
   "cell_type": "markdown",
   "metadata": {},
   "source": [
    "#### **Variance**"
   ]
  },
  {
   "cell_type": "code",
   "execution_count": 19,
   "metadata": {},
   "outputs": [
    {
     "data": {
      "text/html": [
       "<div>\n",
       "<style scoped>\n",
       "    .dataframe tbody tr th:only-of-type {\n",
       "        vertical-align: middle;\n",
       "    }\n",
       "\n",
       "    .dataframe tbody tr th {\n",
       "        vertical-align: top;\n",
       "    }\n",
       "\n",
       "    .dataframe thead th {\n",
       "        text-align: right;\n",
       "    }\n",
       "</style>\n",
       "<table border=\"1\" class=\"dataframe\">\n",
       "  <thead>\n",
       "    <tr style=\"text-align: right;\">\n",
       "      <th></th>\n",
       "      <th>minute</th>\n",
       "      <th>own_goal</th>\n",
       "      <th>penalty</th>\n",
       "    </tr>\n",
       "  </thead>\n",
       "  <tbody>\n",
       "    <tr>\n",
       "      <th>0</th>\n",
       "      <td>694.894894</td>\n",
       "      <td>0.017203</td>\n",
       "      <td>0.06119</td>\n",
       "    </tr>\n",
       "  </tbody>\n",
       "</table>\n",
       "</div>"
      ],
      "text/plain": [
       "       minute  own_goal  penalty\n",
       "0  694.894894  0.017203  0.06119"
      ]
     },
     "execution_count": 19,
     "metadata": {},
     "output_type": "execute_result"
    }
   ],
   "source": [
    "cols = ['minute', 'own_goal', 'penalty']\n",
    "goalscorers[cols].var().to_frame().T"
   ]
  },
  {
   "cell_type": "markdown",
   "metadata": {},
   "source": [
    "### **Boxplots**"
   ]
  },
  {
   "cell_type": "markdown",
   "metadata": {},
   "source": [
    "#### **minute**"
   ]
  },
  {
   "cell_type": "code",
   "execution_count": 20,
   "metadata": {},
   "outputs": [
    {
     "data": {
      "image/png": "[encoded data removed]",
      "text/plain": [
       "<Figure size 432x288 with 1 Axes>"
      ]
     },
     "metadata": {},
     "output_type": "display_data"
    }
   ],
   "source": [
    "# Visualização\n",
    "ax = sns.boxplot(data=goalscorers, x='minute', width=0.4, orient='h')\n",
    "ax.set_title(\"Minute of Goal Scored\")\n",
    "\n",
    "\n",
    "# Show\n",
    "plt.show()"
   ]
  },
  {
   "cell_type": "markdown",
   "metadata": {
    "id": "4NxSByNdvhNi"
   },
   "source": [
    "## **shootouts dataset**"
   ]
  },
  {
   "cell_type": "markdown",
   "metadata": {
    "colab": {
     "base_uri": "https://localhost:8080/",
     "height": 661
    },
    "id": "pO1-Afc-wYen",
    "outputId": "570788eb-df41-488d-b9b1-05c9fbc26ca3"
   },
   "source": [
    "### **Measures of Central Tendency**"
   ]
  },
  {
   "cell_type": "markdown",
   "metadata": {},
   "source": [
    "#### **Mean**"
   ]
  },
  {
   "cell_type": "markdown",
   "metadata": {},
   "source": [
    "As this dataframe does not have numerical values, it isn't possible to calculate the average."
   ]
  },
  {
   "cell_type": "markdown",
   "metadata": {},
   "source": [
    "#### **Median**"
   ]
  },
  {
   "cell_type": "markdown",
   "metadata": {},
   "source": [
    "As this dataframe does not have numerical values, it isn't possible to calculate the median."
   ]
  },
  {
   "cell_type": "markdown",
   "metadata": {},
   "source": [
    "#### **Mode**"
   ]
  },
  {
   "cell_type": "code",
   "execution_count": 21,
   "metadata": {},
   "outputs": [
    {
     "data": {
      "text/html": [
       "<div>\n",
       "<style scoped>\n",
       "    .dataframe tbody tr th:only-of-type {\n",
       "        vertical-align: middle;\n",
       "    }\n",
       "\n",
       "    .dataframe tbody tr th {\n",
       "        vertical-align: top;\n",
       "    }\n",
       "\n",
       "    .dataframe thead th {\n",
       "        text-align: right;\n",
       "    }\n",
       "</style>\n",
       "<table border=\"1\" class=\"dataframe\">\n",
       "  <thead>\n",
       "    <tr style=\"text-align: right;\">\n",
       "      <th></th>\n",
       "      <th>home_team</th>\n",
       "      <th>away_team</th>\n",
       "      <th>winner</th>\n",
       "    </tr>\n",
       "  </thead>\n",
       "  <tbody>\n",
       "    <tr>\n",
       "      <th>0</th>\n",
       "      <td>South Africa</td>\n",
       "      <td>Uganda</td>\n",
       "      <td>Argentina</td>\n",
       "    </tr>\n",
       "    <tr>\n",
       "      <th>1</th>\n",
       "      <td>Zambia</td>\n",
       "      <td>NaN</td>\n",
       "      <td>NaN</td>\n",
       "    </tr>\n",
       "  </tbody>\n",
       "</table>\n",
       "</div>"
      ],
      "text/plain": [
       "      home_team away_team     winner\n",
       "0  South Africa    Uganda  Argentina\n",
       "1        Zambia       NaN        NaN"
      ]
     },
     "execution_count": 21,
     "metadata": {},
     "output_type": "execute_result"
    }
   ],
   "source": [
    "shootouts[['home_team', 'away_team', 'winner']].mode()"
   ]
  },
  {
   "cell_type": "markdown",
   "metadata": {
    "id": "QRmn0VTFZHV3"
   },
   "source": [
    "### **Dispersion Measures**"
   ]
  },
  {
   "cell_type": "markdown",
   "metadata": {
    "id": "rEHlQlEYZi6I"
   },
   "source": [
    "#### **Standard Deviation**"
   ]
  },
  {
   "cell_type": "markdown",
   "metadata": {},
   "source": [
    "As this dataframe does not have numerical values, it isn't possible to calculate the standard deviation."
   ]
  },
  {
   "cell_type": "markdown",
   "metadata": {},
   "source": [
    "#### **Variance**"
   ]
  },
  {
   "cell_type": "markdown",
   "metadata": {},
   "source": [
    "As this dataframe does not have numerical values, it isn't possible to calculate the variance."
   ]
  },
  {
   "cell_type": "markdown",
   "metadata": {},
   "source": [
    "### **Boxplots**"
   ]
  },
  {
   "cell_type": "markdown",
   "metadata": {},
   "source": [
    "#### **winner_count**\n",
    "\n",
    "Checks the absolute frequency of penalty shootout wins by team"
   ]
  },
  {
   "cell_type": "code",
   "execution_count": 22,
   "metadata": {},
   "outputs": [
    {
     "data": {
      "image/png": "[encoded data removed]",
      "text/plain": [
       "<Figure size 432x288 with 1 Axes>"
      ]
     },
     "metadata": {},
     "output_type": "display_data"
    }
   ],
   "source": [
    "# Visualization\n",
    "ax = sns.boxplot(data=shootouts.winner.value_counts(), width=0.4, orient='h')\n",
    "ax.set_title(\"Shootouts Wins per Team\")\n",
    "ax.set_xlabel('wins')\n",
    "\n",
    "# Show\n",
    "plt.show()"
   ]
  },
  {
   "cell_type": "markdown",
   "metadata": {},
   "source": [
    "# **Bonus - Elo Ranking**\n",
    "\n",
    "The World Football Elo Ratings are based on the Elo rating system. This system is used by FIDE, the international chess federation, to rate chess players.\n",
    "\n",
    "We can apply the Elo rating system to international football, by adding a weighting for the kind of match, an adjustment for the home team advantage, and an adjustment for goal difference in the match result.\n",
    "\n",
    "The ratings are based on the following formulas:\n",
    "\n",
    "Rn = Ro + G x K × (W - We)\n",
    "\n",
    "- Rn is the new rating, Ro is the old (pre-match) rating.\n",
    "- G is a goal difference index\n",
    "    - If 0 or 1: 1\n",
    "    - If 2: 3/2\n",
    "    - If 3 or more: (11 + goal_dif) / 8\n",
    "- K is the weight constant for the tournament played (We made an adjustmant from the reference):\n",
    "    - 60 for World Cup Matches;\n",
    "    - 50 for continental championships and major intercontinental tournaments;\n",
    "    - 40 for World Cup qualifiers and major tournaments;\n",
    "    - 30 for Continental qualifiers and major tournaments;\n",
    "    - 20 for Friendly and other tournaments\n",
    "- W is the result of the game (1 for a win, 0.5 for a draw, and 0 for a loss).\n",
    "- We is the expected result (win expectancy), either from the chart or the following formula:\n",
    "    - We = 1 / (10**(-dr/400) + 1)\n",
    "    - dr equals the difference in ratings plus 100 points for a team playing at home.\n",
    "    \n",
    "Reference: https://www.eloratings.net/about"
   ]
  },
  {
   "cell_type": "markdown",
   "metadata": {},
   "source": [
    "## **Functions implementation**"
   ]
  },
  {
   "cell_type": "code",
   "execution_count": 23,
   "metadata": {},
   "outputs": [],
   "source": [
    "# Return expected result probabilty\n",
    "def expected_result(ranking_a, ranking_b, home_advantage):\n",
    "    return 1 / (10**(-((ranking_a+home_advantage)-ranking_b)/400) + 1)\n",
    "\n",
    "# Return result by goal diference\n",
    "def result(goal_dif):\n",
    "    # return 0 to lost\n",
    "    if goal_dif < 0:\n",
    "        return 0\n",
    "    # return 0.5 to draw\n",
    "    elif goal_dif == 0:\n",
    "        return 0.5\n",
    "    # return 1 to win\n",
    "    return 1\n",
    "\n",
    "\n",
    "# The number of goals is taken into account by use of a goal difference index\n",
    "def goal_index(goal_dif):\n",
    "    goal_dif = abs(goal_dif)\n",
    "    if goal_dif <= 1:\n",
    "        return 1\n",
    "    elif goal_dif == 2:\n",
    "        return 3/2\n",
    "    else:\n",
    "        return (11 + goal_dif) / 8\n",
    "\n",
    "\n",
    "# Return tournament weight constant\n",
    "def tournament_weight(tournament):\n",
    "    # 60 points\n",
    "    world_cup = 'FIFA World Cup'\n",
    "    # 50 points\n",
    "    continental = ['AFC Asian Cup', 'Africa Cup of Nations',\n",
    "                  'CONCACAF Gold Cup', 'Copa América', 'OFC Nations Cup',\n",
    "                  'UEFA European Championship', 'CONCACAF Cup', 'AFC Solidarity Cup',\n",
    "                  'AFC Challenge Cup', 'Confederations Cup', 'CONMEBOL–UEFA Cup of Champions']\n",
    "    # 40 points\n",
    "    international_qualifiers_and_majors = ['UEFA Nations League', 'FIFA World Cup qualification',  \n",
    "                                           'CONCACAF Nations League', 'African Nations Championship']\n",
    "    # 30 points\n",
    "    continental_qualifiers = ['UEFA Euro qualification', 'African Cup of Nations qualification', 'AFC Asian Cup qualification',\n",
    "                              'Copa América qualification']\n",
    "    # 20 points + others\n",
    "    friendly = 'Friendly'\n",
    "    \n",
    "    if tournament == world_cup:\n",
    "        return 60\n",
    "    elif tournament in continental:\n",
    "        return 50\n",
    "    elif tournament in international_qualifiers_and_majors:\n",
    "        return 40\n",
    "    elif tournament in continental_qualifiers:\n",
    "        return 30\n",
    "    elif tournament == friendly:\n",
    "        return 20\n",
    "    else:\n",
    "        return 20\n",
    "\n",
    "\n",
    "# Calculate change of points\n",
    "def points_change(ranking_a, ranking_b, goal_dif, tournament, home_advantage=100):\n",
    "    g = goal_index(goal_dif)\n",
    "    k = tournament_weight(tournament)\n",
    "    w = result(goal_dif)\n",
    "    we = expected_result(ranking_a, ranking_b, home_advantage)\n",
    "    return g * k * (w - we)\n",
    "\n",
    "\n",
    "# Return the new ranking of the team\n",
    "def elo(ranking_a, ranking_b, goal_dif, tournament, neutral, home=True):\n",
    "    if neutral and home:\n",
    "        return ranking_a + points_change(ranking_a, ranking_b, goal_dif, tournament, home_advantage=0)\n",
    "    elif neutral and not home:\n",
    "        return ranking_b - points_change(ranking_a, ranking_b, goal_dif, tournament, home_advantage=0)\n",
    "    elif home:\n",
    "        return ranking_a + points_change(ranking_a, ranking_b, goal_dif, tournament, home_advantage=100)\n",
    "    return ranking_b - points_change(ranking_a, ranking_b, goal_dif, tournament, home_advantage=100)"
   ]
  },
  {
   "cell_type": "markdown",
   "metadata": {},
   "source": [
    "## **Data Processing**"
   ]
  },
  {
   "cell_type": "code",
   "execution_count": 24,
   "metadata": {},
   "outputs": [
    {
     "data": {
      "text/html": [
       "<div>\n",
       "<style scoped>\n",
       "    .dataframe tbody tr th:only-of-type {\n",
       "        vertical-align: middle;\n",
       "    }\n",
       "\n",
       "    .dataframe tbody tr th {\n",
       "        vertical-align: top;\n",
       "    }\n",
       "\n",
       "    .dataframe thead th {\n",
       "        text-align: right;\n",
       "    }\n",
       "</style>\n",
       "<table border=\"1\" class=\"dataframe\">\n",
       "  <thead>\n",
       "    <tr style=\"text-align: right;\">\n",
       "      <th></th>\n",
       "      <th>country</th>\n",
       "      <th>1872</th>\n",
       "      <th>1873</th>\n",
       "      <th>1874</th>\n",
       "      <th>1875</th>\n",
       "      <th>1876</th>\n",
       "      <th>1877</th>\n",
       "      <th>1878</th>\n",
       "      <th>1879</th>\n",
       "      <th>1880</th>\n",
       "      <th>...</th>\n",
       "      <th>2014</th>\n",
       "      <th>2015</th>\n",
       "      <th>2016</th>\n",
       "      <th>2017</th>\n",
       "      <th>2018</th>\n",
       "      <th>2019</th>\n",
       "      <th>2020</th>\n",
       "      <th>2021</th>\n",
       "      <th>2022</th>\n",
       "      <th>2023</th>\n",
       "    </tr>\n",
       "  </thead>\n",
       "  <tbody>\n",
       "    <tr>\n",
       "      <th>0</th>\n",
       "      <td>Abkhazia</td>\n",
       "      <td>1500.0</td>\n",
       "      <td>1500.0</td>\n",
       "      <td>1500.0</td>\n",
       "      <td>1500.0</td>\n",
       "      <td>1500.0</td>\n",
       "      <td>1500.0</td>\n",
       "      <td>1500.0</td>\n",
       "      <td>1500.0</td>\n",
       "      <td>1500.0</td>\n",
       "      <td>...</td>\n",
       "      <td>1495.795646</td>\n",
       "      <td>1495.795646</td>\n",
       "      <td>1541.851957</td>\n",
       "      <td>1537.114724</td>\n",
       "      <td>1573.851851</td>\n",
       "      <td>1590.416934</td>\n",
       "      <td>1590.416934</td>\n",
       "      <td>1590.416934</td>\n",
       "      <td>1590.416934</td>\n",
       "      <td>1590.416934</td>\n",
       "    </tr>\n",
       "    <tr>\n",
       "      <th>1</th>\n",
       "      <td>Afghanistan</td>\n",
       "      <td>1500.0</td>\n",
       "      <td>1500.0</td>\n",
       "      <td>1500.0</td>\n",
       "      <td>1500.0</td>\n",
       "      <td>1500.0</td>\n",
       "      <td>1500.0</td>\n",
       "      <td>1500.0</td>\n",
       "      <td>1500.0</td>\n",
       "      <td>1500.0</td>\n",
       "      <td>...</td>\n",
       "      <td>1297.171850</td>\n",
       "      <td>1322.079335</td>\n",
       "      <td>1326.033712</td>\n",
       "      <td>1334.662828</td>\n",
       "      <td>1327.902339</td>\n",
       "      <td>1323.648908</td>\n",
       "      <td>1323.648908</td>\n",
       "      <td>1327.496183</td>\n",
       "      <td>1292.290165</td>\n",
       "      <td>1292.290165</td>\n",
       "    </tr>\n",
       "    <tr>\n",
       "      <th>2</th>\n",
       "      <td>Albania</td>\n",
       "      <td>1500.0</td>\n",
       "      <td>1500.0</td>\n",
       "      <td>1500.0</td>\n",
       "      <td>1500.0</td>\n",
       "      <td>1500.0</td>\n",
       "      <td>1500.0</td>\n",
       "      <td>1500.0</td>\n",
       "      <td>1500.0</td>\n",
       "      <td>1500.0</td>\n",
       "      <td>...</td>\n",
       "      <td>1611.563089</td>\n",
       "      <td>1632.313054</td>\n",
       "      <td>1599.557607</td>\n",
       "      <td>1623.529074</td>\n",
       "      <td>1539.358011</td>\n",
       "      <td>1554.754631</td>\n",
       "      <td>1578.002721</td>\n",
       "      <td>1608.412824</td>\n",
       "      <td>1571.702703</td>\n",
       "      <td>1568.422788</td>\n",
       "    </tr>\n",
       "    <tr>\n",
       "      <th>3</th>\n",
       "      <td>Alderney</td>\n",
       "      <td>1500.0</td>\n",
       "      <td>1500.0</td>\n",
       "      <td>1500.0</td>\n",
       "      <td>1500.0</td>\n",
       "      <td>1500.0</td>\n",
       "      <td>1500.0</td>\n",
       "      <td>1500.0</td>\n",
       "      <td>1500.0</td>\n",
       "      <td>1500.0</td>\n",
       "      <td>...</td>\n",
       "      <td>1401.560612</td>\n",
       "      <td>1359.478499</td>\n",
       "      <td>1359.478499</td>\n",
       "      <td>1347.580703</td>\n",
       "      <td>1347.580703</td>\n",
       "      <td>1340.406325</td>\n",
       "      <td>1340.406325</td>\n",
       "      <td>1340.406325</td>\n",
       "      <td>1340.406325</td>\n",
       "      <td>1340.406325</td>\n",
       "    </tr>\n",
       "    <tr>\n",
       "      <th>4</th>\n",
       "      <td>Algeria</td>\n",
       "      <td>1500.0</td>\n",
       "      <td>1500.0</td>\n",
       "      <td>1500.0</td>\n",
       "      <td>1500.0</td>\n",
       "      <td>1500.0</td>\n",
       "      <td>1500.0</td>\n",
       "      <td>1500.0</td>\n",
       "      <td>1500.0</td>\n",
       "      <td>1500.0</td>\n",
       "      <td>...</td>\n",
       "      <td>1747.113271</td>\n",
       "      <td>1748.196510</td>\n",
       "      <td>1722.458934</td>\n",
       "      <td>1667.296094</td>\n",
       "      <td>1628.919370</td>\n",
       "      <td>1753.821646</td>\n",
       "      <td>1768.790654</td>\n",
       "      <td>1829.319128</td>\n",
       "      <td>1806.916842</td>\n",
       "      <td>1810.859116</td>\n",
       "    </tr>\n",
       "    <tr>\n",
       "      <th>...</th>\n",
       "      <td>...</td>\n",
       "      <td>...</td>\n",
       "      <td>...</td>\n",
       "      <td>...</td>\n",
       "      <td>...</td>\n",
       "      <td>...</td>\n",
       "      <td>...</td>\n",
       "      <td>...</td>\n",
       "      <td>...</td>\n",
       "      <td>...</td>\n",
       "      <td>...</td>\n",
       "      <td>...</td>\n",
       "      <td>...</td>\n",
       "      <td>...</td>\n",
       "      <td>...</td>\n",
       "      <td>...</td>\n",
       "      <td>...</td>\n",
       "      <td>...</td>\n",
       "      <td>...</td>\n",
       "      <td>...</td>\n",
       "      <td>...</td>\n",
       "    </tr>\n",
       "    <tr>\n",
       "      <th>311</th>\n",
       "      <td>Yugoslavia</td>\n",
       "      <td>1500.0</td>\n",
       "      <td>1500.0</td>\n",
       "      <td>1500.0</td>\n",
       "      <td>1500.0</td>\n",
       "      <td>1500.0</td>\n",
       "      <td>1500.0</td>\n",
       "      <td>1500.0</td>\n",
       "      <td>1500.0</td>\n",
       "      <td>1500.0</td>\n",
       "      <td>...</td>\n",
       "      <td>1817.907847</td>\n",
       "      <td>1817.907847</td>\n",
       "      <td>1817.907847</td>\n",
       "      <td>1817.907847</td>\n",
       "      <td>1817.907847</td>\n",
       "      <td>1817.907847</td>\n",
       "      <td>1817.907847</td>\n",
       "      <td>1817.907847</td>\n",
       "      <td>1817.907847</td>\n",
       "      <td>1817.907847</td>\n",
       "    </tr>\n",
       "    <tr>\n",
       "      <th>312</th>\n",
       "      <td>Zambia</td>\n",
       "      <td>1500.0</td>\n",
       "      <td>1500.0</td>\n",
       "      <td>1500.0</td>\n",
       "      <td>1500.0</td>\n",
       "      <td>1500.0</td>\n",
       "      <td>1500.0</td>\n",
       "      <td>1500.0</td>\n",
       "      <td>1500.0</td>\n",
       "      <td>1500.0</td>\n",
       "      <td>...</td>\n",
       "      <td>1616.508650</td>\n",
       "      <td>1609.476480</td>\n",
       "      <td>1605.095052</td>\n",
       "      <td>1663.795333</td>\n",
       "      <td>1623.435750</td>\n",
       "      <td>1604.691480</td>\n",
       "      <td>1610.550506</td>\n",
       "      <td>1572.171643</td>\n",
       "      <td>1553.722341</td>\n",
       "      <td>1571.641021</td>\n",
       "    </tr>\n",
       "    <tr>\n",
       "      <th>313</th>\n",
       "      <td>Zanzibar</td>\n",
       "      <td>1500.0</td>\n",
       "      <td>1500.0</td>\n",
       "      <td>1500.0</td>\n",
       "      <td>1500.0</td>\n",
       "      <td>1500.0</td>\n",
       "      <td>1500.0</td>\n",
       "      <td>1500.0</td>\n",
       "      <td>1500.0</td>\n",
       "      <td>1500.0</td>\n",
       "      <td>...</td>\n",
       "      <td>1445.533117</td>\n",
       "      <td>1445.347718</td>\n",
       "      <td>1445.347718</td>\n",
       "      <td>1484.132374</td>\n",
       "      <td>1484.132374</td>\n",
       "      <td>1484.132374</td>\n",
       "      <td>1484.132374</td>\n",
       "      <td>1484.132374</td>\n",
       "      <td>1484.132374</td>\n",
       "      <td>1484.132374</td>\n",
       "    </tr>\n",
       "    <tr>\n",
       "      <th>314</th>\n",
       "      <td>Zimbabwe</td>\n",
       "      <td>1500.0</td>\n",
       "      <td>1500.0</td>\n",
       "      <td>1500.0</td>\n",
       "      <td>1500.0</td>\n",
       "      <td>1500.0</td>\n",
       "      <td>1500.0</td>\n",
       "      <td>1500.0</td>\n",
       "      <td>1500.0</td>\n",
       "      <td>1500.0</td>\n",
       "      <td>...</td>\n",
       "      <td>1587.517923</td>\n",
       "      <td>1585.829667</td>\n",
       "      <td>1592.148412</td>\n",
       "      <td>1596.689152</td>\n",
       "      <td>1593.629156</td>\n",
       "      <td>1579.179292</td>\n",
       "      <td>1578.597280</td>\n",
       "      <td>1483.718254</td>\n",
       "      <td>1480.573448</td>\n",
       "      <td>1480.573448</td>\n",
       "    </tr>\n",
       "    <tr>\n",
       "      <th>315</th>\n",
       "      <td>Åland Islands</td>\n",
       "      <td>1500.0</td>\n",
       "      <td>1500.0</td>\n",
       "      <td>1500.0</td>\n",
       "      <td>1500.0</td>\n",
       "      <td>1500.0</td>\n",
       "      <td>1500.0</td>\n",
       "      <td>1500.0</td>\n",
       "      <td>1500.0</td>\n",
       "      <td>1500.0</td>\n",
       "      <td>...</td>\n",
       "      <td>1503.684512</td>\n",
       "      <td>1479.874305</td>\n",
       "      <td>1479.874305</td>\n",
       "      <td>1506.693949</td>\n",
       "      <td>1506.693949</td>\n",
       "      <td>1506.693949</td>\n",
       "      <td>1506.693949</td>\n",
       "      <td>1506.693949</td>\n",
       "      <td>1506.693949</td>\n",
       "      <td>1506.693949</td>\n",
       "    </tr>\n",
       "  </tbody>\n",
       "</table>\n",
       "<p>316 rows × 153 columns</p>\n",
       "</div>"
      ],
      "text/plain": [
       "           country    1872    1873    1874    1875    1876    1877    1878  \\\n",
       "0         Abkhazia  1500.0  1500.0  1500.0  1500.0  1500.0  1500.0  1500.0   \n",
       "1      Afghanistan  1500.0  1500.0  1500.0  1500.0  1500.0  1500.0  1500.0   \n",
       "2          Albania  1500.0  1500.0  1500.0  1500.0  1500.0  1500.0  1500.0   \n",
       "3         Alderney  1500.0  1500.0  1500.0  1500.0  1500.0  1500.0  1500.0   \n",
       "4          Algeria  1500.0  1500.0  1500.0  1500.0  1500.0  1500.0  1500.0   \n",
       "..             ...     ...     ...     ...     ...     ...     ...     ...   \n",
       "311     Yugoslavia  1500.0  1500.0  1500.0  1500.0  1500.0  1500.0  1500.0   \n",
       "312         Zambia  1500.0  1500.0  1500.0  1500.0  1500.0  1500.0  1500.0   \n",
       "313       Zanzibar  1500.0  1500.0  1500.0  1500.0  1500.0  1500.0  1500.0   \n",
       "314       Zimbabwe  1500.0  1500.0  1500.0  1500.0  1500.0  1500.0  1500.0   \n",
       "315  Åland Islands  1500.0  1500.0  1500.0  1500.0  1500.0  1500.0  1500.0   \n",
       "\n",
       "       1879    1880  ...         2014         2015         2016         2017  \\\n",
       "0    1500.0  1500.0  ...  1495.795646  1495.795646  1541.851957  1537.114724   \n",
       "1    1500.0  1500.0  ...  1297.171850  1322.079335  1326.033712  1334.662828   \n",
       "2    1500.0  1500.0  ...  1611.563089  1632.313054  1599.557607  1623.529074   \n",
       "3    1500.0  1500.0  ...  1401.560612  1359.478499  1359.478499  1347.580703   \n",
       "4    1500.0  1500.0  ...  1747.113271  1748.196510  1722.458934  1667.296094   \n",
       "..      ...     ...  ...          ...          ...          ...          ...   \n",
       "311  1500.0  1500.0  ...  1817.907847  1817.907847  1817.907847  1817.907847   \n",
       "312  1500.0  1500.0  ...  1616.508650  1609.476480  1605.095052  1663.795333   \n",
       "313  1500.0  1500.0  ...  1445.533117  1445.347718  1445.347718  1484.132374   \n",
       "314  1500.0  1500.0  ...  1587.517923  1585.829667  1592.148412  1596.689152   \n",
       "315  1500.0  1500.0  ...  1503.684512  1479.874305  1479.874305  1506.693949   \n",
       "\n",
       "            2018         2019         2020         2021         2022  \\\n",
       "0    1573.851851  1590.416934  1590.416934  1590.416934  1590.416934   \n",
       "1    1327.902339  1323.648908  1323.648908  1327.496183  1292.290165   \n",
       "2    1539.358011  1554.754631  1578.002721  1608.412824  1571.702703   \n",
       "3    1347.580703  1340.406325  1340.406325  1340.406325  1340.406325   \n",
       "4    1628.919370  1753.821646  1768.790654  1829.319128  1806.916842   \n",
       "..           ...          ...          ...          ...          ...   \n",
       "311  1817.907847  1817.907847  1817.907847  1817.907847  1817.907847   \n",
       "312  1623.435750  1604.691480  1610.550506  1572.171643  1553.722341   \n",
       "313  1484.132374  1484.132374  1484.132374  1484.132374  1484.132374   \n",
       "314  1593.629156  1579.179292  1578.597280  1483.718254  1480.573448   \n",
       "315  1506.693949  1506.693949  1506.693949  1506.693949  1506.693949   \n",
       "\n",
       "            2023  \n",
       "0    1590.416934  \n",
       "1    1292.290165  \n",
       "2    1568.422788  \n",
       "3    1340.406325  \n",
       "4    1810.859116  \n",
       "..           ...  \n",
       "311  1817.907847  \n",
       "312  1571.641021  \n",
       "313  1484.132374  \n",
       "314  1480.573448  \n",
       "315  1506.693949  \n",
       "\n",
       "[316 rows x 153 columns]"
      ]
     },
     "execution_count": 24,
     "metadata": {},
     "output_type": "execute_result"
    }
   ],
   "source": [
    "# Assigning default rating of 1500 to each team\n",
    "unique_team_list = np.unique(pd.concat([results.home_team, results.away_team], ignore_index=True))\n",
    "rating_dict = {team:1500 for team in unique_team_list}\n",
    "# Assign each year of dataset\n",
    "year_list = results.year.unique()\n",
    "year_dict = dict()\n",
    "\n",
    "# Itarate years to calculate elo ranking\n",
    "for year in year_list:\n",
    "    # Select mask with year of the iteration\n",
    "    mask = results['year'] == year\n",
    "    results_temp = results[mask][['home_team', 'away_team', 'goal_dif', 'tournament', 'neutral']]\n",
    "    \n",
    "    # Iterate dataframe to calculate elo ranking changes\n",
    "    for index, row in results_temp.iterrows():\n",
    "        \n",
    "        # Get home and away teams names\n",
    "        home_team = row.home_team\n",
    "        away_team = row.away_team\n",
    "        \n",
    "        # Get other informations\n",
    "        goal_dif = row.goal_dif\n",
    "        tournament = row.tournament\n",
    "        neutral = row.neutral\n",
    "        \n",
    "        # Get home and away teams scores\n",
    "        home_team_score = rating_dict[home_team]\n",
    "        away_team_score = rating_dict[away_team]\n",
    "        \n",
    "        # Calculate new scores according to result of the match\n",
    "        home_team_score = elo(home_team_score, away_team_score, goal_dif, tournament, neutral, home=True)\n",
    "        away_team_score = elo(home_team_score, away_team_score, goal_dif, tournament, neutral, home=False)\n",
    "        \n",
    "        # Assign new scores\n",
    "        rating_dict[home_team] = home_team_score\n",
    "        rating_dict[away_team] = away_team_score\n",
    "\n",
    "    # Transform rating_dict into DataFrame\n",
    "    year_dict[year] = rating_dict.copy()\n",
    "\n",
    "country_ranking = pd.DataFrame.from_dict(year_dict)\n",
    "country_ranking = country_ranking.reset_index().rename(columns={'index': 'country'})\n",
    "country_ranking"
   ]
  },
  {
   "cell_type": "markdown",
   "metadata": {},
   "source": [
    "## **All-time Top 15**"
   ]
  },
  {
   "cell_type": "code",
   "execution_count": 25,
   "metadata": {},
   "outputs": [
    {
     "data": {
      "text/html": [
       "<div>\n",
       "<style scoped>\n",
       "    .dataframe tbody tr th:only-of-type {\n",
       "        vertical-align: middle;\n",
       "    }\n",
       "\n",
       "    .dataframe tbody tr th {\n",
       "        vertical-align: top;\n",
       "    }\n",
       "\n",
       "    .dataframe thead th {\n",
       "        text-align: right;\n",
       "    }\n",
       "</style>\n",
       "<table border=\"1\" class=\"dataframe\">\n",
       "  <thead>\n",
       "    <tr style=\"text-align: right;\">\n",
       "      <th></th>\n",
       "      <th>country</th>\n",
       "      <th>2023</th>\n",
       "    </tr>\n",
       "  </thead>\n",
       "  <tbody>\n",
       "    <tr>\n",
       "      <th>12</th>\n",
       "      <td>Argentina</td>\n",
       "      <td>2186.924318</td>\n",
       "    </tr>\n",
       "    <tr>\n",
       "      <th>38</th>\n",
       "      <td>Brazil</td>\n",
       "      <td>2169.166898</td>\n",
       "    </tr>\n",
       "    <tr>\n",
       "      <th>96</th>\n",
       "      <td>France</td>\n",
       "      <td>2150.595142</td>\n",
       "    </tr>\n",
       "    <tr>\n",
       "      <th>187</th>\n",
       "      <td>Netherlands</td>\n",
       "      <td>2101.447424</td>\n",
       "    </tr>\n",
       "    <tr>\n",
       "      <th>216</th>\n",
       "      <td>Portugal</td>\n",
       "      <td>2055.183608</td>\n",
       "    </tr>\n",
       "    <tr>\n",
       "      <th>85</th>\n",
       "      <td>England</td>\n",
       "      <td>2029.930334</td>\n",
       "    </tr>\n",
       "    <tr>\n",
       "      <th>28</th>\n",
       "      <td>Belgium</td>\n",
       "      <td>2018.915076</td>\n",
       "    </tr>\n",
       "    <tr>\n",
       "      <th>259</th>\n",
       "      <td>Spain</td>\n",
       "      <td>2018.495179</td>\n",
       "    </tr>\n",
       "    <tr>\n",
       "      <th>69</th>\n",
       "      <td>Croatia</td>\n",
       "      <td>2004.834604</td>\n",
       "    </tr>\n",
       "    <tr>\n",
       "      <th>104</th>\n",
       "      <td>Germany</td>\n",
       "      <td>1989.726241</td>\n",
       "    </tr>\n",
       "    <tr>\n",
       "      <th>293</th>\n",
       "      <td>Uruguay</td>\n",
       "      <td>1976.729413</td>\n",
       "    </tr>\n",
       "    <tr>\n",
       "      <th>61</th>\n",
       "      <td>Colombia</td>\n",
       "      <td>1967.961666</td>\n",
       "    </tr>\n",
       "    <tr>\n",
       "      <th>134</th>\n",
       "      <td>Italy</td>\n",
       "      <td>1959.891510</td>\n",
       "    </tr>\n",
       "    <tr>\n",
       "      <th>182</th>\n",
       "      <td>Morocco</td>\n",
       "      <td>1959.313904</td>\n",
       "    </tr>\n",
       "    <tr>\n",
       "      <th>265</th>\n",
       "      <td>Switzerland</td>\n",
       "      <td>1933.229967</td>\n",
       "    </tr>\n",
       "  </tbody>\n",
       "</table>\n",
       "</div>"
      ],
      "text/plain": [
       "         country         2023\n",
       "12     Argentina  2186.924318\n",
       "38        Brazil  2169.166898\n",
       "96        France  2150.595142\n",
       "187  Netherlands  2101.447424\n",
       "216     Portugal  2055.183608\n",
       "85       England  2029.930334\n",
       "28       Belgium  2018.915076\n",
       "259        Spain  2018.495179\n",
       "69       Croatia  2004.834604\n",
       "104      Germany  1989.726241\n",
       "293      Uruguay  1976.729413\n",
       "61      Colombia  1967.961666\n",
       "134        Italy  1959.891510\n",
       "182      Morocco  1959.313904\n",
       "265  Switzerland  1933.229967"
      ]
     },
     "execution_count": 25,
     "metadata": {},
     "output_type": "execute_result"
    }
   ],
   "source": [
    "country_ranking.sort_values(by=2023, ascending=False).head(15)[['country', 2023]]"
   ]
  },
  {
   "cell_type": "markdown",
   "metadata": {},
   "source": [
    "## **All-time Worst 15**"
   ]
  },
  {
   "cell_type": "code",
   "execution_count": 26,
   "metadata": {},
   "outputs": [
    {
     "data": {
      "text/html": [
       "<div>\n",
       "<style scoped>\n",
       "    .dataframe tbody tr th:only-of-type {\n",
       "        vertical-align: middle;\n",
       "    }\n",
       "\n",
       "    .dataframe tbody tr th {\n",
       "        vertical-align: top;\n",
       "    }\n",
       "\n",
       "    .dataframe thead th {\n",
       "        text-align: right;\n",
       "    }\n",
       "</style>\n",
       "<table border=\"1\" class=\"dataframe\">\n",
       "  <thead>\n",
       "    <tr style=\"text-align: right;\">\n",
       "      <th></th>\n",
       "      <th>country</th>\n",
       "      <th>2023</th>\n",
       "    </tr>\n",
       "  </thead>\n",
       "  <tbody>\n",
       "    <tr>\n",
       "      <th>205</th>\n",
       "      <td>Pakistan</td>\n",
       "      <td>1081.964971</td>\n",
       "    </tr>\n",
       "    <tr>\n",
       "      <th>253</th>\n",
       "      <td>Somalia</td>\n",
       "      <td>1075.431554</td>\n",
       "    </tr>\n",
       "    <tr>\n",
       "      <th>78</th>\n",
       "      <td>Djibouti</td>\n",
       "      <td>1049.315494</td>\n",
       "    </tr>\n",
       "    <tr>\n",
       "      <th>113</th>\n",
       "      <td>Guam</td>\n",
       "      <td>1044.213977</td>\n",
       "    </tr>\n",
       "    <tr>\n",
       "      <th>155</th>\n",
       "      <td>Liechtenstein</td>\n",
       "      <td>1026.694729</td>\n",
       "    </tr>\n",
       "    <tr>\n",
       "      <th>149</th>\n",
       "      <td>Laos</td>\n",
       "      <td>1022.173833</td>\n",
       "    </tr>\n",
       "    <tr>\n",
       "      <th>158</th>\n",
       "      <td>Macau</td>\n",
       "      <td>1015.089436</td>\n",
       "    </tr>\n",
       "    <tr>\n",
       "      <th>292</th>\n",
       "      <td>United States Virgin Islands</td>\n",
       "      <td>1011.592970</td>\n",
       "    </tr>\n",
       "    <tr>\n",
       "      <th>39</th>\n",
       "      <td>British Virgin Islands</td>\n",
       "      <td>1003.389976</td>\n",
       "    </tr>\n",
       "    <tr>\n",
       "      <th>41</th>\n",
       "      <td>Brunei</td>\n",
       "      <td>992.803898</td>\n",
       "    </tr>\n",
       "    <tr>\n",
       "      <th>9</th>\n",
       "      <td>Anguilla</td>\n",
       "      <td>981.502038</td>\n",
       "    </tr>\n",
       "    <tr>\n",
       "      <th>260</th>\n",
       "      <td>Sri Lanka</td>\n",
       "      <td>978.117739</td>\n",
       "    </tr>\n",
       "    <tr>\n",
       "      <th>277</th>\n",
       "      <td>Timor-Leste</td>\n",
       "      <td>951.968625</td>\n",
       "    </tr>\n",
       "    <tr>\n",
       "      <th>32</th>\n",
       "      <td>Bhutan</td>\n",
       "      <td>927.374965</td>\n",
       "    </tr>\n",
       "    <tr>\n",
       "      <th>238</th>\n",
       "      <td>San Marino</td>\n",
       "      <td>871.085715</td>\n",
       "    </tr>\n",
       "  </tbody>\n",
       "</table>\n",
       "</div>"
      ],
      "text/plain": [
       "                          country         2023\n",
       "205                      Pakistan  1081.964971\n",
       "253                       Somalia  1075.431554\n",
       "78                       Djibouti  1049.315494\n",
       "113                          Guam  1044.213977\n",
       "155                 Liechtenstein  1026.694729\n",
       "149                          Laos  1022.173833\n",
       "158                         Macau  1015.089436\n",
       "292  United States Virgin Islands  1011.592970\n",
       "39         British Virgin Islands  1003.389976\n",
       "41                         Brunei   992.803898\n",
       "9                        Anguilla   981.502038\n",
       "260                     Sri Lanka   978.117739\n",
       "277                   Timor-Leste   951.968625\n",
       "32                         Bhutan   927.374965\n",
       "238                    San Marino   871.085715"
      ]
     },
     "execution_count": 26,
     "metadata": {},
     "output_type": "execute_result"
    }
   ],
   "source": [
    "country_ranking.sort_values(by=2023, ascending=False).tail(15)[['country', 2023]]"
   ]
  },
  {
   "cell_type": "markdown",
   "metadata": {},
   "source": [
    "## **Boxplot Visualization**"
   ]
  },
  {
   "cell_type": "code",
   "execution_count": 27,
   "metadata": {},
   "outputs": [
    {
     "data": {
      "image/png": "[encoded data removed]",
      "text/plain": [
       "<Figure size 432x288 with 1 Axes>"
      ]
     },
     "metadata": {},
     "output_type": "display_data"
    }
   ],
   "source": [
    "# Visualization\n",
    "ax = sns.boxplot(data=country_ranking, x=2023, width=0.4, orient='h')\n",
    "ax.set_title(\"International Football Elo Ranking Boxplot\")\n",
    "ax.set_xlabel('score')\n",
    "\n",
    "# Show\n",
    "plt.show()"
   ]
  }
 ],
 "metadata": {
  "colab": {
   "provenance": []
  },
  "kernelspec": {
   "display_name": "Python 3 (ipykernel)",
   "language": "python",
   "name": "python3"
  },
  "language_info": {
   "codemirror_mode": {
    "name": "ipython",
    "version": 3
   },
   "file_extension": ".py",
   "mimetype": "text/x-python",
   "name": "python",
   "nbconvert_exporter": "python",
   "pygments_lexer": "ipython3",
   "version": "3.10.1"
  }
 },
 "nbformat": 4,
 "nbformat_minor": 1
}
