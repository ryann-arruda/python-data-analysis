{
  "cells": [
    {
      "cell_type": "markdown",
      "metadata": {
        "id": "QRspwI9NK8TY"
      },
      "source": [
        "***\n",
        "# **<font color=darkblue size=10>Data Science Project</font>**\n",
        "***\n",
        "\n",
        "## **Project Title**\n",
        "\n",
        "**International football analysis from 1872 to 2022**\n",
        "\n",
        "## **Members**\n",
        "\n",
        "- Alexandre Bezerra de Lima (@Alexandreprog)\n",
        "- Gustavo Montenegro Maia (@guga06436)\n",
        "- Ryann Carlos de Arruda Quintino (@ryann-arruda)\n",
        "\n",
        "## **Introduction**\n",
        "\n",
        "In this data science analysis, we explore a dataset of international football matches. Using the knowledge acquired during the data science classes, we aim to uncover patterns, trends, and valuable insights from the data. Our objectives include understanding teams performances, stats across ages, identifying success factors and developing predictive models.\n",
        "\n",
        "Those are the main questions that we want to answer:\n",
        "1. What is the penalty goal rate per year?\n",
        "2. What is the rate of goals scored per minute of the match?\n",
        "3. Which team has won the most penalty shootouts?\n",
        "4. What is the influence of playing at home on the final result?\n",
        "5. What are the best teams historically?\n",
        "6. What is the performance of teams in official matches?"
      ]
    },
    {
      "cell_type": "markdown",
      "metadata": {
        "id": "0LHfL468uX4o"
      },
      "source": [
        "# **Dependencies**\n",
        "\n",
        "The pandas, numpy, seaborn, matplotlib and sklearn libraries were used for data analysis."
      ]
    },
    {
      "cell_type": "code",
      "execution_count": null,
      "metadata": {
        "id": "1aE8t5UGuch2"
      },
      "outputs": [],
      "source": [
        "import pandas as pd\n",
        "import numpy as np\n",
        "import seaborn as sns\n",
        "import matplotlib.pyplot as plt\n",
        "from sklearn.cluster import KMeans"
      ]
    },
    {
      "cell_type": "markdown",
      "metadata": {
        "id": "i_UkbLsIK8Tc"
      },
      "source": [
        "# **Deafult Settings**\n",
        "\n",
        "Some general settings used on the notebook"
      ]
    },
    {
      "cell_type": "code",
      "execution_count": null,
      "metadata": {
        "id": "HaZaw9EvK8Td"
      },
      "outputs": [],
      "source": [
        "# Set aspects of the visual theme for all matplotlib and seaborn plots.\n",
        "sns.set()\n",
        "\n",
        "# Seed constant used in project\n",
        "MYSEED = 42"
      ]
    },
    {
      "cell_type": "code",
      "execution_count": null,
      "metadata": {
        "id": "vIThHDUxK8Td",
        "outputId": "69ccd3b8-9d97-4755-b13c-e9c0e58e5188"
      },
      "outputs": [
        {
          "data": {
            "text/html": [
              "<style>\n",
              "table {float:left}\n",
              "</style>\n"
            ],
            "text/plain": [
              "<IPython.core.display.HTML object>"
            ]
          },
          "metadata": {},
          "output_type": "display_data"
        }
      ],
      "source": [
        "%%html\n",
        "<style>\n",
        "table {float:left}\n",
        "</style>"
      ]
    },
    {
      "cell_type": "markdown",
      "metadata": {
        "id": "2wI5ZzJMK8Te"
      },
      "source": [
        "# **<font color=darkblue>PROJECT DATASET</font>**\n",
        "***"
      ]
    },
    {
      "cell_type": "markdown",
      "metadata": {
        "id": "zJfaZGqYK8Te"
      },
      "source": [
        "### **International football results from 1872 to 2022**\n",
        "\n",
        "This dataset includes 44,341 results of international football matches starting from the very first official match in 1872 up to 2022. The matches range from FIFA World Cup to FIFI Wild Cup to regular friendly matches. The matches are strictly men's full internationals and the data does not include Olympic Games or matches where at least one of the teams was the nation's B-team, U-23 or a league select team."
      ]
    },
    {
      "cell_type": "markdown",
      "metadata": {
        "id": "jBFraR45K8Te"
      },
      "source": [
        "### **Variables used**"
      ]
    },
    {
      "cell_type": "markdown",
      "metadata": {
        "id": "ey3JeGxbK8Tf"
      },
      "source": [
        "#### results.csv\n",
        "\n",
        "|Variable|Description|\n",
        "|:---|:---|\n",
        "|date|date of the match|\n",
        "|home_team|the name of the home_team|\n",
        "|away_team|the name of the away_team|\n",
        "|home_score|full-time home team score including extra time, not including penalty-shootouts|\n",
        "|away_score|full-time away team score including extra time, not including penalty-shootouts|\n",
        "|tournament|the name of the tournament|\n",
        "|city|the name of the city/town/administrative unit where the match was played|\n",
        "|country|the name of the country where the match was played|\n",
        "|neutral|TRUE/FALSE column indicating whether the match was played at a neutral venue|"
      ]
    },
    {
      "cell_type": "markdown",
      "metadata": {
        "id": "uye0mdYiK8Tf"
      },
      "source": [
        "#### shootouts.csv\n",
        "\n",
        "|Variable|Description|\n",
        "|:---|:---|\n",
        "|date|date of the match|\n",
        "|home_team|the name of the home_team|\n",
        "|away_team|the name of the away_team|\n",
        "|winner|winner of the penalty-shootout|"
      ]
    },
    {
      "cell_type": "markdown",
      "metadata": {
        "id": "iIiJ1F0OK8Tf"
      },
      "source": [
        "#### goalscorers.csv\n",
        "\n",
        "|Variable|Description|\n",
        "|:---|:---|\n",
        "|date|date of the match|\n",
        "|home_team|the name of the home_team|\n",
        "|away_team|the name of the away_team|\n",
        "|team|name of the team scoring the goal|\n",
        "|scorer|name of the player scoring the goal|\n",
        "|own_goal|whether the goal was an own-goal|\n",
        "|penalty|whether the goal was a penalty|"
      ]
    },
    {
      "cell_type": "markdown",
      "metadata": {
        "id": "kfK4M9YtK8Tf"
      },
      "source": [
        "### **Variables created bellow**"
      ]
    },
    {
      "cell_type": "markdown",
      "metadata": {
        "id": "UyoNtQjTK8Tf"
      },
      "source": [
        "#### results.csv\n",
        "\n",
        "|Variable|Description|\n",
        "|:---|:---|\n",
        "|goal_dif|difference between home_score and away_score|\n",
        "|total_gols|difference between home_score and away_score|\n",
        "|year|year of the game|"
      ]
    },
    {
      "cell_type": "markdown",
      "metadata": {
        "id": "BhTXE0pBK8Tg"
      },
      "source": [
        "#### goalscorers.csv\n",
        "\n",
        "|Variable|Description|\n",
        "|:---|:---|\n",
        "|year|year of the match|"
      ]
    },
    {
      "cell_type": "markdown",
      "metadata": {
        "id": "MrrDcSjBs5uf"
      },
      "source": [
        "# **Loading Dataset Files**\n",
        "\n",
        "This dataset is made up of three csv files and their descriptions are provided below.\n",
        "\n",
        "* goalscorers: goals scored and details about them\n",
        "* shootouts: resultsof penalty shootouts\n",
        "* results: results of international matches."
      ]
    },
    {
      "cell_type": "code",
      "execution_count": null,
      "metadata": {
        "id": "AkQpNwkbuVFv"
      },
      "outputs": [],
      "source": [
        "goalscorers = pd.read_csv('goalscorers.csv')\n",
        "shootouts = pd.read_csv('shootouts.csv')\n",
        "results = pd.read_csv('results.csv')"
      ]
    },
    {
      "cell_type": "markdown",
      "metadata": {
        "id": "rjGddCrAK8Th"
      },
      "source": [
        "# **Process Datasets**"
      ]
    },
    {
      "cell_type": "markdown",
      "metadata": {
        "id": "8sWcmKr8K8Th"
      },
      "source": [
        "## results.csv\n",
        "\n",
        "Updates made:\n",
        "\n",
        "1. A new column, \"goal_dif,\" was created to capture the goal difference in each match.\n",
        "2. Another column, \"total_goals,\" was added to represent the total number of goals scored in each match.\n",
        "3. The data type of the date column was converted to datetime format for better time-based analysis.\n",
        "4. A new column, \"year,\" was introduced to the dataset, allowing for easy analysis and grouping based on specific years."
      ]
    },
    {
      "cell_type": "code",
      "execution_count": null,
      "metadata": {
        "id": "WF10zCMlK8Th",
        "outputId": "b8ac8d2a-b587-46b0-c9a2-fabe6d5d28e6"
      },
      "outputs": [
        {
          "data": {
            "text/html": [
              "<div>\n",
              "<style scoped>\n",
              "    .dataframe tbody tr th:only-of-type {\n",
              "        vertical-align: middle;\n",
              "    }\n",
              "\n",
              "    .dataframe tbody tr th {\n",
              "        vertical-align: top;\n",
              "    }\n",
              "\n",
              "    .dataframe thead th {\n",
              "        text-align: right;\n",
              "    }\n",
              "</style>\n",
              "<table border=\"1\" class=\"dataframe\">\n",
              "  <thead>\n",
              "    <tr style=\"text-align: right;\">\n",
              "      <th></th>\n",
              "      <th>date</th>\n",
              "      <th>home_team</th>\n",
              "      <th>away_team</th>\n",
              "      <th>home_score</th>\n",
              "      <th>away_score</th>\n",
              "      <th>tournament</th>\n",
              "      <th>city</th>\n",
              "      <th>country</th>\n",
              "      <th>neutral</th>\n",
              "      <th>goal_dif</th>\n",
              "      <th>total_goals</th>\n",
              "      <th>year</th>\n",
              "    </tr>\n",
              "  </thead>\n",
              "  <tbody>\n",
              "    <tr>\n",
              "      <th>0</th>\n",
              "      <td>1872-11-30</td>\n",
              "      <td>Scotland</td>\n",
              "      <td>England</td>\n",
              "      <td>0</td>\n",
              "      <td>0</td>\n",
              "      <td>Friendly</td>\n",
              "      <td>Glasgow</td>\n",
              "      <td>Scotland</td>\n",
              "      <td>False</td>\n",
              "      <td>0</td>\n",
              "      <td>0</td>\n",
              "      <td>1872</td>\n",
              "    </tr>\n",
              "    <tr>\n",
              "      <th>1</th>\n",
              "      <td>1873-03-08</td>\n",
              "      <td>England</td>\n",
              "      <td>Scotland</td>\n",
              "      <td>4</td>\n",
              "      <td>2</td>\n",
              "      <td>Friendly</td>\n",
              "      <td>London</td>\n",
              "      <td>England</td>\n",
              "      <td>False</td>\n",
              "      <td>2</td>\n",
              "      <td>6</td>\n",
              "      <td>1873</td>\n",
              "    </tr>\n",
              "    <tr>\n",
              "      <th>2</th>\n",
              "      <td>1874-03-07</td>\n",
              "      <td>Scotland</td>\n",
              "      <td>England</td>\n",
              "      <td>2</td>\n",
              "      <td>1</td>\n",
              "      <td>Friendly</td>\n",
              "      <td>Glasgow</td>\n",
              "      <td>Scotland</td>\n",
              "      <td>False</td>\n",
              "      <td>1</td>\n",
              "      <td>3</td>\n",
              "      <td>1874</td>\n",
              "    </tr>\n",
              "    <tr>\n",
              "      <th>3</th>\n",
              "      <td>1875-03-06</td>\n",
              "      <td>England</td>\n",
              "      <td>Scotland</td>\n",
              "      <td>2</td>\n",
              "      <td>2</td>\n",
              "      <td>Friendly</td>\n",
              "      <td>London</td>\n",
              "      <td>England</td>\n",
              "      <td>False</td>\n",
              "      <td>0</td>\n",
              "      <td>4</td>\n",
              "      <td>1875</td>\n",
              "    </tr>\n",
              "    <tr>\n",
              "      <th>4</th>\n",
              "      <td>1876-03-04</td>\n",
              "      <td>Scotland</td>\n",
              "      <td>England</td>\n",
              "      <td>3</td>\n",
              "      <td>0</td>\n",
              "      <td>Friendly</td>\n",
              "      <td>Glasgow</td>\n",
              "      <td>Scotland</td>\n",
              "      <td>False</td>\n",
              "      <td>3</td>\n",
              "      <td>3</td>\n",
              "      <td>1876</td>\n",
              "    </tr>\n",
              "    <tr>\n",
              "      <th>5</th>\n",
              "      <td>1876-03-25</td>\n",
              "      <td>Scotland</td>\n",
              "      <td>Wales</td>\n",
              "      <td>4</td>\n",
              "      <td>0</td>\n",
              "      <td>Friendly</td>\n",
              "      <td>Glasgow</td>\n",
              "      <td>Scotland</td>\n",
              "      <td>False</td>\n",
              "      <td>4</td>\n",
              "      <td>4</td>\n",
              "      <td>1876</td>\n",
              "    </tr>\n",
              "    <tr>\n",
              "      <th>6</th>\n",
              "      <td>1877-03-03</td>\n",
              "      <td>England</td>\n",
              "      <td>Scotland</td>\n",
              "      <td>1</td>\n",
              "      <td>3</td>\n",
              "      <td>Friendly</td>\n",
              "      <td>London</td>\n",
              "      <td>England</td>\n",
              "      <td>False</td>\n",
              "      <td>-2</td>\n",
              "      <td>4</td>\n",
              "      <td>1877</td>\n",
              "    </tr>\n",
              "    <tr>\n",
              "      <th>7</th>\n",
              "      <td>1877-03-05</td>\n",
              "      <td>Wales</td>\n",
              "      <td>Scotland</td>\n",
              "      <td>0</td>\n",
              "      <td>2</td>\n",
              "      <td>Friendly</td>\n",
              "      <td>Wrexham</td>\n",
              "      <td>Wales</td>\n",
              "      <td>False</td>\n",
              "      <td>-2</td>\n",
              "      <td>2</td>\n",
              "      <td>1877</td>\n",
              "    </tr>\n",
              "    <tr>\n",
              "      <th>8</th>\n",
              "      <td>1878-03-02</td>\n",
              "      <td>Scotland</td>\n",
              "      <td>England</td>\n",
              "      <td>7</td>\n",
              "      <td>2</td>\n",
              "      <td>Friendly</td>\n",
              "      <td>Glasgow</td>\n",
              "      <td>Scotland</td>\n",
              "      <td>False</td>\n",
              "      <td>5</td>\n",
              "      <td>9</td>\n",
              "      <td>1878</td>\n",
              "    </tr>\n",
              "    <tr>\n",
              "      <th>9</th>\n",
              "      <td>1878-03-23</td>\n",
              "      <td>Scotland</td>\n",
              "      <td>Wales</td>\n",
              "      <td>9</td>\n",
              "      <td>0</td>\n",
              "      <td>Friendly</td>\n",
              "      <td>Glasgow</td>\n",
              "      <td>Scotland</td>\n",
              "      <td>False</td>\n",
              "      <td>9</td>\n",
              "      <td>9</td>\n",
              "      <td>1878</td>\n",
              "    </tr>\n",
              "    <tr>\n",
              "      <th>10</th>\n",
              "      <td>1879-01-18</td>\n",
              "      <td>England</td>\n",
              "      <td>Wales</td>\n",
              "      <td>2</td>\n",
              "      <td>1</td>\n",
              "      <td>Friendly</td>\n",
              "      <td>London</td>\n",
              "      <td>England</td>\n",
              "      <td>False</td>\n",
              "      <td>1</td>\n",
              "      <td>3</td>\n",
              "      <td>1879</td>\n",
              "    </tr>\n",
              "    <tr>\n",
              "      <th>11</th>\n",
              "      <td>1879-04-05</td>\n",
              "      <td>England</td>\n",
              "      <td>Scotland</td>\n",
              "      <td>5</td>\n",
              "      <td>4</td>\n",
              "      <td>Friendly</td>\n",
              "      <td>London</td>\n",
              "      <td>England</td>\n",
              "      <td>False</td>\n",
              "      <td>1</td>\n",
              "      <td>9</td>\n",
              "      <td>1879</td>\n",
              "    </tr>\n",
              "    <tr>\n",
              "      <th>12</th>\n",
              "      <td>1879-04-07</td>\n",
              "      <td>Wales</td>\n",
              "      <td>Scotland</td>\n",
              "      <td>0</td>\n",
              "      <td>3</td>\n",
              "      <td>Friendly</td>\n",
              "      <td>Wrexham</td>\n",
              "      <td>Wales</td>\n",
              "      <td>False</td>\n",
              "      <td>-3</td>\n",
              "      <td>3</td>\n",
              "      <td>1879</td>\n",
              "    </tr>\n",
              "    <tr>\n",
              "      <th>13</th>\n",
              "      <td>1880-03-13</td>\n",
              "      <td>Scotland</td>\n",
              "      <td>England</td>\n",
              "      <td>5</td>\n",
              "      <td>4</td>\n",
              "      <td>Friendly</td>\n",
              "      <td>Glasgow</td>\n",
              "      <td>Scotland</td>\n",
              "      <td>False</td>\n",
              "      <td>1</td>\n",
              "      <td>9</td>\n",
              "      <td>1880</td>\n",
              "    </tr>\n",
              "    <tr>\n",
              "      <th>14</th>\n",
              "      <td>1880-03-15</td>\n",
              "      <td>Wales</td>\n",
              "      <td>England</td>\n",
              "      <td>2</td>\n",
              "      <td>3</td>\n",
              "      <td>Friendly</td>\n",
              "      <td>Wrexham</td>\n",
              "      <td>Wales</td>\n",
              "      <td>False</td>\n",
              "      <td>-1</td>\n",
              "      <td>5</td>\n",
              "      <td>1880</td>\n",
              "    </tr>\n",
              "  </tbody>\n",
              "</table>\n",
              "</div>"
            ],
            "text/plain": [
              "         date home_team away_team  home_score  away_score tournament     city  \\\n",
              "0  1872-11-30  Scotland   England           0           0   Friendly  Glasgow   \n",
              "1  1873-03-08   England  Scotland           4           2   Friendly   London   \n",
              "2  1874-03-07  Scotland   England           2           1   Friendly  Glasgow   \n",
              "3  1875-03-06   England  Scotland           2           2   Friendly   London   \n",
              "4  1876-03-04  Scotland   England           3           0   Friendly  Glasgow   \n",
              "5  1876-03-25  Scotland     Wales           4           0   Friendly  Glasgow   \n",
              "6  1877-03-03   England  Scotland           1           3   Friendly   London   \n",
              "7  1877-03-05     Wales  Scotland           0           2   Friendly  Wrexham   \n",
              "8  1878-03-02  Scotland   England           7           2   Friendly  Glasgow   \n",
              "9  1878-03-23  Scotland     Wales           9           0   Friendly  Glasgow   \n",
              "10 1879-01-18   England     Wales           2           1   Friendly   London   \n",
              "11 1879-04-05   England  Scotland           5           4   Friendly   London   \n",
              "12 1879-04-07     Wales  Scotland           0           3   Friendly  Wrexham   \n",
              "13 1880-03-13  Scotland   England           5           4   Friendly  Glasgow   \n",
              "14 1880-03-15     Wales   England           2           3   Friendly  Wrexham   \n",
              "\n",
              "     country  neutral  goal_dif  total_goals  year  \n",
              "0   Scotland    False         0            0  1872  \n",
              "1    England    False         2            6  1873  \n",
              "2   Scotland    False         1            3  1874  \n",
              "3    England    False         0            4  1875  \n",
              "4   Scotland    False         3            3  1876  \n",
              "5   Scotland    False         4            4  1876  \n",
              "6    England    False        -2            4  1877  \n",
              "7      Wales    False        -2            2  1877  \n",
              "8   Scotland    False         5            9  1878  \n",
              "9   Scotland    False         9            9  1878  \n",
              "10   England    False         1            3  1879  \n",
              "11   England    False         1            9  1879  \n",
              "12     Wales    False        -3            3  1879  \n",
              "13  Scotland    False         1            9  1880  \n",
              "14     Wales    False        -1            5  1880  "
            ]
          },
          "execution_count": 5,
          "metadata": {},
          "output_type": "execute_result"
        }
      ],
      "source": [
        "# Create a goal_dif column\n",
        "results['goal_dif'] = results['home_score'] - results['away_score']\n",
        "# Create a total_goals column\n",
        "results['total_goals'] = results['home_score'] + results['away_score']\n",
        "# Change type of date column to datetime\n",
        "results['date'] = pd.to_datetime(results.date)\n",
        "# Add column year\n",
        "results['year'] = results.date.map(lambda x: x.year)\n",
        "results.head(15)"
      ]
    },
    {
      "cell_type": "markdown",
      "metadata": {
        "id": "SP8XzYEqK8Th"
      },
      "source": [
        "## shootouts.csv"
      ]
    },
    {
      "cell_type": "code",
      "execution_count": null,
      "metadata": {
        "id": "sH5OTfUAK8Th",
        "outputId": "8cbdd42a-07d8-4af9-848d-74784aedd106"
      },
      "outputs": [
        {
          "data": {
            "text/html": [
              "<div>\n",
              "<style scoped>\n",
              "    .dataframe tbody tr th:only-of-type {\n",
              "        vertical-align: middle;\n",
              "    }\n",
              "\n",
              "    .dataframe tbody tr th {\n",
              "        vertical-align: top;\n",
              "    }\n",
              "\n",
              "    .dataframe thead th {\n",
              "        text-align: right;\n",
              "    }\n",
              "</style>\n",
              "<table border=\"1\" class=\"dataframe\">\n",
              "  <thead>\n",
              "    <tr style=\"text-align: right;\">\n",
              "      <th></th>\n",
              "      <th>date</th>\n",
              "      <th>home_team</th>\n",
              "      <th>away_team</th>\n",
              "      <th>winner</th>\n",
              "    </tr>\n",
              "  </thead>\n",
              "  <tbody>\n",
              "    <tr>\n",
              "      <th>0</th>\n",
              "      <td>1967-08-22</td>\n",
              "      <td>India</td>\n",
              "      <td>Taiwan</td>\n",
              "      <td>Taiwan</td>\n",
              "    </tr>\n",
              "    <tr>\n",
              "      <th>1</th>\n",
              "      <td>1971-11-14</td>\n",
              "      <td>South Korea</td>\n",
              "      <td>Vietnam Republic</td>\n",
              "      <td>South Korea</td>\n",
              "    </tr>\n",
              "    <tr>\n",
              "      <th>2</th>\n",
              "      <td>1972-05-07</td>\n",
              "      <td>South Korea</td>\n",
              "      <td>Iraq</td>\n",
              "      <td>Iraq</td>\n",
              "    </tr>\n",
              "    <tr>\n",
              "      <th>3</th>\n",
              "      <td>1972-05-17</td>\n",
              "      <td>Thailand</td>\n",
              "      <td>South Korea</td>\n",
              "      <td>South Korea</td>\n",
              "    </tr>\n",
              "    <tr>\n",
              "      <th>4</th>\n",
              "      <td>1972-05-19</td>\n",
              "      <td>Thailand</td>\n",
              "      <td>Cambodia</td>\n",
              "      <td>Thailand</td>\n",
              "    </tr>\n",
              "    <tr>\n",
              "      <th>5</th>\n",
              "      <td>1973-04-21</td>\n",
              "      <td>Senegal</td>\n",
              "      <td>Ghana</td>\n",
              "      <td>Ghana</td>\n",
              "    </tr>\n",
              "    <tr>\n",
              "      <th>6</th>\n",
              "      <td>1973-06-14</td>\n",
              "      <td>Guinea</td>\n",
              "      <td>Mali</td>\n",
              "      <td>Guinea</td>\n",
              "    </tr>\n",
              "    <tr>\n",
              "      <th>7</th>\n",
              "      <td>1973-06-14</td>\n",
              "      <td>Mauritius</td>\n",
              "      <td>Tanzania</td>\n",
              "      <td>Mauritius</td>\n",
              "    </tr>\n",
              "    <tr>\n",
              "      <th>8</th>\n",
              "      <td>1973-07-26</td>\n",
              "      <td>Malaysia</td>\n",
              "      <td>Kuwait</td>\n",
              "      <td>Malaysia</td>\n",
              "    </tr>\n",
              "    <tr>\n",
              "      <th>9</th>\n",
              "      <td>1973-07-26</td>\n",
              "      <td>Cambodia</td>\n",
              "      <td>Singapore</td>\n",
              "      <td>Singapore</td>\n",
              "    </tr>\n",
              "    <tr>\n",
              "      <th>10</th>\n",
              "      <td>1973-07-27</td>\n",
              "      <td>Bangladesh</td>\n",
              "      <td>Thailand</td>\n",
              "      <td>Thailand</td>\n",
              "    </tr>\n",
              "    <tr>\n",
              "      <th>11</th>\n",
              "      <td>1973-07-28</td>\n",
              "      <td>Myanmar</td>\n",
              "      <td>South Korea</td>\n",
              "      <td>Myanmar</td>\n",
              "    </tr>\n",
              "    <tr>\n",
              "      <th>12</th>\n",
              "      <td>1973-08-09</td>\n",
              "      <td>India</td>\n",
              "      <td>Vietnam Republic</td>\n",
              "      <td>Vietnam Republic</td>\n",
              "    </tr>\n",
              "    <tr>\n",
              "      <th>13</th>\n",
              "      <td>1973-08-23</td>\n",
              "      <td>Algeria</td>\n",
              "      <td>Syria</td>\n",
              "      <td>Syria</td>\n",
              "    </tr>\n",
              "    <tr>\n",
              "      <th>14</th>\n",
              "      <td>1973-08-25</td>\n",
              "      <td>Algeria</td>\n",
              "      <td>Iraq</td>\n",
              "      <td>Algeria</td>\n",
              "    </tr>\n",
              "  </tbody>\n",
              "</table>\n",
              "</div>"
            ],
            "text/plain": [
              "          date    home_team         away_team            winner\n",
              "0   1967-08-22        India            Taiwan            Taiwan\n",
              "1   1971-11-14  South Korea  Vietnam Republic       South Korea\n",
              "2   1972-05-07  South Korea              Iraq              Iraq\n",
              "3   1972-05-17     Thailand       South Korea       South Korea\n",
              "4   1972-05-19     Thailand          Cambodia          Thailand\n",
              "5   1973-04-21      Senegal             Ghana             Ghana\n",
              "6   1973-06-14       Guinea              Mali            Guinea\n",
              "7   1973-06-14    Mauritius          Tanzania         Mauritius\n",
              "8   1973-07-26     Malaysia            Kuwait          Malaysia\n",
              "9   1973-07-26     Cambodia         Singapore         Singapore\n",
              "10  1973-07-27   Bangladesh          Thailand          Thailand\n",
              "11  1973-07-28      Myanmar       South Korea           Myanmar\n",
              "12  1973-08-09        India  Vietnam Republic  Vietnam Republic\n",
              "13  1973-08-23      Algeria             Syria             Syria\n",
              "14  1973-08-25      Algeria              Iraq           Algeria"
            ]
          },
          "execution_count": 6,
          "metadata": {},
          "output_type": "execute_result"
        }
      ],
      "source": [
        "shootouts.head(15)"
      ]
    },
    {
      "cell_type": "markdown",
      "metadata": {
        "id": "rmVVo32HK8Th"
      },
      "source": [
        "## goalscores.csv\n",
        "\n",
        "Updates made:\n",
        "1. The data type of the date column was changed to datetime for improved time-related analysis.\n",
        "2. A new column, \"year,\" was added to the dataset, enabling easy grouping and analysis based on specific years."
      ]
    },
    {
      "cell_type": "code",
      "execution_count": null,
      "metadata": {
        "scrolled": true,
        "id": "bppRygvNK8Th",
        "outputId": "4074f5d7-1d90-42b2-ac2b-b614faa9be83"
      },
      "outputs": [
        {
          "data": {
            "text/html": [
              "<div>\n",
              "<style scoped>\n",
              "    .dataframe tbody tr th:only-of-type {\n",
              "        vertical-align: middle;\n",
              "    }\n",
              "\n",
              "    .dataframe tbody tr th {\n",
              "        vertical-align: top;\n",
              "    }\n",
              "\n",
              "    .dataframe thead th {\n",
              "        text-align: right;\n",
              "    }\n",
              "</style>\n",
              "<table border=\"1\" class=\"dataframe\">\n",
              "  <thead>\n",
              "    <tr style=\"text-align: right;\">\n",
              "      <th></th>\n",
              "      <th>date</th>\n",
              "      <th>home_team</th>\n",
              "      <th>away_team</th>\n",
              "      <th>team</th>\n",
              "      <th>scorer</th>\n",
              "      <th>minute</th>\n",
              "      <th>own_goal</th>\n",
              "      <th>penalty</th>\n",
              "      <th>year</th>\n",
              "    </tr>\n",
              "  </thead>\n",
              "  <tbody>\n",
              "    <tr>\n",
              "      <th>0</th>\n",
              "      <td>1916-07-02</td>\n",
              "      <td>Chile</td>\n",
              "      <td>Uruguay</td>\n",
              "      <td>Uruguay</td>\n",
              "      <td>José Piendibene</td>\n",
              "      <td>44.0</td>\n",
              "      <td>False</td>\n",
              "      <td>False</td>\n",
              "      <td>1916</td>\n",
              "    </tr>\n",
              "    <tr>\n",
              "      <th>1</th>\n",
              "      <td>1916-07-02</td>\n",
              "      <td>Chile</td>\n",
              "      <td>Uruguay</td>\n",
              "      <td>Uruguay</td>\n",
              "      <td>Isabelino Gradín</td>\n",
              "      <td>55.0</td>\n",
              "      <td>False</td>\n",
              "      <td>False</td>\n",
              "      <td>1916</td>\n",
              "    </tr>\n",
              "    <tr>\n",
              "      <th>2</th>\n",
              "      <td>1916-07-02</td>\n",
              "      <td>Chile</td>\n",
              "      <td>Uruguay</td>\n",
              "      <td>Uruguay</td>\n",
              "      <td>Isabelino Gradín</td>\n",
              "      <td>70.0</td>\n",
              "      <td>False</td>\n",
              "      <td>False</td>\n",
              "      <td>1916</td>\n",
              "    </tr>\n",
              "    <tr>\n",
              "      <th>3</th>\n",
              "      <td>1916-07-02</td>\n",
              "      <td>Chile</td>\n",
              "      <td>Uruguay</td>\n",
              "      <td>Uruguay</td>\n",
              "      <td>José Piendibene</td>\n",
              "      <td>75.0</td>\n",
              "      <td>False</td>\n",
              "      <td>False</td>\n",
              "      <td>1916</td>\n",
              "    </tr>\n",
              "    <tr>\n",
              "      <th>4</th>\n",
              "      <td>1916-07-06</td>\n",
              "      <td>Argentina</td>\n",
              "      <td>Chile</td>\n",
              "      <td>Argentina</td>\n",
              "      <td>Alberto Ohaco</td>\n",
              "      <td>2.0</td>\n",
              "      <td>False</td>\n",
              "      <td>False</td>\n",
              "      <td>1916</td>\n",
              "    </tr>\n",
              "  </tbody>\n",
              "</table>\n",
              "</div>"
            ],
            "text/plain": [
              "        date  home_team away_team       team            scorer  minute  \\\n",
              "0 1916-07-02      Chile   Uruguay    Uruguay   José Piendibene    44.0   \n",
              "1 1916-07-02      Chile   Uruguay    Uruguay  Isabelino Gradín    55.0   \n",
              "2 1916-07-02      Chile   Uruguay    Uruguay  Isabelino Gradín    70.0   \n",
              "3 1916-07-02      Chile   Uruguay    Uruguay   José Piendibene    75.0   \n",
              "4 1916-07-06  Argentina     Chile  Argentina     Alberto Ohaco     2.0   \n",
              "\n",
              "   own_goal  penalty  year  \n",
              "0     False    False  1916  \n",
              "1     False    False  1916  \n",
              "2     False    False  1916  \n",
              "3     False    False  1916  \n",
              "4     False    False  1916  "
            ]
          },
          "execution_count": 7,
          "metadata": {},
          "output_type": "execute_result"
        }
      ],
      "source": [
        "# Change type of date column to datetime\n",
        "goalscorers['date'] = pd.to_datetime(goalscorers.date)\n",
        "# Add column year\n",
        "goalscorers['year'] = goalscorers.date.map(lambda x: x.year)\n",
        "goalscorers.head(5)"
      ]
    },
    {
      "cell_type": "markdown",
      "metadata": {
        "id": "vGsEm9qWu-8d"
      },
      "source": [
        "# **Data Exploration**"
      ]
    },
    {
      "cell_type": "markdown",
      "metadata": {
        "id": "4NxSByNdvhNi"
      },
      "source": [
        "## **results dataset**"
      ]
    },
    {
      "cell_type": "markdown",
      "metadata": {
        "id": "pO1-Afc-wYen",
        "outputId": "570788eb-df41-488d-b9b1-05c9fbc26ca3"
      },
      "source": [
        "### **Measures of Central Tendency**"
      ]
    },
    {
      "cell_type": "markdown",
      "metadata": {
        "id": "aSIbtIUoLBJM"
      },
      "source": [
        "#### **Mean**"
      ]
    },
    {
      "cell_type": "code",
      "execution_count": null,
      "metadata": {
        "id": "ExQm5I8eLBJM",
        "outputId": "0609e555-9878-44e7-ef10-b8b8050bdf6c"
      },
      "outputs": [
        {
          "data": {
            "text/html": [
              "<div>\n",
              "<style scoped>\n",
              "    .dataframe tbody tr th:only-of-type {\n",
              "        vertical-align: middle;\n",
              "    }\n",
              "\n",
              "    .dataframe tbody tr th {\n",
              "        vertical-align: top;\n",
              "    }\n",
              "\n",
              "    .dataframe thead th {\n",
              "        text-align: right;\n",
              "    }\n",
              "</style>\n",
              "<table border=\"1\" class=\"dataframe\">\n",
              "  <thead>\n",
              "    <tr style=\"text-align: right;\">\n",
              "      <th></th>\n",
              "      <th>year</th>\n",
              "      <th>home_score</th>\n",
              "      <th>away_score</th>\n",
              "      <th>goal_dif</th>\n",
              "      <th>neutral</th>\n",
              "    </tr>\n",
              "  </thead>\n",
              "  <tbody>\n",
              "    <tr>\n",
              "      <th>0</th>\n",
              "      <td>1992.095787</td>\n",
              "      <td>1.739278</td>\n",
              "      <td>1.178401</td>\n",
              "      <td>0.560877</td>\n",
              "      <td>0.248603</td>\n",
              "    </tr>\n",
              "  </tbody>\n",
              "</table>\n",
              "</div>"
            ],
            "text/plain": [
              "          year  home_score  away_score  goal_dif   neutral\n",
              "0  1992.095787    1.739278    1.178401  0.560877  0.248603"
            ]
          },
          "execution_count": 8,
          "metadata": {},
          "output_type": "execute_result"
        }
      ],
      "source": [
        "cols = ['year', 'home_score', 'away_score', 'goal_dif', 'neutral']\n",
        "results[cols].mean().to_frame().T"
      ]
    },
    {
      "cell_type": "markdown",
      "metadata": {
        "id": "6czTOBVZLBJM"
      },
      "source": [
        "#### **Median**"
      ]
    },
    {
      "cell_type": "code",
      "execution_count": null,
      "metadata": {
        "id": "m7H3lUhGLBJM",
        "outputId": "b8614d90-276b-4900-8184-1a713720471a"
      },
      "outputs": [
        {
          "data": {
            "text/html": [
              "<div>\n",
              "<style scoped>\n",
              "    .dataframe tbody tr th:only-of-type {\n",
              "        vertical-align: middle;\n",
              "    }\n",
              "\n",
              "    .dataframe tbody tr th {\n",
              "        vertical-align: top;\n",
              "    }\n",
              "\n",
              "    .dataframe thead th {\n",
              "        text-align: right;\n",
              "    }\n",
              "</style>\n",
              "<table border=\"1\" class=\"dataframe\">\n",
              "  <thead>\n",
              "    <tr style=\"text-align: right;\">\n",
              "      <th></th>\n",
              "      <th>year</th>\n",
              "      <th>home_score</th>\n",
              "      <th>away_score</th>\n",
              "      <th>goal_dif</th>\n",
              "      <th>neutral</th>\n",
              "    </tr>\n",
              "  </thead>\n",
              "  <tbody>\n",
              "    <tr>\n",
              "      <th>0</th>\n",
              "      <td>1999.0</td>\n",
              "      <td>1.0</td>\n",
              "      <td>1.0</td>\n",
              "      <td>0.0</td>\n",
              "      <td>0.0</td>\n",
              "    </tr>\n",
              "  </tbody>\n",
              "</table>\n",
              "</div>"
            ],
            "text/plain": [
              "     year  home_score  away_score  goal_dif  neutral\n",
              "0  1999.0         1.0         1.0       0.0      0.0"
            ]
          },
          "execution_count": 9,
          "metadata": {},
          "output_type": "execute_result"
        }
      ],
      "source": [
        "cols = ['year', 'home_score', 'away_score', 'goal_dif', 'neutral']\n",
        "results[cols].median().to_frame().T"
      ]
    },
    {
      "cell_type": "markdown",
      "metadata": {
        "id": "KQePYoAWLBJM"
      },
      "source": [
        "#### **Mode**"
      ]
    },
    {
      "cell_type": "code",
      "execution_count": null,
      "metadata": {
        "id": "WwbEHJzaLBJM",
        "outputId": "b88036a6-9431-4eab-b508-bbd434c65a93"
      },
      "outputs": [
        {
          "data": {
            "text/html": [
              "<div>\n",
              "<style scoped>\n",
              "    .dataframe tbody tr th:only-of-type {\n",
              "        vertical-align: middle;\n",
              "    }\n",
              "\n",
              "    .dataframe tbody tr th {\n",
              "        vertical-align: top;\n",
              "    }\n",
              "\n",
              "    .dataframe thead th {\n",
              "        text-align: right;\n",
              "    }\n",
              "</style>\n",
              "<table border=\"1\" class=\"dataframe\">\n",
              "  <thead>\n",
              "    <tr style=\"text-align: right;\">\n",
              "      <th></th>\n",
              "      <th>year</th>\n",
              "      <th>home_team</th>\n",
              "      <th>away_team</th>\n",
              "      <th>home_score</th>\n",
              "      <th>away_score</th>\n",
              "      <th>goal_dif</th>\n",
              "      <th>tournament</th>\n",
              "      <th>city</th>\n",
              "      <th>country</th>\n",
              "      <th>neutral</th>\n",
              "    </tr>\n",
              "  </thead>\n",
              "  <tbody>\n",
              "    <tr>\n",
              "      <th>0</th>\n",
              "      <td>2019</td>\n",
              "      <td>Brazil</td>\n",
              "      <td>Uruguay</td>\n",
              "      <td>1</td>\n",
              "      <td>0</td>\n",
              "      <td>0</td>\n",
              "      <td>Friendly</td>\n",
              "      <td>Kuala Lumpur</td>\n",
              "      <td>United States</td>\n",
              "      <td>False</td>\n",
              "    </tr>\n",
              "  </tbody>\n",
              "</table>\n",
              "</div>"
            ],
            "text/plain": [
              "   year home_team away_team  home_score  away_score  goal_dif tournament  \\\n",
              "0  2019    Brazil   Uruguay           1           0         0   Friendly   \n",
              "\n",
              "           city        country  neutral  \n",
              "0  Kuala Lumpur  United States    False  "
            ]
          },
          "execution_count": 10,
          "metadata": {},
          "output_type": "execute_result"
        }
      ],
      "source": [
        "cols = ['year', 'home_team', 'away_team', 'home_score', 'away_score', 'goal_dif', 'tournament', 'city', 'country', 'neutral']\n",
        "results[cols].mode()"
      ]
    },
    {
      "cell_type": "markdown",
      "metadata": {
        "id": "QRmn0VTFZHV3"
      },
      "source": [
        "### **Dispersion Measures**"
      ]
    },
    {
      "cell_type": "markdown",
      "metadata": {
        "id": "rEHlQlEYZi6I"
      },
      "source": [
        "#### **Standard Deviation**"
      ]
    },
    {
      "cell_type": "code",
      "execution_count": null,
      "metadata": {
        "colab": {
          "base_uri": "https://localhost:8080/"
        },
        "id": "kZsdQZJ7ZwPi",
        "outputId": "5b87aedf-5a96-4f7f-8f3d-3cdec5744b2a"
      },
      "outputs": [
        {
          "data": {
            "text/html": [
              "<div>\n",
              "<style scoped>\n",
              "    .dataframe tbody tr th:only-of-type {\n",
              "        vertical-align: middle;\n",
              "    }\n",
              "\n",
              "    .dataframe tbody tr th {\n",
              "        vertical-align: top;\n",
              "    }\n",
              "\n",
              "    .dataframe thead th {\n",
              "        text-align: right;\n",
              "    }\n",
              "</style>\n",
              "<table border=\"1\" class=\"dataframe\">\n",
              "  <thead>\n",
              "    <tr style=\"text-align: right;\">\n",
              "      <th></th>\n",
              "      <th>year</th>\n",
              "      <th>home_score</th>\n",
              "      <th>away_score</th>\n",
              "      <th>goal_dif</th>\n",
              "      <th>neutral</th>\n",
              "    </tr>\n",
              "  </thead>\n",
              "  <tbody>\n",
              "    <tr>\n",
              "      <th>0</th>\n",
              "      <td>24.62302</td>\n",
              "      <td>1.747263</td>\n",
              "      <td>1.393775</td>\n",
              "      <td>2.381203</td>\n",
              "      <td>0.432208</td>\n",
              "    </tr>\n",
              "  </tbody>\n",
              "</table>\n",
              "</div>"
            ],
            "text/plain": [
              "       year  home_score  away_score  goal_dif   neutral\n",
              "0  24.62302    1.747263    1.393775  2.381203  0.432208"
            ]
          },
          "execution_count": 11,
          "metadata": {},
          "output_type": "execute_result"
        }
      ],
      "source": [
        "cols = ['year', 'home_score', 'away_score', 'goal_dif', 'neutral']\n",
        "results[cols].std().to_frame().T"
      ]
    },
    {
      "cell_type": "markdown",
      "metadata": {
        "id": "SqMYDCgnLBJN"
      },
      "source": [
        "#### **Variance**"
      ]
    },
    {
      "cell_type": "code",
      "execution_count": null,
      "metadata": {
        "id": "7GmByhP4LBJN",
        "outputId": "7fcbba81-660a-4543-ef0d-f789bc74f27b"
      },
      "outputs": [
        {
          "data": {
            "text/html": [
              "<div>\n",
              "<style scoped>\n",
              "    .dataframe tbody tr th:only-of-type {\n",
              "        vertical-align: middle;\n",
              "    }\n",
              "\n",
              "    .dataframe tbody tr th {\n",
              "        vertical-align: top;\n",
              "    }\n",
              "\n",
              "    .dataframe thead th {\n",
              "        text-align: right;\n",
              "    }\n",
              "</style>\n",
              "<table border=\"1\" class=\"dataframe\">\n",
              "  <thead>\n",
              "    <tr style=\"text-align: right;\">\n",
              "      <th></th>\n",
              "      <th>year</th>\n",
              "      <th>home_score</th>\n",
              "      <th>away_score</th>\n",
              "      <th>goal_dif</th>\n",
              "      <th>neutral</th>\n",
              "    </tr>\n",
              "  </thead>\n",
              "  <tbody>\n",
              "    <tr>\n",
              "      <th>0</th>\n",
              "      <td>606.293096</td>\n",
              "      <td>3.052926</td>\n",
              "      <td>1.942609</td>\n",
              "      <td>5.670126</td>\n",
              "      <td>0.186804</td>\n",
              "    </tr>\n",
              "  </tbody>\n",
              "</table>\n",
              "</div>"
            ],
            "text/plain": [
              "         year  home_score  away_score  goal_dif   neutral\n",
              "0  606.293096    3.052926    1.942609  5.670126  0.186804"
            ]
          },
          "execution_count": 12,
          "metadata": {},
          "output_type": "execute_result"
        }
      ],
      "source": [
        "cols = ['year', 'home_score', 'away_score', 'goal_dif', 'neutral']\n",
        "results[cols].var().to_frame().T"
      ]
    },
    {
      "cell_type": "markdown",
      "metadata": {
        "id": "FdbVUGOzLBJN"
      },
      "source": [
        "### **Boxplots**\n",
        "\n",
        "**Observation:** In the graphs that analyze the `home_score`, `away_score` and `goal_dif` variables, the values whose modulus was above 8 were simplified to facilitate the comparison."
      ]
    },
    {
      "cell_type": "markdown",
      "metadata": {
        "id": "37Y51mvFLBJT"
      },
      "source": [
        "#### **year**"
      ]
    },
    {
      "cell_type": "code",
      "execution_count": null,
      "metadata": {
        "id": "QbSVAvl3LBJT",
        "outputId": "ecc0fb03-8c0e-4261-830c-8a73a4ca8272"
      },
      "outputs": [
        {
          "data": {
            "image/png": "[encoded data removed]",
            "text/plain": [
              "<Figure size 432x288 with 1 Axes>"
            ]
          },
          "metadata": {},
          "output_type": "display_data"
        }
      ],
      "source": [
        "# Visualization Settings\n",
        "ax = sns.boxplot(data=results, x=results.date.map(lambda x: x.year), width=0.4, orient='h')\n",
        "ax.set_title(\"Year of Matches In Dataset\")\n",
        "\n",
        "\n",
        "# Show\n",
        "plt.show()"
      ]
    },
    {
      "cell_type": "markdown",
      "metadata": {
        "id": "zlunYmH8LBJU"
      },
      "source": [
        "#### **home_score and away_score**"
      ]
    },
    {
      "cell_type": "code",
      "execution_count": null,
      "metadata": {
        "id": "u8oO_zfJLBJU",
        "outputId": "d9b0e4b6-4b4a-4897-8739-86ea6af55a46"
      },
      "outputs": [
        {
          "data": {
            "image/png": "[encoded data removed]",
            "text/plain": [
              "<Figure size 432x288 with 1 Axes>"
            ]
          },
          "metadata": {},
          "output_type": "display_data"
        }
      ],
      "source": [
        "# Create copy of results DataFrame\n",
        "match_score = results[['home_score', 'away_score', 'neutral']].copy()\n",
        "\n",
        "# Remove matches in neutral field for comparation\n",
        "mask_field = match_score.neutral == False\n",
        "\n",
        "# Simplifying the number of goals above 8 to facilitate visualization (Generate Warning, but is fine)\n",
        "max_number_of_goals = 8\n",
        "mask_number_of_goals_home = match_score.home_score > max_number_of_goals\n",
        "mask_number_of_goals_away = match_score.away_score > max_number_of_goals\n",
        "\n",
        "match_score.home_score = match_score.home_score.where(~mask_number_of_goals_home, max_number_of_goals)\n",
        "match_score.away_score = match_score.away_score.where(~mask_number_of_goals_away, max_number_of_goals)\n",
        "\n",
        "# Visualization\n",
        "ax = sns.boxplot(data=match_score[['home_score', 'away_score']][mask_field],\n",
        "            width=0.4, orient='h')\n",
        "ax.set_ylabel(\"Location\")\n",
        "ax.set_xlabel(\"Goals scored\")\n",
        "ax.set_title(\"Boxplot golas scored home and away\")\n",
        "\n",
        "# Show\n",
        "plt.show()"
      ]
    },
    {
      "cell_type": "markdown",
      "metadata": {
        "id": "lTEEwfb9LBJU"
      },
      "source": [
        "#### **goal_dif**"
      ]
    },
    {
      "cell_type": "code",
      "execution_count": null,
      "metadata": {
        "scrolled": false,
        "id": "JSJCCk0ULBJU",
        "outputId": "5e3f2cea-1fb8-4ac6-d3ad-af7e860443b7"
      },
      "outputs": [
        {
          "data": {
            "image/png": "[encoded data removed]",
            "text/plain": [
              "<Figure size 432x288 with 1 Axes>"
            ]
          },
          "metadata": {},
          "output_type": "display_data"
        }
      ],
      "source": [
        "# Create copy of results DataFrame\n",
        "match_score = results[['goal_dif', 'neutral']].copy()\n",
        "\n",
        "# Remove matches in neutral field for comparation\n",
        "mask_field = match_score.neutral == False\n",
        "\n",
        "# Simplifying the number of goals above 7 to facilitate visualization (Generate Warning, but is fine)\n",
        "max_number_of_goals = 8\n",
        "mask_number_of_goals_dif_home = match_score.goal_dif > max_number_of_goals\n",
        "mask_number_of_goals_dif_away = match_score.goal_dif < -max_number_of_goals\n",
        "\n",
        "match_score.goal_dif = match_score.goal_dif.where(~mask_number_of_goals_dif_home, max_number_of_goals)\n",
        "match_score.goal_dif = match_score.goal_dif.where(~mask_number_of_goals_dif_away, max_number_of_goals)\n",
        "\n",
        "# Visualization\n",
        "ax = sns.boxplot(data=match_score['goal_dif'][mask_field],\n",
        "            width=0.4, orient='h')\n",
        "ax.set_xlabel(\"goal_dif\")\n",
        "ax.set_title(\"Goal Diference in Match (+ home win / - away win)\")\n",
        "\n",
        "# Show\n",
        "plt.show()"
      ]
    },
    {
      "cell_type": "markdown",
      "metadata": {
        "id": "IeeZ0vpNLBJV"
      },
      "source": [
        "## **goalscores dataset**"
      ]
    },
    {
      "cell_type": "markdown",
      "metadata": {
        "outputId": "570788eb-df41-488d-b9b1-05c9fbc26ca3",
        "id": "q4n_0I27LBJV"
      },
      "source": [
        "### **Measures of Central Tendency**"
      ]
    },
    {
      "cell_type": "markdown",
      "metadata": {
        "id": "jPMUttOaLBJV"
      },
      "source": [
        "#### **Mean**"
      ]
    },
    {
      "cell_type": "code",
      "execution_count": null,
      "metadata": {
        "id": "pcsjm8IxLBJV",
        "outputId": "080362ea-0a0d-4c24-cf07-15ed46e4486a"
      },
      "outputs": [
        {
          "data": {
            "text/html": [
              "<div>\n",
              "<style scoped>\n",
              "    .dataframe tbody tr th:only-of-type {\n",
              "        vertical-align: middle;\n",
              "    }\n",
              "\n",
              "    .dataframe tbody tr th {\n",
              "        vertical-align: top;\n",
              "    }\n",
              "\n",
              "    .dataframe thead th {\n",
              "        text-align: right;\n",
              "    }\n",
              "</style>\n",
              "<table border=\"1\" class=\"dataframe\">\n",
              "  <thead>\n",
              "    <tr style=\"text-align: right;\">\n",
              "      <th></th>\n",
              "      <th>minute</th>\n",
              "      <th>own_goal</th>\n",
              "      <th>penalty</th>\n",
              "    </tr>\n",
              "  </thead>\n",
              "  <tbody>\n",
              "    <tr>\n",
              "      <th>0</th>\n",
              "      <td>50.019166</td>\n",
              "      <td>0.017509</td>\n",
              "      <td>0.065475</td>\n",
              "    </tr>\n",
              "  </tbody>\n",
              "</table>\n",
              "</div>"
            ],
            "text/plain": [
              "      minute  own_goal   penalty\n",
              "0  50.019166  0.017509  0.065475"
            ]
          },
          "execution_count": 16,
          "metadata": {},
          "output_type": "execute_result"
        }
      ],
      "source": [
        "cols = ['minute', 'own_goal', 'penalty']\n",
        "goalscorers[cols].mean().to_frame().T"
      ]
    },
    {
      "cell_type": "markdown",
      "metadata": {
        "id": "kOsy4ihBLBJV"
      },
      "source": [
        "#### **Median**"
      ]
    },
    {
      "cell_type": "code",
      "execution_count": null,
      "metadata": {
        "id": "oUM9km5NLBJV",
        "outputId": "e156069f-563c-4c17-da78-d127035da386"
      },
      "outputs": [
        {
          "data": {
            "text/html": [
              "<div>\n",
              "<style scoped>\n",
              "    .dataframe tbody tr th:only-of-type {\n",
              "        vertical-align: middle;\n",
              "    }\n",
              "\n",
              "    .dataframe tbody tr th {\n",
              "        vertical-align: top;\n",
              "    }\n",
              "\n",
              "    .dataframe thead th {\n",
              "        text-align: right;\n",
              "    }\n",
              "</style>\n",
              "<table border=\"1\" class=\"dataframe\">\n",
              "  <thead>\n",
              "    <tr style=\"text-align: right;\">\n",
              "      <th></th>\n",
              "      <th>minute</th>\n",
              "      <th>own_goal</th>\n",
              "      <th>penalty</th>\n",
              "    </tr>\n",
              "  </thead>\n",
              "  <tbody>\n",
              "    <tr>\n",
              "      <th>0</th>\n",
              "      <td>51.0</td>\n",
              "      <td>0.0</td>\n",
              "      <td>0.0</td>\n",
              "    </tr>\n",
              "  </tbody>\n",
              "</table>\n",
              "</div>"
            ],
            "text/plain": [
              "   minute  own_goal  penalty\n",
              "0    51.0       0.0      0.0"
            ]
          },
          "execution_count": 17,
          "metadata": {},
          "output_type": "execute_result"
        }
      ],
      "source": [
        "cols = ['minute', 'own_goal', 'penalty']\n",
        "goalscorers[cols].median().to_frame().T"
      ]
    },
    {
      "cell_type": "markdown",
      "metadata": {
        "id": "cECCov00LBJV"
      },
      "source": [
        "#### **Mode**"
      ]
    },
    {
      "cell_type": "code",
      "execution_count": null,
      "metadata": {
        "id": "SIuRjGoaLBJW",
        "outputId": "c03830af-1941-41d0-c47e-17bec0b29a6b"
      },
      "outputs": [
        {
          "data": {
            "text/html": [
              "<div>\n",
              "<style scoped>\n",
              "    .dataframe tbody tr th:only-of-type {\n",
              "        vertical-align: middle;\n",
              "    }\n",
              "\n",
              "    .dataframe tbody tr th {\n",
              "        vertical-align: top;\n",
              "    }\n",
              "\n",
              "    .dataframe thead th {\n",
              "        text-align: right;\n",
              "    }\n",
              "</style>\n",
              "<table border=\"1\" class=\"dataframe\">\n",
              "  <thead>\n",
              "    <tr style=\"text-align: right;\">\n",
              "      <th></th>\n",
              "      <th>home_team</th>\n",
              "      <th>away_team</th>\n",
              "      <th>team</th>\n",
              "      <th>scorer</th>\n",
              "      <th>minute</th>\n",
              "      <th>own_goal</th>\n",
              "      <th>penalty</th>\n",
              "    </tr>\n",
              "  </thead>\n",
              "  <tbody>\n",
              "    <tr>\n",
              "      <th>0</th>\n",
              "      <td>Brazil</td>\n",
              "      <td>Uruguay</td>\n",
              "      <td>Brazil</td>\n",
              "      <td>Cristiano Ronaldo</td>\n",
              "      <td>90.0</td>\n",
              "      <td>False</td>\n",
              "      <td>False</td>\n",
              "    </tr>\n",
              "  </tbody>\n",
              "</table>\n",
              "</div>"
            ],
            "text/plain": [
              "  home_team away_team    team             scorer  minute  own_goal  penalty\n",
              "0    Brazil   Uruguay  Brazil  Cristiano Ronaldo    90.0     False    False"
            ]
          },
          "execution_count": 18,
          "metadata": {},
          "output_type": "execute_result"
        }
      ],
      "source": [
        "cols = ['home_team', 'away_team', 'team', 'scorer', 'minute', 'own_goal', 'penalty']\n",
        "goalscorers[cols].mode()"
      ]
    },
    {
      "cell_type": "markdown",
      "metadata": {
        "id": "SBSKQavqLBJW"
      },
      "source": [
        "### **Dispersion Measures**"
      ]
    },
    {
      "cell_type": "markdown",
      "metadata": {
        "id": "zX0VZLX4LBJW"
      },
      "source": [
        "#### **Standard Deviation**"
      ]
    },
    {
      "cell_type": "code",
      "execution_count": null,
      "metadata": {
        "colab": {
          "base_uri": "https://localhost:8080/"
        },
        "outputId": "5b87aedf-5a96-4f7f-8f3d-3cdec5744b2a",
        "id": "gOJnwm5YLBJW"
      },
      "outputs": [
        {
          "data": {
            "text/html": [
              "<div>\n",
              "<style scoped>\n",
              "    .dataframe tbody tr th:only-of-type {\n",
              "        vertical-align: middle;\n",
              "    }\n",
              "\n",
              "    .dataframe tbody tr th {\n",
              "        vertical-align: top;\n",
              "    }\n",
              "\n",
              "    .dataframe thead th {\n",
              "        text-align: right;\n",
              "    }\n",
              "</style>\n",
              "<table border=\"1\" class=\"dataframe\">\n",
              "  <thead>\n",
              "    <tr style=\"text-align: right;\">\n",
              "      <th></th>\n",
              "      <th>minute</th>\n",
              "      <th>own_goal</th>\n",
              "      <th>penalty</th>\n",
              "    </tr>\n",
              "  </thead>\n",
              "  <tbody>\n",
              "    <tr>\n",
              "      <th>0</th>\n",
              "      <td>26.360859</td>\n",
              "      <td>0.131159</td>\n",
              "      <td>0.247365</td>\n",
              "    </tr>\n",
              "  </tbody>\n",
              "</table>\n",
              "</div>"
            ],
            "text/plain": [
              "      minute  own_goal   penalty\n",
              "0  26.360859  0.131159  0.247365"
            ]
          },
          "execution_count": 19,
          "metadata": {},
          "output_type": "execute_result"
        }
      ],
      "source": [
        "cols = ['minute', 'own_goal', 'penalty']\n",
        "goalscorers[cols].std().to_frame().T"
      ]
    },
    {
      "cell_type": "markdown",
      "metadata": {
        "id": "BXCL8TuoLBJW"
      },
      "source": [
        "#### **Variance**"
      ]
    },
    {
      "cell_type": "code",
      "execution_count": null,
      "metadata": {
        "id": "wQdfcrQ1LBJW",
        "outputId": "d5f410c8-8793-4cc3-f4be-fda60054cb20"
      },
      "outputs": [
        {
          "data": {
            "text/html": [
              "<div>\n",
              "<style scoped>\n",
              "    .dataframe tbody tr th:only-of-type {\n",
              "        vertical-align: middle;\n",
              "    }\n",
              "\n",
              "    .dataframe tbody tr th {\n",
              "        vertical-align: top;\n",
              "    }\n",
              "\n",
              "    .dataframe thead th {\n",
              "        text-align: right;\n",
              "    }\n",
              "</style>\n",
              "<table border=\"1\" class=\"dataframe\">\n",
              "  <thead>\n",
              "    <tr style=\"text-align: right;\">\n",
              "      <th></th>\n",
              "      <th>minute</th>\n",
              "      <th>own_goal</th>\n",
              "      <th>penalty</th>\n",
              "    </tr>\n",
              "  </thead>\n",
              "  <tbody>\n",
              "    <tr>\n",
              "      <th>0</th>\n",
              "      <td>694.894894</td>\n",
              "      <td>0.017203</td>\n",
              "      <td>0.06119</td>\n",
              "    </tr>\n",
              "  </tbody>\n",
              "</table>\n",
              "</div>"
            ],
            "text/plain": [
              "       minute  own_goal  penalty\n",
              "0  694.894894  0.017203  0.06119"
            ]
          },
          "execution_count": 20,
          "metadata": {},
          "output_type": "execute_result"
        }
      ],
      "source": [
        "cols = ['minute', 'own_goal', 'penalty']\n",
        "goalscorers[cols].var().to_frame().T"
      ]
    },
    {
      "cell_type": "markdown",
      "metadata": {
        "id": "2NcNuEX1LBJW"
      },
      "source": [
        "### **Boxplots**"
      ]
    },
    {
      "cell_type": "markdown",
      "metadata": {
        "id": "VW4LUU5uLBJX"
      },
      "source": [
        "#### **minute**"
      ]
    },
    {
      "cell_type": "code",
      "execution_count": null,
      "metadata": {
        "id": "yXV7nNiFLBJX",
        "outputId": "52377a2c-51e3-493b-94b0-819023489ee2"
      },
      "outputs": [
        {
          "data": {
            "image/png": "[encoded data removed]",
            "text/plain": [
              "<Figure size 432x288 with 1 Axes>"
            ]
          },
          "metadata": {},
          "output_type": "display_data"
        }
      ],
      "source": [
        "# Visualização\n",
        "ax = sns.boxplot(data=goalscorers, x='minute', width=0.4, orient='h')\n",
        "ax.set_title(\"Minute of Goal Scored\")\n",
        "\n",
        "\n",
        "# Show\n",
        "plt.show()"
      ]
    },
    {
      "cell_type": "markdown",
      "metadata": {
        "id": "IkgnFMiGLBJX"
      },
      "source": [
        "## **shootouts dataset**"
      ]
    },
    {
      "cell_type": "markdown",
      "metadata": {
        "outputId": "570788eb-df41-488d-b9b1-05c9fbc26ca3",
        "id": "5--90nDjLBJX"
      },
      "source": [
        "### **Measures of Central Tendency**"
      ]
    },
    {
      "cell_type": "markdown",
      "metadata": {
        "id": "AzxL4IGJLBJX"
      },
      "source": [
        "#### **Mean**"
      ]
    },
    {
      "cell_type": "markdown",
      "metadata": {
        "id": "jaDvm35ILBJX"
      },
      "source": [
        "As this dataframe does not have numerical values, it isn't possible to calculate the average."
      ]
    },
    {
      "cell_type": "markdown",
      "metadata": {
        "id": "qfjeamR5LBJX"
      },
      "source": [
        "#### **Median**"
      ]
    },
    {
      "cell_type": "markdown",
      "metadata": {
        "id": "xbFvO1j0LBJY"
      },
      "source": [
        "As this dataframe does not have numerical values, it isn't possible to calculate the median."
      ]
    },
    {
      "cell_type": "markdown",
      "metadata": {
        "id": "rgnyFjHVLBJY"
      },
      "source": [
        "#### **Mode**"
      ]
    },
    {
      "cell_type": "code",
      "execution_count": null,
      "metadata": {
        "id": "4jujVQR3LBJY",
        "outputId": "141f1d97-776d-4c95-ccb8-143c2f5b9a00"
      },
      "outputs": [
        {
          "data": {
            "text/html": [
              "<div>\n",
              "<style scoped>\n",
              "    .dataframe tbody tr th:only-of-type {\n",
              "        vertical-align: middle;\n",
              "    }\n",
              "\n",
              "    .dataframe tbody tr th {\n",
              "        vertical-align: top;\n",
              "    }\n",
              "\n",
              "    .dataframe thead th {\n",
              "        text-align: right;\n",
              "    }\n",
              "</style>\n",
              "<table border=\"1\" class=\"dataframe\">\n",
              "  <thead>\n",
              "    <tr style=\"text-align: right;\">\n",
              "      <th></th>\n",
              "      <th>home_team</th>\n",
              "      <th>away_team</th>\n",
              "      <th>winner</th>\n",
              "    </tr>\n",
              "  </thead>\n",
              "  <tbody>\n",
              "    <tr>\n",
              "      <th>0</th>\n",
              "      <td>South Africa</td>\n",
              "      <td>Uganda</td>\n",
              "      <td>Argentina</td>\n",
              "    </tr>\n",
              "    <tr>\n",
              "      <th>1</th>\n",
              "      <td>Zambia</td>\n",
              "      <td>NaN</td>\n",
              "      <td>NaN</td>\n",
              "    </tr>\n",
              "  </tbody>\n",
              "</table>\n",
              "</div>"
            ],
            "text/plain": [
              "      home_team away_team     winner\n",
              "0  South Africa    Uganda  Argentina\n",
              "1        Zambia       NaN        NaN"
            ]
          },
          "execution_count": 22,
          "metadata": {},
          "output_type": "execute_result"
        }
      ],
      "source": [
        "shootouts[['home_team', 'away_team', 'winner']].mode()"
      ]
    },
    {
      "cell_type": "markdown",
      "metadata": {
        "id": "S0ihhwBILBJY"
      },
      "source": [
        "### **Dispersion Measures**"
      ]
    },
    {
      "cell_type": "markdown",
      "metadata": {
        "id": "W9epaVWtLBJY"
      },
      "source": [
        "#### **Standard Deviation**"
      ]
    },
    {
      "cell_type": "markdown",
      "metadata": {
        "id": "I2CwG9ciLBJY"
      },
      "source": [
        "As this dataframe does not have numerical values, it isn't possible to calculate the standard deviation."
      ]
    },
    {
      "cell_type": "markdown",
      "metadata": {
        "id": "Dm7cnP87LBJY"
      },
      "source": [
        "#### **Variance**"
      ]
    },
    {
      "cell_type": "markdown",
      "metadata": {
        "id": "q6GxjykILBJY"
      },
      "source": [
        "As this dataframe does not have numerical values, it isn't possible to calculate the variance."
      ]
    },
    {
      "cell_type": "markdown",
      "metadata": {
        "id": "J0p5JUNmLBJY"
      },
      "source": [
        "### **Boxplots**"
      ]
    },
    {
      "cell_type": "markdown",
      "metadata": {
        "id": "zZ8rNaofLBJZ"
      },
      "source": [
        "#### **winner_count**\n",
        "\n",
        "Checks the absolute frequency of penalty shootout wins by team"
      ]
    },
    {
      "cell_type": "code",
      "execution_count": null,
      "metadata": {
        "id": "Ek_GTNbdLBJZ",
        "outputId": "cf3db394-2b80-49f2-8ca4-e3f4a00ce270"
      },
      "outputs": [
        {
          "data": {
            "image/png": "[encoded data removed]",
            "text/plain": [
              "<Figure size 432x288 with 1 Axes>"
            ]
          },
          "metadata": {},
          "output_type": "display_data"
        }
      ],
      "source": [
        "# Visualization\n",
        "ax = sns.boxplot(data=shootouts.winner.value_counts(), width=0.4, orient='h')\n",
        "ax.set_title(\"Shootouts Wins per Team\")\n",
        "ax.set_xlabel('wins')\n",
        "\n",
        "# Show\n",
        "plt.show()"
      ]
    },
    {
      "cell_type": "code",
      "execution_count": null,
      "metadata": {
        "id": "Pnh6rYX_K8Tg",
        "outputId": "10b5a6f1-e788-4df7-a6ed-bf8090df08c8"
      },
      "outputs": [
        {
          "data": {
            "text/html": [
              "<div>\n",
              "<style scoped>\n",
              "    .dataframe tbody tr th:only-of-type {\n",
              "        vertical-align: middle;\n",
              "    }\n",
              "\n",
              "    .dataframe tbody tr th {\n",
              "        vertical-align: top;\n",
              "    }\n",
              "\n",
              "    .dataframe thead th {\n",
              "        text-align: right;\n",
              "    }\n",
              "</style>\n",
              "<table border=\"1\" class=\"dataframe\">\n",
              "  <thead>\n",
              "    <tr style=\"text-align: right;\">\n",
              "      <th></th>\n",
              "      <th>home_score</th>\n",
              "      <th>away_score</th>\n",
              "      <th>goal_dif</th>\n",
              "      <th>total_goals</th>\n",
              "      <th>year</th>\n",
              "    </tr>\n",
              "  </thead>\n",
              "  <tbody>\n",
              "    <tr>\n",
              "      <th>count</th>\n",
              "      <td>44557.000000</td>\n",
              "      <td>44557.000000</td>\n",
              "      <td>44557.000000</td>\n",
              "      <td>44557.000000</td>\n",
              "      <td>44557.000000</td>\n",
              "    </tr>\n",
              "    <tr>\n",
              "      <th>mean</th>\n",
              "      <td>1.739278</td>\n",
              "      <td>1.178401</td>\n",
              "      <td>0.560877</td>\n",
              "      <td>2.917678</td>\n",
              "      <td>1992.095787</td>\n",
              "    </tr>\n",
              "    <tr>\n",
              "      <th>std</th>\n",
              "      <td>1.747263</td>\n",
              "      <td>1.393775</td>\n",
              "      <td>2.381203</td>\n",
              "      <td>2.078688</td>\n",
              "      <td>24.623020</td>\n",
              "    </tr>\n",
              "    <tr>\n",
              "      <th>min</th>\n",
              "      <td>0.000000</td>\n",
              "      <td>0.000000</td>\n",
              "      <td>-21.000000</td>\n",
              "      <td>0.000000</td>\n",
              "      <td>1872.000000</td>\n",
              "    </tr>\n",
              "    <tr>\n",
              "      <th>25%</th>\n",
              "      <td>1.000000</td>\n",
              "      <td>0.000000</td>\n",
              "      <td>-1.000000</td>\n",
              "      <td>1.000000</td>\n",
              "      <td>1979.000000</td>\n",
              "    </tr>\n",
              "    <tr>\n",
              "      <th>50%</th>\n",
              "      <td>1.000000</td>\n",
              "      <td>1.000000</td>\n",
              "      <td>0.000000</td>\n",
              "      <td>3.000000</td>\n",
              "      <td>1999.000000</td>\n",
              "    </tr>\n",
              "    <tr>\n",
              "      <th>75%</th>\n",
              "      <td>2.000000</td>\n",
              "      <td>2.000000</td>\n",
              "      <td>2.000000</td>\n",
              "      <td>4.000000</td>\n",
              "      <td>2011.000000</td>\n",
              "    </tr>\n",
              "    <tr>\n",
              "      <th>max</th>\n",
              "      <td>31.000000</td>\n",
              "      <td>21.000000</td>\n",
              "      <td>31.000000</td>\n",
              "      <td>31.000000</td>\n",
              "      <td>2023.000000</td>\n",
              "    </tr>\n",
              "  </tbody>\n",
              "</table>\n",
              "</div>"
            ],
            "text/plain": [
              "         home_score    away_score      goal_dif   total_goals          year\n",
              "count  44557.000000  44557.000000  44557.000000  44557.000000  44557.000000\n",
              "mean       1.739278      1.178401      0.560877      2.917678   1992.095787\n",
              "std        1.747263      1.393775      2.381203      2.078688     24.623020\n",
              "min        0.000000      0.000000    -21.000000      0.000000   1872.000000\n",
              "25%        1.000000      0.000000     -1.000000      1.000000   1979.000000\n",
              "50%        1.000000      1.000000      0.000000      3.000000   1999.000000\n",
              "75%        2.000000      2.000000      2.000000      4.000000   2011.000000\n",
              "max       31.000000     21.000000     31.000000     31.000000   2023.000000"
            ]
          },
          "execution_count": 37,
          "metadata": {},
          "output_type": "execute_result"
        }
      ],
      "source": []
    },
    {
      "cell_type": "markdown",
      "metadata": {
        "id": "lGaVrVoxK8Ti"
      },
      "source": [
        "# **Questions**"
      ]
    },
    {
      "cell_type": "markdown",
      "metadata": {
        "id": "lqVPIp3RK8Ti"
      },
      "source": [
        "## **1. What is the rate of penalty goals scored per year?**"
      ]
    },
    {
      "cell_type": "markdown",
      "metadata": {
        "id": "iB3OH2ffK8Ti"
      },
      "source": [
        "### **Calculate the Penalty Goal rate per Year**\n",
        "\n",
        "We can calculate the penalty goals ratio by dividing the number of penalty goals by the total goals. This allows us to quantify the proportion of goals that result from penalty kicks."
      ]
    },
    {
      "cell_type": "code",
      "execution_count": null,
      "metadata": {
        "id": "FA9IfAX1K8Ti",
        "outputId": "f4e662c8-d0c8-4f66-e182-ff3a2a50ff25"
      },
      "outputs": [
        {
          "data": {
            "text/html": [
              "<div>\n",
              "<style scoped>\n",
              "    .dataframe tbody tr th:only-of-type {\n",
              "        vertical-align: middle;\n",
              "    }\n",
              "\n",
              "    .dataframe tbody tr th {\n",
              "        vertical-align: top;\n",
              "    }\n",
              "\n",
              "    .dataframe thead th {\n",
              "        text-align: right;\n",
              "    }\n",
              "</style>\n",
              "<table border=\"1\" class=\"dataframe\">\n",
              "  <thead>\n",
              "    <tr style=\"text-align: right;\">\n",
              "      <th>penalty</th>\n",
              "      <th>False</th>\n",
              "      <th>True</th>\n",
              "      <th>rate</th>\n",
              "    </tr>\n",
              "    <tr>\n",
              "      <th>year</th>\n",
              "      <th></th>\n",
              "      <th></th>\n",
              "      <th></th>\n",
              "    </tr>\n",
              "  </thead>\n",
              "  <tbody>\n",
              "    <tr>\n",
              "      <th>1916</th>\n",
              "      <td>16</td>\n",
              "      <td>2</td>\n",
              "      <td>0.125000</td>\n",
              "    </tr>\n",
              "    <tr>\n",
              "      <th>1917</th>\n",
              "      <td>17</td>\n",
              "      <td>4</td>\n",
              "      <td>0.235294</td>\n",
              "    </tr>\n",
              "    <tr>\n",
              "      <th>1919</th>\n",
              "      <td>27</td>\n",
              "      <td>0</td>\n",
              "      <td>0.000000</td>\n",
              "    </tr>\n",
              "    <tr>\n",
              "      <th>1920</th>\n",
              "      <td>15</td>\n",
              "      <td>1</td>\n",
              "      <td>0.066667</td>\n",
              "    </tr>\n",
              "    <tr>\n",
              "      <th>1921</th>\n",
              "      <td>14</td>\n",
              "      <td>0</td>\n",
              "      <td>0.000000</td>\n",
              "    </tr>\n",
              "    <tr>\n",
              "      <th>...</th>\n",
              "      <td>...</td>\n",
              "      <td>...</td>\n",
              "      <td>...</td>\n",
              "    </tr>\n",
              "    <tr>\n",
              "      <th>2018</th>\n",
              "      <td>147</td>\n",
              "      <td>22</td>\n",
              "      <td>0.149660</td>\n",
              "    </tr>\n",
              "    <tr>\n",
              "      <th>2019</th>\n",
              "      <td>1428</td>\n",
              "      <td>131</td>\n",
              "      <td>0.091737</td>\n",
              "    </tr>\n",
              "    <tr>\n",
              "      <th>2020</th>\n",
              "      <td>82</td>\n",
              "      <td>15</td>\n",
              "      <td>0.182927</td>\n",
              "    </tr>\n",
              "    <tr>\n",
              "      <th>2021</th>\n",
              "      <td>1848</td>\n",
              "      <td>203</td>\n",
              "      <td>0.109848</td>\n",
              "    </tr>\n",
              "    <tr>\n",
              "      <th>2022</th>\n",
              "      <td>452</td>\n",
              "      <td>50</td>\n",
              "      <td>0.110619</td>\n",
              "    </tr>\n",
              "  </tbody>\n",
              "</table>\n",
              "<p>97 rows × 3 columns</p>\n",
              "</div>"
            ],
            "text/plain": [
              "penalty  False  True      rate\n",
              "year                          \n",
              "1916        16     2  0.125000\n",
              "1917        17     4  0.235294\n",
              "1919        27     0  0.000000\n",
              "1920        15     1  0.066667\n",
              "1921        14     0  0.000000\n",
              "...        ...   ...       ...\n",
              "2018       147    22  0.149660\n",
              "2019      1428   131  0.091737\n",
              "2020        82    15  0.182927\n",
              "2021      1848   203  0.109848\n",
              "2022       452    50  0.110619\n",
              "\n",
              "[97 rows x 3 columns]"
            ]
          },
          "execution_count": 8,
          "metadata": {},
          "output_type": "execute_result"
        }
      ],
      "source": [
        "penalty_rate = pd.crosstab(goalscorers.year, goalscorers.penalty)\n",
        "penalty_rate['rate'] = penalty_rate[1] / penalty_rate[0]\n",
        "penalty_rate"
      ]
    },
    {
      "cell_type": "markdown",
      "metadata": {
        "id": "3774BkzKK8Ti"
      },
      "source": [
        "### **Create the visualization**\n",
        "\n",
        "Through this visualization, we can observe a notable trend of an increasing number of goals scored through penalties over time. Particularly, in the year 2018, there is a significant surge in the number of goals scored in this manner. It is worth noting that this peak in penalty goals coincides with the introduction of the Video Assistant Referee (VAR) system, which has likely contributed to more accurate penalty decisions and consequently an elevated number of goals awarded through penalties."
      ]
    },
    {
      "cell_type": "code",
      "execution_count": null,
      "metadata": {
        "id": "O-c6Y9O8K8Ti",
        "outputId": "755e8250-4321-4e18-ed37-6f5c0c51bb52"
      },
      "outputs": [
        {
          "data": {
            "image/png": "[encoded data removed]",
            "text/plain": [
              "<Figure size 720x432 with 1 Axes>"
            ]
          },
          "metadata": {},
          "output_type": "display_data"
        }
      ],
      "source": [
        "# Visualization\n",
        "plt.figure(figsize=(10,6))\n",
        "ax = sns.lineplot(data=penalty_rate, x='year', y='rate')\n",
        "plt.locator_params(axis='x', nbins=20)\n",
        "ax.set_title(\"Rate of Penalty Goals per Year\", size=16)\n",
        "ax.set_ylabel(\"penalty rate\")\n",
        "\n",
        "# Show\n",
        "plt.show()"
      ]
    },
    {
      "cell_type": "markdown",
      "metadata": {
        "id": "vtTlYh1TK8Ti"
      },
      "source": [
        "## **2. What is the goal rate per year?**"
      ]
    },
    {
      "cell_type": "markdown",
      "metadata": {
        "id": "EF7VzSOJK8Tj"
      },
      "source": [
        "### **Calculate the goal rate per year**\n",
        "\n",
        "We can calculate the goal rate by dividing the total number of goals by the total number of matches in a given year. This calculation provides us with a quantifiable measure of the proportion of goals per year, giving insight into the scoring intensity and competitiveness of football matches during different periods.\n",
        "\n",
        "Matches prior to 1930 have been excluded from the analysis due to their limited availability and a relatively smaller number of recorded games during that period. By focusing on matches from 1930 onwards, we can ensure a more comprehensive and reliable assessment of the goal rate, considering a larger sample size and a broader representation of football matches."
      ]
    },
    {
      "cell_type": "code",
      "execution_count": null,
      "metadata": {
        "id": "ck4Ui6JiK8Tj",
        "outputId": "30a96821-3033-473c-d2d5-7bbecca5444a"
      },
      "outputs": [
        {
          "data": {
            "text/html": [
              "<div>\n",
              "<style scoped>\n",
              "    .dataframe tbody tr th:only-of-type {\n",
              "        vertical-align: middle;\n",
              "    }\n",
              "\n",
              "    .dataframe tbody tr th {\n",
              "        vertical-align: top;\n",
              "    }\n",
              "\n",
              "    .dataframe thead th {\n",
              "        text-align: right;\n",
              "    }\n",
              "</style>\n",
              "<table border=\"1\" class=\"dataframe\">\n",
              "  <thead>\n",
              "    <tr style=\"text-align: right;\">\n",
              "      <th></th>\n",
              "      <th>year</th>\n",
              "      <th>goal_rate</th>\n",
              "    </tr>\n",
              "  </thead>\n",
              "  <tbody>\n",
              "    <tr>\n",
              "      <th>58</th>\n",
              "      <td>1930</td>\n",
              "      <td>4.323232</td>\n",
              "    </tr>\n",
              "    <tr>\n",
              "      <th>59</th>\n",
              "      <td>1931</td>\n",
              "      <td>4.237113</td>\n",
              "    </tr>\n",
              "    <tr>\n",
              "      <th>60</th>\n",
              "      <td>1932</td>\n",
              "      <td>3.923077</td>\n",
              "    </tr>\n",
              "    <tr>\n",
              "      <th>61</th>\n",
              "      <td>1933</td>\n",
              "      <td>3.967742</td>\n",
              "    </tr>\n",
              "    <tr>\n",
              "      <th>62</th>\n",
              "      <td>1934</td>\n",
              "      <td>4.814815</td>\n",
              "    </tr>\n",
              "    <tr>\n",
              "      <th>...</th>\n",
              "      <td>...</td>\n",
              "      <td>...</td>\n",
              "    </tr>\n",
              "    <tr>\n",
              "      <th>147</th>\n",
              "      <td>2019</td>\n",
              "      <td>2.869078</td>\n",
              "    </tr>\n",
              "    <tr>\n",
              "      <th>148</th>\n",
              "      <td>2020</td>\n",
              "      <td>2.471572</td>\n",
              "    </tr>\n",
              "    <tr>\n",
              "      <th>149</th>\n",
              "      <td>2021</td>\n",
              "      <td>2.746556</td>\n",
              "    </tr>\n",
              "    <tr>\n",
              "      <th>150</th>\n",
              "      <td>2022</td>\n",
              "      <td>2.479781</td>\n",
              "    </tr>\n",
              "    <tr>\n",
              "      <th>151</th>\n",
              "      <td>2023</td>\n",
              "      <td>2.536082</td>\n",
              "    </tr>\n",
              "  </tbody>\n",
              "</table>\n",
              "<p>94 rows × 2 columns</p>\n",
              "</div>"
            ],
            "text/plain": [
              "     year  goal_rate\n",
              "58   1930   4.323232\n",
              "59   1931   4.237113\n",
              "60   1932   3.923077\n",
              "61   1933   3.967742\n",
              "62   1934   4.814815\n",
              "..    ...        ...\n",
              "147  2019   2.869078\n",
              "148  2020   2.471572\n",
              "149  2021   2.746556\n",
              "150  2022   2.479781\n",
              "151  2023   2.536082\n",
              "\n",
              "[94 rows x 2 columns]"
            ]
          },
          "execution_count": 10,
          "metadata": {},
          "output_type": "execute_result"
        }
      ],
      "source": [
        "# All goals by year\n",
        "total_goals = results.groupby(by='year')['total_goals'].sum()\n",
        "# All matches by year\n",
        "total_matches = results.year.value_counts()\n",
        "# Goal rate by year\n",
        "goal_rate = total_goals / total_matches\n",
        "goal_rate = goal_rate.to_frame().reset_index()\n",
        "goal_rate.rename(columns={'index': 'year', 0:'goal_rate'}, inplace=True)\n",
        "# Remove matches before 1930\n",
        "mask = goal_rate.year >= 1930\n",
        "goal_rate = goal_rate[mask]\n",
        "goal_rate"
      ]
    },
    {
      "cell_type": "markdown",
      "metadata": {
        "id": "-D3yjJoTK8Tj"
      },
      "source": [
        "### **Create the visualization**\n",
        "\n",
        "Through this visualization, it becomes evident that the rate of goals has been gradually decreasing over the years. Several factors could contribute to this decline. One possibility is the improvement in defensive strategies and tactics employed by teams, leading to a more challenging environment for goal scoring. Additionally, advancements in goalkeeper training and equipment may have enhanced their ability to make crucial saves, resulting in fewer goals. Changes in playing styles, rule modifications, and variations in team formations could also influence the goal-scoring dynamics. Further analysis and exploration of these factors can provide valuable insights into the reasons behind the observed decrease in the goal rate over time."
      ]
    },
    {
      "cell_type": "code",
      "execution_count": null,
      "metadata": {
        "id": "ODYxxSeLK8Tj",
        "outputId": "e0990610-b649-410f-8c81-ceb14b4e8fef"
      },
      "outputs": [
        {
          "data": {
            "image/png": "[encoded data removed]",
            "text/plain": [
              "<Figure size 720x432 with 1 Axes>"
            ]
          },
          "metadata": {},
          "output_type": "display_data"
        }
      ],
      "source": [
        "# Visualization\n",
        "plt.figure(figsize=(10,6))\n",
        "ax = sns.lineplot(data=goal_rate, x='year', y='goal_rate')\n",
        "plt.locator_params(axis='x', nbins=20)\n",
        "ax.set_title(\"Rate of Goals per Year\", size=16)\n",
        "ax.set_ylabel(\"goal rate\")\n",
        "ax.set_yticks(list(range(0, 7)))\n",
        "\n",
        "# Show\n",
        "plt.show()"
      ]
    },
    {
      "cell_type": "markdown",
      "metadata": {
        "id": "-RQ1AVfjK8Tl"
      },
      "source": [
        "## **3. What is the rate of goals scored per minute during a match?**\n",
        "\n",
        "**Observation:** Exclusion of extra time\n",
        "\n",
        "For the purpose of this analysis, the dataset does not consider the extra time period that may occur during football matches. The focus is solely on the regular time of the matches, disregarding any additional time played beyond the regulation 90 minutes. By excluding extra time, we aim to analyze the performance and statistics within the standard duration of matches, providing insights specifically related to the regular game play."
      ]
    },
    {
      "cell_type": "markdown",
      "metadata": {
        "id": "Km2rM2EKK8Tq"
      },
      "source": [
        "### **Analyzing goals scored by Halftime**\n",
        "\n",
        "Upon analyzing the data, it becomes evident that there is a higher number of goals scored during the second half of the matches. This observation indicates a trend towards increased goal-scoring activity in the latter part of the game."
      ]
    },
    {
      "cell_type": "code",
      "execution_count": null,
      "metadata": {
        "id": "B6H3aJxhK8Tr",
        "outputId": "bc22c3a3-f240-47fa-da4c-1383c515e970"
      },
      "outputs": [
        {
          "data": {
            "image/png": "[encoded data removed]",
            "text/plain": [
              "<Figure size 432x432 with 1 Axes>"
            ]
          },
          "metadata": {},
          "output_type": "display_data"
        }
      ],
      "source": [
        "# Remove extra time goals\n",
        "mask = goalscorers.minute <= 90\n",
        "goals_per_minute = goalscorers[mask].copy()\n",
        "goals_per_minute['half'] = goals_per_minute.minute.map(lambda x: '1st half' if x <= 45 else '2nd half')\n",
        "\n",
        "# Visualization\n",
        "fig = plt.figure(figsize=(6,6))\n",
        "ax = goals_per_minute['half'].value_counts(ascending=True).plot(kind=\"bar\", width=0.4, color='tab:blue')\n",
        "\n",
        "# Altera o título\n",
        "ax.set_title(\"Goals by Halftime\", fontsize=13)\n",
        "\n",
        "# Altera a Escala do eixo Y\n",
        "ax.set_ylim([0, 25000])\n",
        "\n",
        "# Deixa o Eixo X na horizontal e muda o mes para PT-BR\n",
        "ax.set_xticklabels(labels=goals_per_minute['half'].value_counts().index[::-1], rotation=0, ha='center')\n",
        "\n",
        "\n",
        "# Show\n",
        "plt.show()"
      ]
    },
    {
      "cell_type": "markdown",
      "metadata": {
        "id": "n5D3BpmTK8Tr"
      },
      "source": [
        "### **Analyzing the data distribution in 10-minute intervals.**\n",
        "\n",
        "Based on our analysis, it becomes apparent that there is an increase in the number of goals scored during the late minutes of the match, indicating a higher scoring rate towards the end of the game. However, upon further examination, an interesting pattern emerges, revealing a higher frequency of goals scored during the 80-90 minute interval."
      ]
    },
    {
      "cell_type": "code",
      "execution_count": null,
      "metadata": {
        "scrolled": true,
        "id": "5YDnGdMtK8Tr",
        "outputId": "4cf26c28-3ce1-4320-f210-66223ada09ce"
      },
      "outputs": [
        {
          "data": {
            "image/png": "[encoded data removed]",
            "text/plain": [
              "<Figure size 432x288 with 1 Axes>"
            ]
          },
          "metadata": {},
          "output_type": "display_data"
        }
      ],
      "source": [
        "# Remove extra time goals\n",
        "mask = goalscorers.minute <= 90\n",
        "goals_per_minute = goalscorers[mask]\n",
        "\n",
        "# Visualization\n",
        "plt.locator_params(axis='x', nbins=10)\n",
        "ax = sns.histplot(goals_per_minute, x='minute', binwidth=10, )\n",
        "ax.set_title(\"Minute of Goal Scored\")\n",
        "\n",
        "# Show\n",
        "plt.show()"
      ]
    },
    {
      "cell_type": "markdown",
      "metadata": {
        "id": "ryGxRpdoK8Tr"
      },
      "source": [
        "### **Analyzing the data distribution in 1-minute intervals.**\n",
        "\n",
        "In order to address this question, we conducted an analysis by examining the data distribution in 1-minute intervals. Our analysis revealed two significant anomalies in the data. During the 45th and 90th minutes, there is a substantial increase in the number of goals scored compared to the other minutes. This occurrence is primarily due to the rule where referees indicate in the match report that goals scored during overtime should be attributed to the 45th minute or 90th minute, respectively, depending on the half of the match."
      ]
    },
    {
      "cell_type": "code",
      "execution_count": null,
      "metadata": {
        "id": "_GzWgXLQK8Ts",
        "outputId": "86451315-9fb7-4ab4-c143-2bda8beb6aef"
      },
      "outputs": [
        {
          "data": {
            "image/png": "[encoded data removed]",
            "text/plain": [
              "<Figure size 432x288 with 1 Axes>"
            ]
          },
          "metadata": {},
          "output_type": "display_data"
        }
      ],
      "source": [
        "# Remove extra time goals\n",
        "mask = goalscorers.minute <= 90\n",
        "goals_per_minute = goalscorers[mask]\n",
        "\n",
        "# Visualization\n",
        "plt.locator_params(axis='x', nbins=10)\n",
        "ax = sns.histplot(goals_per_minute, x='minute', binwidth=1)\n",
        "ax.set_title(\"Minute of Goal Scored\")\n",
        "\n",
        "# Add a line to indicate the median value\n",
        "median = goals_per_minute['minute'].value_counts().median()\n",
        "ax.axhline(median, color='r', ls='--')\n",
        "ax.annotate(\"median\", xy=(1, median+50), color='r')\n",
        "\n",
        "\n",
        "\n",
        "# Show\n",
        "plt.show()"
      ]
    },
    {
      "cell_type": "markdown",
      "metadata": {
        "id": "qjzxdEHuK8Ts"
      },
      "source": [
        "## **4. Which team has the highest number of penalty shootout victories?**"
      ]
    },
    {
      "cell_type": "markdown",
      "metadata": {
        "id": "nJ1qYwI1K8Ts"
      },
      "source": [
        "### **Calculate the absolute frequency of teams who played the most penalty shootouts**\n",
        "\n",
        "We can calculate the absolute frequency of teams that have participated in the highest number of penalty shootouts."
      ]
    },
    {
      "cell_type": "code",
      "execution_count": null,
      "metadata": {
        "id": "PPT-niyRK8Ts",
        "outputId": "da8b6642-8c11-45e2-b2d1-182f39daa7ef"
      },
      "outputs": [
        {
          "data": {
            "text/html": [
              "<div>\n",
              "<style scoped>\n",
              "    .dataframe tbody tr th:only-of-type {\n",
              "        vertical-align: middle;\n",
              "    }\n",
              "\n",
              "    .dataframe tbody tr th {\n",
              "        vertical-align: top;\n",
              "    }\n",
              "\n",
              "    .dataframe thead th {\n",
              "        text-align: right;\n",
              "    }\n",
              "</style>\n",
              "<table border=\"1\" class=\"dataframe\">\n",
              "  <thead>\n",
              "    <tr style=\"text-align: right;\">\n",
              "      <th></th>\n",
              "      <th>country</th>\n",
              "      <th>total_penalties</th>\n",
              "    </tr>\n",
              "  </thead>\n",
              "  <tbody>\n",
              "    <tr>\n",
              "      <th>200</th>\n",
              "      <td>Zambia</td>\n",
              "      <td>24.0</td>\n",
              "    </tr>\n",
              "    <tr>\n",
              "      <th>165</th>\n",
              "      <td>South Korea</td>\n",
              "      <td>23.0</td>\n",
              "    </tr>\n",
              "    <tr>\n",
              "      <th>164</th>\n",
              "      <td>South Africa</td>\n",
              "      <td>23.0</td>\n",
              "    </tr>\n",
              "    <tr>\n",
              "      <th>5</th>\n",
              "      <td>Argentina</td>\n",
              "      <td>22.0</td>\n",
              "    </tr>\n",
              "    <tr>\n",
              "      <th>51</th>\n",
              "      <td>Egypt</td>\n",
              "      <td>22.0</td>\n",
              "    </tr>\n",
              "  </tbody>\n",
              "</table>\n",
              "</div>"
            ],
            "text/plain": [
              "          country  total_penalties\n",
              "200        Zambia             24.0\n",
              "165   South Korea             23.0\n",
              "164  South Africa             23.0\n",
              "5       Argentina             22.0\n",
              "51          Egypt             22.0"
            ]
          },
          "execution_count": 15,
          "metadata": {},
          "output_type": "execute_result"
        }
      ],
      "source": [
        "# Calculate the absolute frequency\n",
        "shootouts_rate_domain = shootouts.home_team.value_counts().add(shootouts.away_team.value_counts(), fill_value=0)\n",
        "# Filter low result\n",
        "shootouts_rate_domain = shootouts_rate_domain.to_frame().reset_index()\n",
        "shootouts_rate_domain.rename(columns={'index': 'country', 0:'total_penalties'}, inplace=True)\n",
        "shootouts_rate_domain.sort_values(by='total_penalties', ascending=False, inplace=True)\n",
        "shootouts_rate_domain.head()"
      ]
    },
    {
      "cell_type": "code",
      "execution_count": null,
      "metadata": {
        "id": "M2Ns9re7K8Ts",
        "outputId": "97889e71-f276-4d5d-dea3-7f349f33e1ca"
      },
      "outputs": [
        {
          "data": {
            "image/png": "[encoded data removed]",
            "text/plain": [
              "<Figure size 720x432 with 1 Axes>"
            ]
          },
          "metadata": {},
          "output_type": "display_data"
        }
      ],
      "source": [
        "# Visualization\n",
        "plt.figure(figsize=(10,6))\n",
        "ax = sns.barplot(data=shootouts_rate_domain.head(15), x='total_penalties', y='country', palette='muted')\n",
        "ax.set_title(\"Shootouts Played per Country\", size=16)\n",
        "\n",
        "\n",
        "# Show\n",
        "plt.show()"
      ]
    },
    {
      "cell_type": "markdown",
      "metadata": {
        "id": "eqUk5oDHK8Ts"
      },
      "source": [
        "### **Calculate the absolute frequency of teams who won the most penalty shootouts**\n",
        "\n",
        "We can calculate the absolute frequency of teams that have won the highest number of penalty shootouts."
      ]
    },
    {
      "cell_type": "code",
      "execution_count": null,
      "metadata": {
        "id": "seWyhcilK8Ts",
        "outputId": "afcb84d7-9103-4123-82ed-6d975a1197e9"
      },
      "outputs": [
        {
          "data": {
            "text/html": [
              "<div>\n",
              "<style scoped>\n",
              "    .dataframe tbody tr th:only-of-type {\n",
              "        vertical-align: middle;\n",
              "    }\n",
              "\n",
              "    .dataframe tbody tr th {\n",
              "        vertical-align: top;\n",
              "    }\n",
              "\n",
              "    .dataframe thead th {\n",
              "        text-align: right;\n",
              "    }\n",
              "</style>\n",
              "<table border=\"1\" class=\"dataframe\">\n",
              "  <thead>\n",
              "    <tr style=\"text-align: right;\">\n",
              "      <th></th>\n",
              "      <th>country</th>\n",
              "      <th>winner</th>\n",
              "    </tr>\n",
              "  </thead>\n",
              "  <tbody>\n",
              "    <tr>\n",
              "      <th>0</th>\n",
              "      <td>Argentina</td>\n",
              "      <td>14</td>\n",
              "    </tr>\n",
              "    <tr>\n",
              "      <th>1</th>\n",
              "      <td>South Korea</td>\n",
              "      <td>13</td>\n",
              "    </tr>\n",
              "    <tr>\n",
              "      <th>2</th>\n",
              "      <td>Egypt</td>\n",
              "      <td>13</td>\n",
              "    </tr>\n",
              "    <tr>\n",
              "      <th>3</th>\n",
              "      <td>Zambia</td>\n",
              "      <td>13</td>\n",
              "    </tr>\n",
              "    <tr>\n",
              "      <th>4</th>\n",
              "      <td>South Africa</td>\n",
              "      <td>11</td>\n",
              "    </tr>\n",
              "  </tbody>\n",
              "</table>\n",
              "</div>"
            ],
            "text/plain": [
              "        country  winner\n",
              "0     Argentina      14\n",
              "1   South Korea      13\n",
              "2         Egypt      13\n",
              "3        Zambia      13\n",
              "4  South Africa      11"
            ]
          },
          "execution_count": 17,
          "metadata": {},
          "output_type": "execute_result"
        }
      ],
      "source": [
        "# Calculate absolute frequency of wins\n",
        "shootouts_count = shootouts.winner.value_counts().to_frame().reset_index()\n",
        "shootouts_count.rename(columns={'index': 'country'}, inplace=True)\n",
        "shootouts_count.head()"
      ]
    },
    {
      "cell_type": "code",
      "execution_count": null,
      "metadata": {
        "id": "pPyz0vKqK8Tt",
        "outputId": "fe796d80-9988-4cdd-fb04-9ab9a66cc976"
      },
      "outputs": [
        {
          "data": {
            "image/png": "[encoded data removed]",
            "text/plain": [
              "<Figure size 720x432 with 1 Axes>"
            ]
          },
          "metadata": {},
          "output_type": "display_data"
        }
      ],
      "source": [
        "# Visualization\n",
        "plt.figure(figsize=(10,6))\n",
        "ax = sns.barplot(data=shootouts_count.head(15), x='winner', y='country', palette='muted')\n",
        "ax.set_title(\"Shootouts Winnings per Country\", size=16)\n",
        "\n",
        "\n",
        "# Show\n",
        "plt.show()"
      ]
    },
    {
      "cell_type": "markdown",
      "metadata": {
        "id": "a6e-bJpwK8Tt"
      },
      "source": [
        "### **Calculate the teams with best peformance in penalty shootouts**\n",
        "\n",
        "We can determine the teams with the best performance by dividing their frequency of wins by their total frequency.\n",
        "\n",
        "To identify the teams with the best performance, we need to filter out countries that have participated in more than six penalty shootouts. This filtering ensures that we focus on teams that have a substantial sample size and sufficient experience in penalty shootouts to make a meaningful assessment of their performance."
      ]
    },
    {
      "cell_type": "code",
      "execution_count": null,
      "metadata": {
        "id": "-vYZdMjyK8Tt",
        "outputId": "41f1bfab-99ed-47bf-e486-5bc1240d98d9"
      },
      "outputs": [
        {
          "data": {
            "text/html": [
              "<div>\n",
              "<style scoped>\n",
              "    .dataframe tbody tr th:only-of-type {\n",
              "        vertical-align: middle;\n",
              "    }\n",
              "\n",
              "    .dataframe tbody tr th {\n",
              "        vertical-align: top;\n",
              "    }\n",
              "\n",
              "    .dataframe thead th {\n",
              "        text-align: right;\n",
              "    }\n",
              "</style>\n",
              "<table border=\"1\" class=\"dataframe\">\n",
              "  <thead>\n",
              "    <tr style=\"text-align: right;\">\n",
              "      <th></th>\n",
              "      <th>country</th>\n",
              "      <th>total_penalties</th>\n",
              "      <th>winner</th>\n",
              "      <th>ratio</th>\n",
              "    </tr>\n",
              "  </thead>\n",
              "  <tbody>\n",
              "    <tr>\n",
              "      <th>0</th>\n",
              "      <td>Zambia</td>\n",
              "      <td>24.0</td>\n",
              "      <td>13</td>\n",
              "      <td>0.541667</td>\n",
              "    </tr>\n",
              "    <tr>\n",
              "      <th>1</th>\n",
              "      <td>South Korea</td>\n",
              "      <td>23.0</td>\n",
              "      <td>13</td>\n",
              "      <td>0.565217</td>\n",
              "    </tr>\n",
              "    <tr>\n",
              "      <th>2</th>\n",
              "      <td>South Africa</td>\n",
              "      <td>23.0</td>\n",
              "      <td>11</td>\n",
              "      <td>0.478261</td>\n",
              "    </tr>\n",
              "    <tr>\n",
              "      <th>3</th>\n",
              "      <td>Argentina</td>\n",
              "      <td>22.0</td>\n",
              "      <td>14</td>\n",
              "      <td>0.636364</td>\n",
              "    </tr>\n",
              "    <tr>\n",
              "      <th>4</th>\n",
              "      <td>Egypt</td>\n",
              "      <td>22.0</td>\n",
              "      <td>13</td>\n",
              "      <td>0.590909</td>\n",
              "    </tr>\n",
              "  </tbody>\n",
              "</table>\n",
              "</div>"
            ],
            "text/plain": [
              "        country  total_penalties  winner     ratio\n",
              "0        Zambia             24.0      13  0.541667\n",
              "1   South Korea             23.0      13  0.565217\n",
              "2  South Africa             23.0      11  0.478261\n",
              "3     Argentina             22.0      14  0.636364\n",
              "4         Egypt             22.0      13  0.590909"
            ]
          },
          "execution_count": 19,
          "metadata": {},
          "output_type": "execute_result"
        }
      ],
      "source": [
        "shootouts_frequency = shootouts_rate_domain.merge(shootouts_count, left_on='country', right_on='country')\n",
        "shootouts_frequency['ratio'] = shootouts_frequency.winner / shootouts_frequency.total_penalties\n",
        "\n",
        "# filter countries that played more than 6 shootouts\n",
        "mask = shootouts_frequency.total_penalties > 6\n",
        "shootouts_frequency = shootouts_frequency[mask]\n",
        "\n",
        "shootouts_frequency.head()"
      ]
    },
    {
      "cell_type": "code",
      "execution_count": null,
      "metadata": {
        "id": "dfl_Waa8K8Tt",
        "outputId": "e5404224-a6b8-40ed-e05b-ea2aea7b1eec"
      },
      "outputs": [
        {
          "data": {
            "image/png": "[encoded data removed]",
            "text/plain": [
              "<Figure size 720x432 with 1 Axes>"
            ]
          },
          "metadata": {},
          "output_type": "display_data"
        }
      ],
      "source": [
        "# Visualization\n",
        "plt.figure(figsize=(10,6))\n",
        "ax = sns.barplot(data=shootouts_frequency.sort_values(by='ratio', ascending=False).head(15), x='ratio', y='country', palette='muted')\n",
        "ax.set_title(\"Shootouts Winnings Ratio per Country\", size=16)\n",
        "ax.set_xticks(np.array(range(0, 11))/10)\n",
        "\n",
        "\n",
        "# Show\n",
        "plt.show()"
      ]
    },
    {
      "cell_type": "markdown",
      "metadata": {
        "id": "r9bs-znwK8Tt"
      },
      "source": [
        "## **5. What is the impact of playing at home on the final match outcome?**"
      ]
    },
    {
      "cell_type": "markdown",
      "metadata": {
        "id": "5TayWGhNK8Tt"
      },
      "source": [
        "### **Analysing by match result**\n",
        "\n",
        "Through this analysis, a clear advantage can be observed for the home team, as depicted by the higher frequency displayed in the graph. This suggests that playing on home turf provides a favorable condition that increases the likelihood of a positive outcome for the home team.\n",
        "\n",
        "To ensure a more accurate assessment, matches played on neutral grounds were excluded from this analysis."
      ]
    },
    {
      "cell_type": "code",
      "execution_count": null,
      "metadata": {
        "id": "fcYCnS-IK8Tt",
        "outputId": "09b03ebe-1813-485b-941e-6d5376c9d74f"
      },
      "outputs": [
        {
          "data": {
            "image/png": "[encoded data removed]",
            "text/plain": [
              "<Figure size 432x432 with 1 Axes>"
            ]
          },
          "metadata": {},
          "output_type": "display_data"
        }
      ],
      "source": [
        "# Return result by goal diference\n",
        "def result(goal_dif):\n",
        "    # return 0 to lost\n",
        "    if goal_dif < 0:\n",
        "        return 'lost'\n",
        "    # return 0.5 to draw\n",
        "    elif goal_dif == 0:\n",
        "        return 'draw'\n",
        "    # return 1 to win\n",
        "    return 'win'\n",
        "\n",
        "# Remove neutral ground matches\n",
        "mask = results['neutral'] == False\n",
        "results_by_home = results[mask].copy()\n",
        "results_by_home['home_win'] = results_by_home.goal_dif.map(result)\n",
        "\n",
        "# Visualization\n",
        "fig = plt.figure(figsize=(6,6))\n",
        "ax = results_by_home['home_win'].value_counts(ascending=False).plot(kind=\"bar\", width=0.6)\n",
        "\n",
        "# Altera o título\n",
        "ax.set_title(\"Results of Home Teams in Matches\", fontsize=13)\n",
        "\n",
        "# Altera a Escala do eixo Y\n",
        "ax.set_ylim([0, 20000])\n",
        "\n",
        "# Deixa o Eixo X na horizontal e muda o mes para PT-BR\n",
        "ax.set_xticklabels(labels=results_by_home['home_win'].value_counts().index, rotation=0, ha='center')\n",
        "\n",
        "# Change bar color\n",
        "for color, bar in zip(['tab:blue', 'gray','gray'], ax.patches):\n",
        "     bar.set_color(color)\n",
        "\n",
        "# Show\n",
        "plt.show()"
      ]
    },
    {
      "cell_type": "markdown",
      "metadata": {
        "id": "SSpnYzIKK8Tu"
      },
      "source": [
        "### **Analysing by match results in major tournaments**\n",
        "\n",
        "In this analysis, we examine match results in major tournaments, with a particular focus on the influence of playing at home. By analyzing the data, it becomes evident that there is a consistent advantage for the home team. The results consistently demonstrate a higher frequency of victories for the home team compared to the away team. This finding underscores the significance of home-field advantage in major tournaments, where the support of home fans and familiarity with the surroundings can provide a boost to the performance and confidence of the home team."
      ]
    },
    {
      "cell_type": "code",
      "execution_count": null,
      "metadata": {
        "id": "PLEatM8KK8Tu",
        "outputId": "fb8574e3-011e-47d6-ed23-d9c5b6f5c462"
      },
      "outputs": [
        {
          "data": {
            "image/png": "[encoded data removed]",
            "text/plain": [
              "<Figure size 432x432 with 1 Axes>"
            ]
          },
          "metadata": {},
          "output_type": "display_data"
        }
      ],
      "source": [
        "tournaments = ['FIFA World Cup', 'AFC Asian Cup', 'Africa Cup of Nations',\n",
        "              'CONCACAF Gold Cup', 'Copa América', 'OFC Nations Cup',\n",
        "              'UEFA European Championship', 'CONCACAF Cup', 'AFC Solidarity Cup',\n",
        "              'AFC Challenge Cup', 'Confederations Cup', 'CONMEBOL–UEFA Cup of Champions']\n",
        "\n",
        "# Remove neutral ground matches and consider only majors tournaments\n",
        "mask = (results['neutral'] == False) & (results['tournament'].isin(tournaments))\n",
        "results_by_home = results[mask].copy()\n",
        "results_by_home['home_win'] = results_by_home.goal_dif.map(result)\n",
        "\n",
        "# Visualization\n",
        "fig = plt.figure(figsize=(6,6))\n",
        "ax = results_by_home['home_win'].value_counts(ascending=False).plot(kind=\"bar\", width=0.6)\n",
        "\n",
        "# Altera o título\n",
        "ax.set_title(\"Results of Home Teams in Major Tournament Matches\", fontsize=13)\n",
        "\n",
        "# Altera a Escala do eixo Y\n",
        "ax.set_ylim([0, 400])\n",
        "\n",
        "# Deixa o Eixo X na horizontal e muda o mes para PT-BR\n",
        "ax.set_xticklabels(labels=results_by_home['home_win'].value_counts().index, rotation=0, ha='center')\n",
        "\n",
        "# Change bar color\n",
        "for color, bar in zip(['tab:blue', 'gray','gray'], ax.patches):\n",
        "     bar.set_color(color)\n",
        "\n",
        "# Show\n",
        "plt.show()"
      ]
    },
    {
      "cell_type": "markdown",
      "metadata": {
        "id": "peCVTOXKK8Tu"
      },
      "source": [
        "### **Analysing by goals scored**\n",
        "\n",
        "In this analysis, we delve into the goal-scoring dynamics across various matches, with a specific focus on examining the advantage of the home team. Through a comprehensive assessment of the data, a clear pattern emerges, indicating that the home team holds an advantage in terms of goal scoring. The statistical analysis consistently reveals a higher frequency of goals scored by the home team compared to the away team."
      ]
    },
    {
      "cell_type": "code",
      "execution_count": null,
      "metadata": {
        "id": "3TZ4KP42K8Tu",
        "outputId": "b589e499-fe6f-4387-8835-8a359772bde8"
      },
      "outputs": [
        {
          "data": {
            "image/png": "[encoded data removed]",
            "text/plain": [
              "<Figure size 432x288 with 1 Axes>"
            ]
          },
          "metadata": {},
          "output_type": "display_data"
        }
      ],
      "source": [
        "# Create copy of results DataFrame\n",
        "match_score = results[['home_score', 'away_score', 'neutral']].copy()\n",
        "\n",
        "# Remove matches in neutral field for comparation\n",
        "mask_field = match_score.neutral == False\n",
        "\n",
        "# Simplifying the number of goals above 8 to facilitate visualization (Generate Warning, but is fine)\n",
        "max_number_of_goals = 8\n",
        "mask_number_of_goals_home = match_score.home_score > max_number_of_goals\n",
        "mask_number_of_goals_away = match_score.away_score > max_number_of_goals\n",
        "\n",
        "match_score.home_score = match_score.home_score.where(~mask_number_of_goals_home, max_number_of_goals)\n",
        "match_score.away_score = match_score.away_score.where(~mask_number_of_goals_away, max_number_of_goals)\n",
        "\n",
        "# Visualization\n",
        "ax = sns.boxplot(data=match_score[['home_score', 'away_score']][mask_field],\n",
        "            width=0.4, orient='h')\n",
        "ax.set_ylabel(\"Location\")\n",
        "ax.set_xlabel(\"Goals scored\")\n",
        "ax.set_title(\"Boxplot goals scored home and away\")\n",
        "\n",
        "# Show\n",
        "plt.show()"
      ]
    },
    {
      "cell_type": "markdown",
      "metadata": {
        "id": "Hum31z0BK8Tu"
      },
      "source": [
        "### **Analysing by goals scored in major tournaments**\n",
        "\n",
        "In this analysis, we explore the goal-scoring patterns in major tournaments, specifically focusing on the influence of playing at home. The data reveals a noteworthy trend indicating that the home team enjoys an advantage in terms of goal-scoring. The statistics consistently demonstrate a higher frequency of goals scored by the home team compared to the away team."
      ]
    },
    {
      "cell_type": "code",
      "execution_count": null,
      "metadata": {
        "id": "7xsSkYqxK8Tu",
        "outputId": "e02a0608-e6ff-4707-9d78-f44c2239646d"
      },
      "outputs": [
        {
          "data": {
            "image/png": "[encoded data removed]",
            "text/plain": [
              "<Figure size 432x288 with 1 Axes>"
            ]
          },
          "metadata": {},
          "output_type": "display_data"
        }
      ],
      "source": [
        "tournaments = ['FIFA World Cup', 'AFC Asian Cup', 'Africa Cup of Nations',\n",
        "              'CONCACAF Gold Cup', 'Copa América', 'OFC Nations Cup',\n",
        "              'UEFA European Championship', 'CONCACAF Cup', 'AFC Solidarity Cup',\n",
        "              'AFC Challenge Cup', 'Confederations Cup', 'CONMEBOL–UEFA Cup of Champions']\n",
        "\n",
        "# Create copy of results DataFrame\n",
        "match_score = results[['home_score', 'away_score', 'neutral', 'tournament']].copy()\n",
        "\n",
        "# Remove matches in neutral field for comparation\n",
        "mask_field = (match_score.neutral == False) & (match_score.tournament.isin(tournaments))\n",
        "\n",
        "# Simplifying the number of goals above 8 to facilitate visualization (Generate Warning, but is fine)\n",
        "max_number_of_goals = 8\n",
        "mask_number_of_goals_home = match_score.home_score > max_number_of_goals\n",
        "mask_number_of_goals_away = match_score.away_score > max_number_of_goals\n",
        "\n",
        "match_score.home_score = match_score.home_score.where(~mask_number_of_goals_home, max_number_of_goals)\n",
        "match_score.away_score = match_score.away_score.where(~mask_number_of_goals_away, max_number_of_goals)\n",
        "\n",
        "# Visualization\n",
        "ax = sns.boxplot(data=match_score[['home_score', 'away_score']][mask_field],\n",
        "            width=0.4, orient='h')\n",
        "ax.set_ylabel(\"Location\")\n",
        "ax.set_xlabel(\"Goals scored\")\n",
        "ax.set_title(\"Boxplot goals scored home and away in major tournaments\")\n",
        "\n",
        "# Show\n",
        "plt.show()"
      ]
    },
    {
      "cell_type": "markdown",
      "metadata": {
        "id": "q7v85nnhK8Tv"
      },
      "source": [
        "### **Analysing by goal difference**\n",
        "\n",
        "In this analysis, we investigate the goal difference, a measure of the performance disparity between the home and away teams. Our focus is on examining the advantage of the home team based on this metric. By analyzing the data, a consistent trend emerges, indicating that the home team holds an advantage in terms of goal difference. The statistics consistently reveal a higher frequency of positive goal differences for the home team compared to the away team. This observation underscores the significance of playing on home turf, where teams often exhibit a stronger performance, leading to a greater goal differential in their favor. The data provides compelling evidence that playing at home contributes to a notable advantage in terms of goal difference, highlighting the importance of home-field advantage in football."
      ]
    },
    {
      "cell_type": "code",
      "execution_count": null,
      "metadata": {
        "id": "hPQOZtFOK8Tv",
        "outputId": "cf058f74-b2e9-4bd4-baf1-f624394dd901"
      },
      "outputs": [
        {
          "data": {
            "image/png": "[encoded data removed]",
            "text/plain": [
              "<Figure size 432x288 with 1 Axes>"
            ]
          },
          "metadata": {},
          "output_type": "display_data"
        }
      ],
      "source": [
        "# Create copy of results DataFrame\n",
        "match_score = results[['goal_dif', 'neutral']].copy()\n",
        "\n",
        "# Remove matches in neutral field for comparation\n",
        "mask_field = match_score.neutral == False\n",
        "\n",
        "# Simplifying the number of goals above 7 to facilitate visualization (Generate Warning, but is fine)\n",
        "max_number_of_goals = 8\n",
        "mask_number_of_goals_dif_home = match_score.goal_dif > max_number_of_goals\n",
        "mask_number_of_goals_dif_away = match_score.goal_dif < -max_number_of_goals\n",
        "\n",
        "match_score.goal_dif = match_score.goal_dif.where(~mask_number_of_goals_dif_home, max_number_of_goals)\n",
        "match_score.goal_dif = match_score.goal_dif.where(~mask_number_of_goals_dif_away, -max_number_of_goals)\n",
        "\n",
        "# Visualization\n",
        "ax = sns.boxplot(data=match_score[mask_field], x='goal_dif',\n",
        "            width=0.4, orient='h')\n",
        "ax.set_xlabel(\"goal_dif\")\n",
        "ax.set_title(\"Goal Diference in Match (+ home win / - away win)\")\n",
        "\n",
        "# Show\n",
        "plt.show()"
      ]
    },
    {
      "cell_type": "markdown",
      "metadata": {
        "id": "Q3rmMJLOK8Tv"
      },
      "source": [
        "### **Analysing by goal difference in major tournaments**\n",
        "\n",
        "In this analysis, we delve into the goal difference, a key indicator of performance, specifically focusing on major tournaments and examining the advantage of the home team. By meticulously analyzing the data, a consistent pattern emerges, clearly demonstrating that the home team enjoys a distinct advantage in terms of goal difference. The statistical analysis consistently showcases a higher frequency of positive goal differences for the home team compared to the away team in major tournaments. This finding underscores the significant impact of playing on home soil, where teams tend to exhibit stronger performances, resulting in a greater goal differential in their favor. The data provides compelling evidence that home-field advantage plays a crucial role in major tournaments, influencing the goal difference and ultimately contributing to the success of the home team."
      ]
    },
    {
      "cell_type": "code",
      "execution_count": null,
      "metadata": {
        "id": "pYuj6ruVK8Tv",
        "outputId": "50706f73-416d-47be-b9ef-ead277438958"
      },
      "outputs": [
        {
          "data": {
            "image/png": "[encoded data removed]",
            "text/plain": [
              "<Figure size 432x288 with 1 Axes>"
            ]
          },
          "metadata": {},
          "output_type": "display_data"
        }
      ],
      "source": [
        "tournaments = ['FIFA World Cup', 'AFC Asian Cup', 'Africa Cup of Nations',\n",
        "              'CONCACAF Gold Cup', 'Copa América', 'OFC Nations Cup',\n",
        "              'UEFA European Championship', 'CONCACAF Cup', 'AFC Solidarity Cup',\n",
        "              'AFC Challenge Cup', 'Confederations Cup', 'CONMEBOL–UEFA Cup of Champions']\n",
        "\n",
        "# Create copy of results DataFrame\n",
        "match_score = results[['goal_dif', 'neutral', 'tournament']].copy()\n",
        "\n",
        "# Remove matches in neutral field for comparation\n",
        "mask_field = (match_score.neutral == False) & (match_score.tournament.isin(tournaments))\n",
        "match_score = match_score[mask_field]\n",
        "\n",
        "# Simplifying the number of goals above 7 to facilitate visualization (Generate Warning, but is fine)\n",
        "max_number_of_goals = 8\n",
        "mask_number_of_goals_dif_home = match_score.goal_dif > max_number_of_goals\n",
        "mask_number_of_goals_dif_away = match_score.goal_dif < -max_number_of_goals\n",
        "\n",
        "match_score.goal_dif = match_score.goal_dif.where(~mask_number_of_goals_dif_home, max_number_of_goals)\n",
        "match_score.goal_dif = match_score.goal_dif.where(~mask_number_of_goals_dif_away, -max_number_of_goals)\n",
        "\n",
        "# Visualization\n",
        "ax = sns.boxplot(data=match_score, x='goal_dif', orient='h', width=0.4)\n",
        "ax.set_xlabel(\"goal_dif\")\n",
        "ax.set_title(\"Goal Diference in Major Tournament Matches (+ home win / - away win)\")\n",
        "\n",
        "# Show\n",
        "plt.show()"
      ]
    },
    {
      "cell_type": "markdown",
      "metadata": {
        "id": "h6c6dSv9K8Tv"
      },
      "source": [
        "## **6. Which teams have the best historical performance?**"
      ]
    },
    {
      "cell_type": "markdown",
      "metadata": {
        "id": "govyi4vgK8Tv"
      },
      "source": [
        "### **Creating Football Elo Ranking**\n",
        "\n",
        "**Initial Explanation**\n",
        "\n",
        "The Elo ranking system is designed to provide a numerical representation of the skill level of teams in competitive games. Each team is assigned an initial rating, which serves as a baseline measure of their ability.\n",
        "\n",
        "The amount of points gained or lost in a match is determined by the difference in ratings between the two opponents. If the ratings are close, the impact on ratings will be minimal. However, if there is a significant rating difference, the outcome of the match can lead to more significant rating adjustments.\n",
        "\n",
        "Over time, teams participate in more matches, their ratings become more accurate representations of their current skill levels. The Elo ranking system allows for comparisons and rankings based on these ratings, providing a framework for evaluating and comparing the performance of individuals or groups in a fair and objective manner.\n",
        "\n",
        "**Apply to football**\n",
        "\n",
        "We can apply the Elo rating system to international football, by adding a weighting for the kind of match, an adjustment for the home team advantage, and an adjustment for goal difference in the match result.\n",
        "\n",
        "The ratings are based on the following formulas:\n",
        "\n",
        "$Rn = Ro + G * K * (W - We)$\n",
        "\n",
        "- $Rn$ is the new rating\n",
        "- $Ro$ is the old (pre-match) rating.\n",
        "- $G$ is a goal difference index\n",
        "    - If $0$ or $1$: $G = 1$\n",
        "    - If $2$: $G = ^3/_2$\n",
        "    - If $3$ or more: $G = \\frac{(11 + goaldif)}{8}$\n",
        "- $K$ is the weight constant for the tournament played (We made an adjustmant from the reference):\n",
        "    - 60 for World Cup Matches;\n",
        "    - 50 for continental championships and major intercontinental tournaments;\n",
        "    - 40 for World Cup qualifiers and major tournaments;\n",
        "    - 30 for Continental qualifiers and major tournaments;\n",
        "    - 20 for Friendly and other tournaments\n",
        "- $W$ is the result of the game (1 for a win, 0.5 for a draw, and 0 for a loss).\n",
        "- $We$ is the expected result (win expectancy), either from the chart or the following formula:\n",
        "    - $We = \\frac{1}{10^(\\frac{-dr}{400}) + 1}$\n",
        "    - $dr$ equals the difference in ratings plus 100 points for a team playing at home.\n",
        "    \n",
        "Reference: https://www.eloratings.net/about"
      ]
    },
    {
      "cell_type": "markdown",
      "metadata": {
        "id": "0-70BiI4K8Tw"
      },
      "source": [
        "### **Functions Implementations**\n",
        "\n",
        "With these formulas and functions, we can calculate the changes in Elo rankings. "
      ]
    },
    {
      "cell_type": "code",
      "execution_count": null,
      "metadata": {
        "id": "2qqJYXS_K8Tw"
      },
      "outputs": [],
      "source": [
        "# Return expected result probabilty\n",
        "def expected_result(ranking_a, ranking_b, home_advantage):\n",
        "    return 1 / (10**(-((ranking_a+home_advantage)-ranking_b)/400) + 1)\n",
        "\n",
        "# Return result by goal diference\n",
        "def result(goal_dif):\n",
        "    # return 0 to lost\n",
        "    if goal_dif < 0:\n",
        "        return 0\n",
        "    # return 0.5 to draw\n",
        "    elif goal_dif == 0:\n",
        "        return 0.5\n",
        "    # return 1 to win\n",
        "    return 1\n",
        "\n",
        "\n",
        "# The number of goals is taken into account by use of a goal difference index\n",
        "def goal_index(goal_dif):\n",
        "    goal_dif = abs(goal_dif)\n",
        "    if goal_dif <= 1:\n",
        "        return 1\n",
        "    elif goal_dif == 2:\n",
        "        return 3/2\n",
        "    else:\n",
        "        return (11 + goal_dif) / 8\n",
        "\n",
        "\n",
        "# Return tournament weight constant\n",
        "def tournament_weight(tournament):\n",
        "    # 60 points\n",
        "    world_cup = 'FIFA World Cup'\n",
        "    # 50 points\n",
        "    continental = ['AFC Asian Cup', 'Africa Cup of Nations',\n",
        "                  'CONCACAF Gold Cup', 'Copa América', 'OFC Nations Cup',\n",
        "                  'UEFA European Championship', 'CONCACAF Cup', 'AFC Solidarity Cup',\n",
        "                  'AFC Challenge Cup', 'Confederations Cup', 'CONMEBOL–UEFA Cup of Champions']\n",
        "    # 40 points\n",
        "    international_qualifiers_and_majors = ['UEFA Nations League', 'FIFA World Cup qualification',  \n",
        "                                           'CONCACAF Nations League', 'African Nations Championship']\n",
        "    # 30 points\n",
        "    continental_qualifiers = ['UEFA Euro qualification', 'African Cup of Nations qualification', 'AFC Asian Cup qualification',\n",
        "                              'Copa América qualification']\n",
        "    # 20 points + others\n",
        "    friendly = 'Friendly'\n",
        "    \n",
        "    if tournament == world_cup:\n",
        "        return 60\n",
        "    elif tournament in continental:\n",
        "        return 50\n",
        "    elif tournament in international_qualifiers_and_majors:\n",
        "        return 40\n",
        "    elif tournament in continental_qualifiers:\n",
        "        return 30\n",
        "    elif tournament == friendly:\n",
        "        return 20\n",
        "    else:\n",
        "        return 20\n",
        "\n",
        "\n",
        "# Calculate change of points\n",
        "def points_change(ranking_a, ranking_b, goal_dif, tournament, home_advantage=100):\n",
        "    g = goal_index(goal_dif)\n",
        "    k = tournament_weight(tournament)\n",
        "    w = result(goal_dif)\n",
        "    we = expected_result(ranking_a, ranking_b, home_advantage)\n",
        "    return g * k * (w - we)\n",
        "\n",
        "\n",
        "# Return a tuple with the ranking of A and the ranking of B\n",
        "def elo(ranking_a, ranking_b, goal_dif, tournament, neutral):\n",
        "    \n",
        "    if neutral:\n",
        "        points = points_change(ranking_a, ranking_b, goal_dif, tournament, home_advantage=0)\n",
        "    else:\n",
        "        points = points_change(ranking_a, ranking_b, goal_dif, tournament, home_advantage=100)\n",
        "    \n",
        "    return ranking_a + points, ranking_b - points"
      ]
    },
    {
      "cell_type": "markdown",
      "metadata": {
        "id": "VB_1rgKCK8Tw"
      },
      "source": [
        "### **Data Processing**\n",
        "\n",
        "By processing the data and applying the Elo ranking calculations, we can generate a comprehensive data frame that captures the Elo ranking of each team over the years. This data frame will provide valuable insights into the relative performance and fluctuations of teams' rankings across different tournaments and matches. Analyzing the Elo rankings over time enables us to observe trends, identify teams with consistent success, and gain a deeper understanding of the dynamics of team performance in the world of football."
      ]
    },
    {
      "cell_type": "code",
      "execution_count": null,
      "metadata": {
        "id": "hlTYj7vBK8Tw",
        "outputId": "7bf3c03c-0ddc-449a-d9e4-e91267ddf51e"
      },
      "outputs": [
        {
          "data": {
            "text/html": [
              "<div>\n",
              "<style scoped>\n",
              "    .dataframe tbody tr th:only-of-type {\n",
              "        vertical-align: middle;\n",
              "    }\n",
              "\n",
              "    .dataframe tbody tr th {\n",
              "        vertical-align: top;\n",
              "    }\n",
              "\n",
              "    .dataframe thead th {\n",
              "        text-align: right;\n",
              "    }\n",
              "</style>\n",
              "<table border=\"1\" class=\"dataframe\">\n",
              "  <thead>\n",
              "    <tr style=\"text-align: right;\">\n",
              "      <th></th>\n",
              "      <th>country</th>\n",
              "      <th>1872</th>\n",
              "      <th>1873</th>\n",
              "      <th>1874</th>\n",
              "      <th>1875</th>\n",
              "      <th>1876</th>\n",
              "      <th>1877</th>\n",
              "      <th>1878</th>\n",
              "      <th>1879</th>\n",
              "      <th>1880</th>\n",
              "      <th>...</th>\n",
              "      <th>2014</th>\n",
              "      <th>2015</th>\n",
              "      <th>2016</th>\n",
              "      <th>2017</th>\n",
              "      <th>2018</th>\n",
              "      <th>2019</th>\n",
              "      <th>2020</th>\n",
              "      <th>2021</th>\n",
              "      <th>2022</th>\n",
              "      <th>2023</th>\n",
              "    </tr>\n",
              "  </thead>\n",
              "  <tbody>\n",
              "    <tr>\n",
              "      <th>0</th>\n",
              "      <td>Abkhazia</td>\n",
              "      <td>1500.0</td>\n",
              "      <td>1500.0</td>\n",
              "      <td>1500.0</td>\n",
              "      <td>1500.0</td>\n",
              "      <td>1500.0</td>\n",
              "      <td>1500.0</td>\n",
              "      <td>1500.0</td>\n",
              "      <td>1500.0</td>\n",
              "      <td>1500.0</td>\n",
              "      <td>...</td>\n",
              "      <td>1495.933727</td>\n",
              "      <td>1495.933727</td>\n",
              "      <td>1541.988144</td>\n",
              "      <td>1536.597870</td>\n",
              "      <td>1573.682634</td>\n",
              "      <td>1590.633376</td>\n",
              "      <td>1590.633376</td>\n",
              "      <td>1590.633376</td>\n",
              "      <td>1590.633376</td>\n",
              "      <td>1590.633376</td>\n",
              "    </tr>\n",
              "    <tr>\n",
              "      <th>1</th>\n",
              "      <td>Afghanistan</td>\n",
              "      <td>1500.0</td>\n",
              "      <td>1500.0</td>\n",
              "      <td>1500.0</td>\n",
              "      <td>1500.0</td>\n",
              "      <td>1500.0</td>\n",
              "      <td>1500.0</td>\n",
              "      <td>1500.0</td>\n",
              "      <td>1500.0</td>\n",
              "      <td>1500.0</td>\n",
              "      <td>...</td>\n",
              "      <td>1285.742074</td>\n",
              "      <td>1309.722983</td>\n",
              "      <td>1313.441091</td>\n",
              "      <td>1321.562707</td>\n",
              "      <td>1314.735193</td>\n",
              "      <td>1310.864965</td>\n",
              "      <td>1310.864965</td>\n",
              "      <td>1315.257412</td>\n",
              "      <td>1279.155143</td>\n",
              "      <td>1279.155143</td>\n",
              "    </tr>\n",
              "    <tr>\n",
              "      <th>2</th>\n",
              "      <td>Albania</td>\n",
              "      <td>1500.0</td>\n",
              "      <td>1500.0</td>\n",
              "      <td>1500.0</td>\n",
              "      <td>1500.0</td>\n",
              "      <td>1500.0</td>\n",
              "      <td>1500.0</td>\n",
              "      <td>1500.0</td>\n",
              "      <td>1500.0</td>\n",
              "      <td>1500.0</td>\n",
              "      <td>...</td>\n",
              "      <td>1607.064865</td>\n",
              "      <td>1630.177782</td>\n",
              "      <td>1596.914714</td>\n",
              "      <td>1624.582143</td>\n",
              "      <td>1536.531153</td>\n",
              "      <td>1551.969675</td>\n",
              "      <td>1576.881358</td>\n",
              "      <td>1607.633618</td>\n",
              "      <td>1569.770664</td>\n",
              "      <td>1566.368467</td>\n",
              "    </tr>\n",
              "    <tr>\n",
              "      <th>3</th>\n",
              "      <td>Alderney</td>\n",
              "      <td>1500.0</td>\n",
              "      <td>1500.0</td>\n",
              "      <td>1500.0</td>\n",
              "      <td>1500.0</td>\n",
              "      <td>1500.0</td>\n",
              "      <td>1500.0</td>\n",
              "      <td>1500.0</td>\n",
              "      <td>1500.0</td>\n",
              "      <td>1500.0</td>\n",
              "      <td>...</td>\n",
              "      <td>1399.481222</td>\n",
              "      <td>1355.675185</td>\n",
              "      <td>1355.675185</td>\n",
              "      <td>1343.731168</td>\n",
              "      <td>1343.731168</td>\n",
              "      <td>1336.859702</td>\n",
              "      <td>1336.859702</td>\n",
              "      <td>1336.859702</td>\n",
              "      <td>1336.859702</td>\n",
              "      <td>1336.859702</td>\n",
              "    </tr>\n",
              "    <tr>\n",
              "      <th>4</th>\n",
              "      <td>Algeria</td>\n",
              "      <td>1500.0</td>\n",
              "      <td>1500.0</td>\n",
              "      <td>1500.0</td>\n",
              "      <td>1500.0</td>\n",
              "      <td>1500.0</td>\n",
              "      <td>1500.0</td>\n",
              "      <td>1500.0</td>\n",
              "      <td>1500.0</td>\n",
              "      <td>1500.0</td>\n",
              "      <td>...</td>\n",
              "      <td>1740.572990</td>\n",
              "      <td>1738.971650</td>\n",
              "      <td>1710.647093</td>\n",
              "      <td>1652.414608</td>\n",
              "      <td>1614.162237</td>\n",
              "      <td>1741.221947</td>\n",
              "      <td>1756.721522</td>\n",
              "      <td>1818.896327</td>\n",
              "      <td>1796.483943</td>\n",
              "      <td>1800.388304</td>\n",
              "    </tr>\n",
              "  </tbody>\n",
              "</table>\n",
              "<p>5 rows × 153 columns</p>\n",
              "</div>"
            ],
            "text/plain": [
              "       country    1872    1873    1874    1875    1876    1877    1878  \\\n",
              "0     Abkhazia  1500.0  1500.0  1500.0  1500.0  1500.0  1500.0  1500.0   \n",
              "1  Afghanistan  1500.0  1500.0  1500.0  1500.0  1500.0  1500.0  1500.0   \n",
              "2      Albania  1500.0  1500.0  1500.0  1500.0  1500.0  1500.0  1500.0   \n",
              "3     Alderney  1500.0  1500.0  1500.0  1500.0  1500.0  1500.0  1500.0   \n",
              "4      Algeria  1500.0  1500.0  1500.0  1500.0  1500.0  1500.0  1500.0   \n",
              "\n",
              "     1879    1880  ...         2014         2015         2016         2017  \\\n",
              "0  1500.0  1500.0  ...  1495.933727  1495.933727  1541.988144  1536.597870   \n",
              "1  1500.0  1500.0  ...  1285.742074  1309.722983  1313.441091  1321.562707   \n",
              "2  1500.0  1500.0  ...  1607.064865  1630.177782  1596.914714  1624.582143   \n",
              "3  1500.0  1500.0  ...  1399.481222  1355.675185  1355.675185  1343.731168   \n",
              "4  1500.0  1500.0  ...  1740.572990  1738.971650  1710.647093  1652.414608   \n",
              "\n",
              "          2018         2019         2020         2021         2022  \\\n",
              "0  1573.682634  1590.633376  1590.633376  1590.633376  1590.633376   \n",
              "1  1314.735193  1310.864965  1310.864965  1315.257412  1279.155143   \n",
              "2  1536.531153  1551.969675  1576.881358  1607.633618  1569.770664   \n",
              "3  1343.731168  1336.859702  1336.859702  1336.859702  1336.859702   \n",
              "4  1614.162237  1741.221947  1756.721522  1818.896327  1796.483943   \n",
              "\n",
              "          2023  \n",
              "0  1590.633376  \n",
              "1  1279.155143  \n",
              "2  1566.368467  \n",
              "3  1336.859702  \n",
              "4  1800.388304  \n",
              "\n",
              "[5 rows x 153 columns]"
            ]
          },
          "execution_count": 28,
          "metadata": {},
          "output_type": "execute_result"
        }
      ],
      "source": [
        "# Create a goal_dif column\n",
        "results['goal_dif'] = results['home_score'] - results['away_score']\n",
        "# Create a total_goals column\n",
        "results['total_goals'] = results['home_score'] + results['away_score']\n",
        "# Change type of date column to datetime\n",
        "results['date'] = pd.to_datetime(results.date)\n",
        "# Add column year\n",
        "results['year'] = results.date.map(lambda x: x.year)\n",
        "\n",
        "\n",
        "# Assigning default rating of 1500 to each team\n",
        "unique_team_list = np.unique(pd.concat([results.home_team, results.away_team], ignore_index=True))\n",
        "rating_dict = {team:1500 for team in unique_team_list}\n",
        "# Assign each year of dataset\n",
        "year_list = results.year.unique()\n",
        "year_dict = dict()\n",
        "\n",
        "# Itarate years to calculate elo ranking\n",
        "for year in year_list:\n",
        "    # Select mask with year of the iteration\n",
        "    mask = results['year'] == year\n",
        "    results_temp = results[mask][['home_team', 'away_team', 'goal_dif', 'tournament', 'neutral']]\n",
        "    \n",
        "    # Iterate dataframe to calculate elo ranking changes\n",
        "    for index, row in results_temp.iterrows():\n",
        "        \n",
        "        # Get home and away teams names\n",
        "        home_team = row.home_team\n",
        "        away_team = row.away_team\n",
        "        \n",
        "        # Get other informations\n",
        "        goal_dif = row.goal_dif\n",
        "        tournament = row.tournament\n",
        "        neutral = row.neutral\n",
        "        \n",
        "        # Get home and away teams scores\n",
        "        home_team_score = rating_dict[home_team]\n",
        "        away_team_score = rating_dict[away_team]\n",
        "        \n",
        "        # Calculate new scores according to result of the match\n",
        "        home_team_score, away_team_score = elo(home_team_score, away_team_score, goal_dif, tournament, neutral)\n",
        "        \n",
        "        # Assign new scores\n",
        "        rating_dict[home_team] = home_team_score\n",
        "        rating_dict[away_team] = away_team_score\n",
        "\n",
        "    # Transform rating_dict into DataFrame\n",
        "    year_dict[year] = rating_dict.copy()\n",
        "\n",
        "country_ranking = pd.DataFrame.from_dict(year_dict)\n",
        "country_ranking = country_ranking.reset_index().rename(columns={'index': 'country'})\n",
        "country_ranking.head()"
      ]
    },
    {
      "cell_type": "markdown",
      "metadata": {
        "id": "lcAVvNsJK8Tw"
      },
      "source": [
        "### **Adding features**\n",
        "\n",
        "To enhance our data frame, we sourced the country confederation information from the [FIFA Countries Audience Dataset](https://raw.githubusercontent.com/fivethirtyeight/data/master/fifa/fifa_countries_audience.csv), and the shortcode data from [ISO-3166-Countries-with-Regional-Codes]('https://raw.githubusercontent.com/lukes/ISO-3166-Countries-with-Regional-Codes/master/all/all.csv'). By merging these datasets with our Elo ranking data, we now have a comprehensive data frame that includes country, confederation, and shortcode information. This enriched data frame significantly aids visualization and analysis, allowing us to examine team performances within their respective confederations, compare countries using their shortcodes, and gain deeper insights into the relationships between Elo rankings and country attributes."
      ]
    },
    {
      "cell_type": "code",
      "execution_count": null,
      "metadata": {
        "id": "kee0X0K5K8Tw",
        "outputId": "76700c85-64ec-45f9-986f-2de9d9be2d66"
      },
      "outputs": [
        {
          "data": {
            "text/html": [
              "<div>\n",
              "<style scoped>\n",
              "    .dataframe tbody tr th:only-of-type {\n",
              "        vertical-align: middle;\n",
              "    }\n",
              "\n",
              "    .dataframe tbody tr th {\n",
              "        vertical-align: top;\n",
              "    }\n",
              "\n",
              "    .dataframe thead th {\n",
              "        text-align: right;\n",
              "    }\n",
              "</style>\n",
              "<table border=\"1\" class=\"dataframe\">\n",
              "  <thead>\n",
              "    <tr style=\"text-align: right;\">\n",
              "      <th></th>\n",
              "      <th>country</th>\n",
              "      <th>2023</th>\n",
              "      <th>confederation</th>\n",
              "      <th>code</th>\n",
              "    </tr>\n",
              "  </thead>\n",
              "  <tbody>\n",
              "    <tr>\n",
              "      <th>0</th>\n",
              "      <td>Abkhazia</td>\n",
              "      <td>1590.633376</td>\n",
              "      <td>Not Found</td>\n",
              "      <td>NaN</td>\n",
              "    </tr>\n",
              "    <tr>\n",
              "      <th>1</th>\n",
              "      <td>Afghanistan</td>\n",
              "      <td>1279.155143</td>\n",
              "      <td>AFC</td>\n",
              "      <td>:af:</td>\n",
              "    </tr>\n",
              "    <tr>\n",
              "      <th>2</th>\n",
              "      <td>Albania</td>\n",
              "      <td>1566.368467</td>\n",
              "      <td>UEFA</td>\n",
              "      <td>:al:</td>\n",
              "    </tr>\n",
              "    <tr>\n",
              "      <th>3</th>\n",
              "      <td>Alderney</td>\n",
              "      <td>1336.859702</td>\n",
              "      <td>Not Found</td>\n",
              "      <td>NaN</td>\n",
              "    </tr>\n",
              "    <tr>\n",
              "      <th>4</th>\n",
              "      <td>Algeria</td>\n",
              "      <td>1800.388304</td>\n",
              "      <td>CAF</td>\n",
              "      <td>:dz:</td>\n",
              "    </tr>\n",
              "  </tbody>\n",
              "</table>\n",
              "</div>"
            ],
            "text/plain": [
              "       country         2023 confederation  code\n",
              "0     Abkhazia  1590.633376     Not Found   NaN\n",
              "1  Afghanistan  1279.155143           AFC  :af:\n",
              "2      Albania  1566.368467          UEFA  :al:\n",
              "3     Alderney  1336.859702     Not Found   NaN\n",
              "4      Algeria  1800.388304           CAF  :dz:"
            ]
          },
          "execution_count": 29,
          "metadata": {},
          "output_type": "execute_result"
        }
      ],
      "source": [
        "# Add country confederation\n",
        "country_confederation = pd.read_csv('https://raw.githubusercontent.com/fivethirtyeight/data/master/fifa/fifa_countries_audience.csv')\n",
        "country_confederation_country = np.array(country_confederation.country)\n",
        "country_confederation_confed = np.array(country_confederation.confederation)\n",
        "country_confederation_dict = dict(zip(country_confederation_country, country_confederation_confed))\n",
        "country_confederation_dict['England'] = 'UEFA'\n",
        "country_confederation_dict['Scotland'] = 'UEFA'\n",
        "country_ranking['confederation'] = country_ranking['country'].apply(lambda x : country_confederation_dict.get(x))\n",
        "country_ranking.confederation.fillna('Not Found', inplace=True)\n",
        "\n",
        "# Add country shortcode\n",
        "country_shortcode = pd.read_csv('https://raw.githubusercontent.com/lukes/ISO-3166-Countries-with-Regional-Codes/master/all/all.csv')\n",
        "country_code_name = np.array(country_shortcode.name)\n",
        "country_code_alpha = np.array(country_shortcode['alpha-2'])\n",
        "country_code_dict = dict(zip(country_code_name, country_code_alpha))\n",
        "country_ranking['code'] = country_ranking['country'].apply(lambda x : country_code_dict.get(x))\n",
        "country_ranking.code = ':' + country_ranking.code.str.lower() + ':'\n",
        "country_ranking[['country', 2023, 'confederation', 'code']].head()"
      ]
    },
    {
      "cell_type": "markdown",
      "metadata": {
        "id": "GobWqKwPK8Tx"
      },
      "source": [
        "### **Top 15 Elo Ranking Teams by Confederation**\n",
        "\n",
        "This visualization showcases the current top teams and their confederations. Argentina and Brazil emerge as the leading teams, followed by a strong presence of European teams. In total, we observe 9 European teams, 4 South American teams, and representation from CAF (Morocco) and AFC (Japan). This highlights the dominance of European and South American teams in the Elo ranking."
      ]
    },
    {
      "cell_type": "code",
      "execution_count": null,
      "metadata": {
        "id": "XlEJ6_NpK8Tx",
        "outputId": "a3437eb9-b004-432e-ef0a-9e6d9385e873"
      },
      "outputs": [
        {
          "data": {
            "image/png": "[encoded data removed]",
            "text/plain": [
              "<Figure size 720x432 with 1 Axes>"
            ]
          },
          "metadata": {},
          "output_type": "display_data"
        }
      ],
      "source": [
        "# Visualization\n",
        "plt.figure(figsize=(10,6))\n",
        "ax = sns.barplot(data=country_ranking.sort_values(by=2023, ascending=False).head(15), x=2023, y='country', hue='confederation', dodge=False)\n",
        "ax.set_title(\"World Football Top 15 Score\", y=1.12, size=16)\n",
        "sns.move_legend(ax, \"upper left\", bbox_to_anchor=(0.17, 1.132), ncol=4)\n",
        "ax.set_xlabel(\"score\")\n",
        "\n",
        "# Show\n",
        "plt.show()"
      ]
    },
    {
      "cell_type": "markdown",
      "metadata": {
        "id": "RaiUXKC4K8Tx"
      },
      "source": [
        "### **Using k-means algorithm to determine the best and worst teams in history.**\n",
        "\n",
        "The k-means algorithm is commonly used in data clustering to group similar data points together based on their features or attributes. In the context of Elo rankings, applying the k-means algorithm allows us to categorize teams into distinct clusters based on their performance similarities.\n",
        "\n",
        "By setting the value of k (the number of clusters) to 5, we were able to identify five distinct groups:\n",
        "\n",
        "1. Best teams: This cluster comprises the top-performing teams with consistently high Elo rankings.\n",
        "2. Good teams: These teams exhibit above-average performance but may have slightly lower Elo rankings compared to the best teams.\n",
        "3. Average teams: This cluster consists of teams with moderate performance and Elo rankings.\n",
        "4. Bad teams: Teams in this cluster have below-average performance and lower Elo rankings.\n",
        "5. Worst teams: This cluster represents the lowest-performing teams with the lowest Elo rankings.\n",
        "\n",
        "Additionally, it is interesting to note that all the champions and runners-up of the FIFA World Cup, with the exception of Croatia, were grouped in the best teams cluster. This indicates that the k-means algorithm successfully identifies teams with outstanding performances and recognizes their achievements in major tournaments."
      ]
    },
    {
      "cell_type": "code",
      "execution_count": null,
      "metadata": {
        "id": "Sma0VOsnK8Tx"
      },
      "outputs": [],
      "source": [
        "# Select numeric columns and change type of column name\n",
        "teste = country_ranking.iloc[:, 1:-2].copy()\n",
        "teste.columns = teste.columns.astype(str)"
      ]
    },
    {
      "cell_type": "markdown",
      "metadata": {
        "id": "VGvoWrkyK8Tx"
      },
      "source": [
        "#### **Group Visualization (K = 2)**"
      ]
    },
    {
      "cell_type": "code",
      "execution_count": null,
      "metadata": {
        "id": "K-fbwYsEK8Tx",
        "outputId": "431313c9-cc08-4016-c55e-d4b34e46a1f5"
      },
      "outputs": [
        {
          "data": {
            "image/png": "[encoded data removed]",
            "text/plain": [
              "<Figure size 432x288 with 1 Axes>"
            ]
          },
          "metadata": {},
          "output_type": "display_data"
        }
      ],
      "source": [
        "kmeans_elo = KMeans(n_clusters=2, n_init=20, random_state=MYSEED)\n",
        "kmeans_elo.fit(teste)\n",
        "ax = sns.scatterplot(data=teste, y='2023', x='2002', hue=kmeans_elo.labels_, palette=\"colorblind\")\n",
        "ax.set_title(\"K-Means of Football Elo Ranking (K=2)\")\n",
        "\n",
        "lgnd_labels = ['Good teams', 'Bad teams']\n",
        "lgnd_handles, _ = ax.get_legend_handles_labels()\n",
        "\n",
        "ax.legend(lgnd_handles, lgnd_labels, fontsize=10)\n",
        "sns.move_legend(ax, \"upper left\", bbox_to_anchor=(1,1.02))\n",
        "\n",
        "plt.show()"
      ]
    },
    {
      "cell_type": "markdown",
      "metadata": {
        "id": "K6uLcEJ1K8Tx"
      },
      "source": [
        "#### **Group Visualization (K = 3)**"
      ]
    },
    {
      "cell_type": "code",
      "execution_count": null,
      "metadata": {
        "id": "lh5QXVGqK8Tx",
        "outputId": "10fac718-f419-4a93-bf6e-9bda00e49d66"
      },
      "outputs": [
        {
          "data": {
            "image/png": "[encoded data removed]",
            "text/plain": [
              "<Figure size 432x288 with 1 Axes>"
            ]
          },
          "metadata": {},
          "output_type": "display_data"
        }
      ],
      "source": [
        "kmeans_elo = KMeans(n_clusters=3, n_init=20, random_state=MYSEED)\n",
        "kmeans_elo.fit(teste)\n",
        "ax = sns.scatterplot(data=teste, y='2023', x='2002', hue=kmeans_elo.labels_, palette=\"colorblind\")\n",
        "ax.set_title(\"K-Means of Football Elo Ranking (K=3)\")\n",
        "sns.move_legend(ax, \"upper left\", bbox_to_anchor=(1,1.02))\n",
        "\n",
        "lgnd_labels = ['Average teams', 'Bad teams', 'Good teams']\n",
        "lgnd_handles, _ = ax.get_legend_handles_labels()\n",
        "\n",
        "ax.legend(lgnd_handles, lgnd_labels, fontsize=10)\n",
        "sns.move_legend(ax, \"upper left\", bbox_to_anchor=(1,1.02))\n",
        "\n",
        "plt.show()"
      ]
    },
    {
      "cell_type": "markdown",
      "metadata": {
        "id": "ccfm_c3JK8Ty"
      },
      "source": [
        "#### **Group Visualization (K = 4)**"
      ]
    },
    {
      "cell_type": "code",
      "execution_count": null,
      "metadata": {
        "id": "YOKWd8STK8Ty",
        "outputId": "6293e26e-564c-4c88-87ef-27f328ce2889"
      },
      "outputs": [
        {
          "data": {
            "image/png": "[encoded data removed]",
            "text/plain": [
              "<Figure size 432x288 with 1 Axes>"
            ]
          },
          "metadata": {},
          "output_type": "display_data"
        }
      ],
      "source": [
        "kmeans_elo = KMeans(n_clusters=4, n_init=20, random_state=MYSEED)\n",
        "kmeans_elo.fit(teste)\n",
        "ax = sns.scatterplot(data=teste, y='2023', x='2002', hue=kmeans_elo.labels_, palette=\"colorblind\")\n",
        "ax.set_title(\"K-Means of Football Elo Ranking (K=4)\")\n",
        "sns.move_legend(ax, \"upper left\", bbox_to_anchor=(1,1.02))\n",
        "\n",
        "lgnd_labels = ['Good teams', 'Bad teams', 'Average teams', 'Best teams']\n",
        "lgnd_handles, _ = ax.get_legend_handles_labels()\n",
        "\n",
        "ax.legend(lgnd_handles, lgnd_labels, fontsize=10)\n",
        "sns.move_legend(ax, \"upper left\", bbox_to_anchor=(1,1.02))\n",
        "\n",
        "plt.show()"
      ]
    },
    {
      "cell_type": "markdown",
      "metadata": {
        "id": "u2hGb9oMK8Ty"
      },
      "source": [
        "#### **Group Visualization (K = 5)**"
      ]
    },
    {
      "cell_type": "code",
      "execution_count": null,
      "metadata": {
        "scrolled": true,
        "id": "-EgXs0hQK8Ty",
        "outputId": "86f8d78a-44af-47eb-8816-7cd525484aaa"
      },
      "outputs": [
        {
          "data": {
            "image/png": "[encoded data removed]",
            "text/plain": [
              "<Figure size 432x288 with 1 Axes>"
            ]
          },
          "metadata": {},
          "output_type": "display_data"
        }
      ],
      "source": [
        "kmeans_elo = KMeans(n_clusters=5, n_init=20, random_state=MYSEED)\n",
        "kmeans_elo.fit(teste)\n",
        "ax = sns.scatterplot(data=teste, y='2023', x='2002', hue=kmeans_elo.labels_, palette=\"colorblind\")\n",
        "ax.set_title(\"K-Means of Football Elo Ranking (K=5)\")\n",
        "sns.move_legend(ax, \"upper left\", bbox_to_anchor=(1,1.02))\n",
        "\n",
        "lgnd_labels = ['Bad teams', 'Good teams', 'Worst teams', 'Best teams', 'Average teams']\n",
        "lgnd_handles, _ = ax.get_legend_handles_labels()\n",
        "\n",
        "ax.legend(lgnd_handles, lgnd_labels, fontsize=10)\n",
        "sns.move_legend(ax, \"upper left\", bbox_to_anchor=(1,1.02))\n",
        "\n",
        "plt.show()"
      ]
    },
    {
      "cell_type": "markdown",
      "metadata": {
        "id": "LJfP0D0wK8Ty"
      },
      "source": [
        "#### **Show best teams names**"
      ]
    },
    {
      "cell_type": "code",
      "execution_count": null,
      "metadata": {
        "id": "mwnTtI4SK8Ty",
        "outputId": "92a7ca68-871d-4e84-ea15-2119e2080143"
      },
      "outputs": [
        {
          "data": {
            "text/html": [
              "<div>\n",
              "<style scoped>\n",
              "    .dataframe tbody tr th:only-of-type {\n",
              "        vertical-align: middle;\n",
              "    }\n",
              "\n",
              "    .dataframe tbody tr th {\n",
              "        vertical-align: top;\n",
              "    }\n",
              "\n",
              "    .dataframe thead th {\n",
              "        text-align: right;\n",
              "    }\n",
              "</style>\n",
              "<table border=\"1\" class=\"dataframe\">\n",
              "  <thead>\n",
              "    <tr style=\"text-align: right;\">\n",
              "      <th></th>\n",
              "      <th>country</th>\n",
              "      <th>confederation</th>\n",
              "    </tr>\n",
              "  </thead>\n",
              "  <tbody>\n",
              "    <tr>\n",
              "      <th>12</th>\n",
              "      <td>Argentina</td>\n",
              "      <td>CONMEBOL</td>\n",
              "    </tr>\n",
              "    <tr>\n",
              "      <th>38</th>\n",
              "      <td>Brazil</td>\n",
              "      <td>CONMEBOL</td>\n",
              "    </tr>\n",
              "    <tr>\n",
              "      <th>74</th>\n",
              "      <td>Czechoslovakia</td>\n",
              "      <td>Not Found</td>\n",
              "    </tr>\n",
              "    <tr>\n",
              "      <th>85</th>\n",
              "      <td>England</td>\n",
              "      <td>UEFA</td>\n",
              "    </tr>\n",
              "    <tr>\n",
              "      <th>96</th>\n",
              "      <td>France</td>\n",
              "      <td>UEFA</td>\n",
              "    </tr>\n",
              "    <tr>\n",
              "      <th>104</th>\n",
              "      <td>Germany</td>\n",
              "      <td>UEFA</td>\n",
              "    </tr>\n",
              "    <tr>\n",
              "      <th>124</th>\n",
              "      <td>Hungary</td>\n",
              "      <td>UEFA</td>\n",
              "    </tr>\n",
              "    <tr>\n",
              "      <th>134</th>\n",
              "      <td>Italy</td>\n",
              "      <td>UEFA</td>\n",
              "    </tr>\n",
              "    <tr>\n",
              "      <th>187</th>\n",
              "      <td>Netherlands</td>\n",
              "      <td>UEFA</td>\n",
              "    </tr>\n",
              "    <tr>\n",
              "      <th>226</th>\n",
              "      <td>Russia</td>\n",
              "      <td>UEFA</td>\n",
              "    </tr>\n",
              "    <tr>\n",
              "      <th>241</th>\n",
              "      <td>Scotland</td>\n",
              "      <td>UEFA</td>\n",
              "    </tr>\n",
              "    <tr>\n",
              "      <th>259</th>\n",
              "      <td>Spain</td>\n",
              "      <td>UEFA</td>\n",
              "    </tr>\n",
              "    <tr>\n",
              "      <th>264</th>\n",
              "      <td>Sweden</td>\n",
              "      <td>UEFA</td>\n",
              "    </tr>\n",
              "    <tr>\n",
              "      <th>293</th>\n",
              "      <td>Uruguay</td>\n",
              "      <td>CONMEBOL</td>\n",
              "    </tr>\n",
              "    <tr>\n",
              "      <th>311</th>\n",
              "      <td>Yugoslavia</td>\n",
              "      <td>Not Found</td>\n",
              "    </tr>\n",
              "  </tbody>\n",
              "</table>\n",
              "</div>"
            ],
            "text/plain": [
              "            country confederation\n",
              "12        Argentina      CONMEBOL\n",
              "38           Brazil      CONMEBOL\n",
              "74   Czechoslovakia     Not Found\n",
              "85          England          UEFA\n",
              "96           France          UEFA\n",
              "104         Germany          UEFA\n",
              "124         Hungary          UEFA\n",
              "134           Italy          UEFA\n",
              "187     Netherlands          UEFA\n",
              "226          Russia          UEFA\n",
              "241        Scotland          UEFA\n",
              "259           Spain          UEFA\n",
              "264          Sweden          UEFA\n",
              "293         Uruguay      CONMEBOL\n",
              "311      Yugoslavia     Not Found"
            ]
          },
          "execution_count": 36,
          "metadata": {},
          "output_type": "execute_result"
        }
      ],
      "source": [
        "country_ranking[['country', 'confederation']][kmeans_elo.labels_ == 3]"
      ]
    },
    {
      "cell_type": "markdown",
      "metadata": {
        "id": "bvT-V-0zK8Tz"
      },
      "source": [
        "## **7. How does the average number of goals scored per match change during major international tournaments?**"
      ]
    },
    {
      "cell_type": "code",
      "execution_count": null,
      "metadata": {
        "id": "H5iT-3kjK8Tz"
      },
      "outputs": [],
      "source": []
    },
    {
      "cell_type": "markdown",
      "metadata": {
        "id": "ojLG0bMdK8Tz"
      },
      "source": [
        "# **Conclusion**"
      ]
    },
    {
      "cell_type": "markdown",
      "metadata": {
        "id": "noucQe9EK8Tz"
      },
      "source": [
        "To be updated"
      ]
    }
  ],
  "metadata": {
    "colab": {
      "provenance": []
    },
    "kernelspec": {
      "display_name": "Python 3 (ipykernel)",
      "language": "python",
      "name": "python3"
    },
    "language_info": {
      "codemirror_mode": {
        "name": "ipython",
        "version": 3
      },
      "file_extension": ".py",
      "mimetype": "text/x-python",
      "name": "python",
      "nbconvert_exporter": "python",
      "pygments_lexer": "ipython3",
      "version": "3.10.1"
    }
  },
  "nbformat": 4,
  "nbformat_minor": 0
}